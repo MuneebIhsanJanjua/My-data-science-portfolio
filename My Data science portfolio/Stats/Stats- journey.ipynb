{
 "cells": [
  {
   "cell_type": "markdown",
   "id": "b8caa728-521a-490f-a417-e6f5a96f835e",
   "metadata": {},
   "source": [
    "# Stats pracitce "
   ]
  },
  {
   "cell_type": "code",
   "execution_count": 3,
   "id": "3d895e8e-b1b8-4f24-8fed-711b90a91a8b",
   "metadata": {},
   "outputs": [],
   "source": [
    "import pandas as pd \n",
    "import numpy as np\n",
    "import seaborn as sns\n",
    "import matplotlib.pyplot as plt\n",
    "from scipy import stats\n",
    "from sklearn.preprocessing import QuantileTransformer"
   ]
  },
  {
   "cell_type": "code",
   "execution_count": null,
   "id": "5ddcda2e-c3f9-495a-9d01-6f1a924117a8",
   "metadata": {},
   "outputs": [],
   "source": []
  },
  {
   "cell_type": "code",
   "execution_count": 4,
   "id": "5a4d1f5d-2536-402d-9818-de8299b3a307",
   "metadata": {},
   "outputs": [],
   "source": [
    "df = np.random.randint(0,100,100)"
   ]
  },
  {
   "cell_type": "markdown",
   "id": "5c438789-9e61-4664-8982-9441116b341d",
   "metadata": {},
   "source": [
    "mean"
   ]
  },
  {
   "cell_type": "code",
   "execution_count": 6,
   "id": "e1dd73e6-d867-482d-ad62-06bdf95eeb60",
   "metadata": {},
   "outputs": [
    {
     "data": {
      "text/plain": [
       "46.73"
      ]
     },
     "execution_count": 6,
     "metadata": {},
     "output_type": "execute_result"
    }
   ],
   "source": [
    "np.mean(df)"
   ]
  },
  {
   "cell_type": "code",
   "execution_count": 7,
   "id": "4edd5e9a-66c4-40c9-a413-1635d0cde1cb",
   "metadata": {},
   "outputs": [
    {
     "data": {
      "text/plain": [
       "48.0"
      ]
     },
     "execution_count": 7,
     "metadata": {},
     "output_type": "execute_result"
    }
   ],
   "source": [
    "#median\n",
    "np.median(df)"
   ]
  },
  {
   "cell_type": "code",
   "execution_count": 8,
   "id": "a3cf13ec-e31b-4e67-aa51-96c9acbe1284",
   "metadata": {},
   "outputs": [
    {
     "data": {
      "text/plain": [
       "ModeResult(mode=23, count=4)"
      ]
     },
     "execution_count": 8,
     "metadata": {},
     "output_type": "execute_result"
    }
   ],
   "source": [
    "stats.mode(df)"
   ]
  },
  {
   "cell_type": "markdown",
   "id": "72fc6ad7-19d2-4a6a-b0bc-1569514b3d0f",
   "metadata": {},
   "source": [
    "## spread"
   ]
  },
  {
   "cell_type": "code",
   "execution_count": 10,
   "id": "a850a48a-9f46-4598-a335-5488b9cf1d6c",
   "metadata": {},
   "outputs": [],
   "source": [
    "range= np.max(df)-np.min(df)"
   ]
  },
  {
   "cell_type": "code",
   "execution_count": 11,
   "id": "3e6b5a90-5f72-4506-8b2f-e3d6321a44d8",
   "metadata": {},
   "outputs": [
    {
     "data": {
      "text/plain": [
       "93"
      ]
     },
     "execution_count": 11,
     "metadata": {},
     "output_type": "execute_result"
    }
   ],
   "source": [
    "range"
   ]
  },
  {
   "cell_type": "code",
   "execution_count": 12,
   "id": "6d742318-9d88-4533-959d-755ae69dbada",
   "metadata": {},
   "outputs": [],
   "source": [
    "max = np.max(df)\n",
    "min = np.min(df)\n",
    "range2 = max - min "
   ]
  },
  {
   "cell_type": "code",
   "execution_count": 13,
   "id": "a17d7eb3-b892-4bc8-8fc9-2d8d0e19072c",
   "metadata": {},
   "outputs": [
    {
     "data": {
      "text/plain": [
       "93"
      ]
     },
     "execution_count": 13,
     "metadata": {},
     "output_type": "execute_result"
    }
   ],
   "source": [
    "range2"
   ]
  },
  {
   "cell_type": "code",
   "execution_count": 14,
   "id": "79037e10-f114-454c-ace3-de820889f076",
   "metadata": {},
   "outputs": [
    {
     "data": {
      "text/plain": [
       "array([86, 36, 86, 93, 64, 86, 21, 19, 32, 75,  5, 87, 92,  8, 65, 60, 56,\n",
       "       31, 16, 11, 63, 21, 85,  9, 23,  1, 38,  3, 34, 84, 61, 22, 18, 65,\n",
       "       23, 35, 57, 18, 84, 19, 49, 57, 70, 87, 29, 41, 41, 24,  6, 90, 85,\n",
       "       89, 54, 62, 68,  1, 70, 65, 93, 23, 20, 48, 61, 53,  6, 48, 70, 64,\n",
       "       91, 28, 69, 40,  9, 23, 37,  0, 25, 40, 75, 44, 11,  1,  2, 49, 56,\n",
       "       38, 48, 87,  2, 39, 72, 40, 29, 57, 59, 76, 27, 64, 93, 76])"
      ]
     },
     "execution_count": 14,
     "metadata": {},
     "output_type": "execute_result"
    }
   ],
   "source": [
    "df"
   ]
  },
  {
   "cell_type": "code",
   "execution_count": 15,
   "id": "ed8a1208-ef70-41c1-a1c4-6fe78af4c4dd",
   "metadata": {},
   "outputs": [],
   "source": [
    "var = np.var(df, ddof=1)"
   ]
  },
  {
   "cell_type": "code",
   "execution_count": 16,
   "id": "2013ca29-d402-4dad-9042-462a1d214795",
   "metadata": {},
   "outputs": [
    {
     "data": {
      "text/plain": [
       "794.5021212121213"
      ]
     },
     "execution_count": 16,
     "metadata": {},
     "output_type": "execute_result"
    }
   ],
   "source": [
    "var"
   ]
  },
  {
   "cell_type": "code",
   "execution_count": 17,
   "id": "451e1d92-a494-4ee2-9ce1-da12ae53662c",
   "metadata": {},
   "outputs": [
    {
     "data": {
      "text/plain": [
       "28.186914006540718"
      ]
     },
     "execution_count": 17,
     "metadata": {},
     "output_type": "execute_result"
    }
   ],
   "source": [
    "std = np.std(df,ddof=1) ## ddof mean here for sample data .. when population we use ddof =0\n",
    "std"
   ]
  },
  {
   "cell_type": "code",
   "execution_count": 18,
   "id": "a854f542-dfed-43d0-acac-b84697e57d50",
   "metadata": {},
   "outputs": [],
   "source": [
    "df = pd.read_csv('/home/mebi/ML_projects/tips.csv')"
   ]
  },
  {
   "cell_type": "code",
   "execution_count": 19,
   "id": "7e19d23d-3fef-41dc-905c-107c4ee5aeef",
   "metadata": {},
   "outputs": [
    {
     "data": {
      "text/html": [
       "<div>\n",
       "<style scoped>\n",
       "    .dataframe tbody tr th:only-of-type {\n",
       "        vertical-align: middle;\n",
       "    }\n",
       "\n",
       "    .dataframe tbody tr th {\n",
       "        vertical-align: top;\n",
       "    }\n",
       "\n",
       "    .dataframe thead th {\n",
       "        text-align: right;\n",
       "    }\n",
       "</style>\n",
       "<table border=\"1\" class=\"dataframe\">\n",
       "  <thead>\n",
       "    <tr style=\"text-align: right;\">\n",
       "      <th></th>\n",
       "      <th>total_bill</th>\n",
       "      <th>tip</th>\n",
       "      <th>sex</th>\n",
       "      <th>smoker</th>\n",
       "      <th>day</th>\n",
       "      <th>time</th>\n",
       "      <th>size</th>\n",
       "      <th>price_per_person</th>\n",
       "      <th>Payer Name</th>\n",
       "      <th>CC Number</th>\n",
       "      <th>Payment ID</th>\n",
       "    </tr>\n",
       "  </thead>\n",
       "  <tbody>\n",
       "    <tr>\n",
       "      <th>0</th>\n",
       "      <td>16.99</td>\n",
       "      <td>1.01</td>\n",
       "      <td>Female</td>\n",
       "      <td>No</td>\n",
       "      <td>Sun</td>\n",
       "      <td>Dinner</td>\n",
       "      <td>2</td>\n",
       "      <td>8.49</td>\n",
       "      <td>Christy Cunningham</td>\n",
       "      <td>3560325168603410</td>\n",
       "      <td>Sun2959</td>\n",
       "    </tr>\n",
       "    <tr>\n",
       "      <th>1</th>\n",
       "      <td>10.34</td>\n",
       "      <td>1.66</td>\n",
       "      <td>Male</td>\n",
       "      <td>No</td>\n",
       "      <td>Sun</td>\n",
       "      <td>Dinner</td>\n",
       "      <td>3</td>\n",
       "      <td>3.45</td>\n",
       "      <td>Douglas Tucker</td>\n",
       "      <td>4478071379779230</td>\n",
       "      <td>Sun4608</td>\n",
       "    </tr>\n",
       "    <tr>\n",
       "      <th>2</th>\n",
       "      <td>21.01</td>\n",
       "      <td>3.50</td>\n",
       "      <td>Male</td>\n",
       "      <td>No</td>\n",
       "      <td>Sun</td>\n",
       "      <td>Dinner</td>\n",
       "      <td>3</td>\n",
       "      <td>7.00</td>\n",
       "      <td>Travis Walters</td>\n",
       "      <td>6011812112971322</td>\n",
       "      <td>Sun4458</td>\n",
       "    </tr>\n",
       "    <tr>\n",
       "      <th>3</th>\n",
       "      <td>23.68</td>\n",
       "      <td>3.31</td>\n",
       "      <td>Male</td>\n",
       "      <td>No</td>\n",
       "      <td>Sun</td>\n",
       "      <td>Dinner</td>\n",
       "      <td>2</td>\n",
       "      <td>11.84</td>\n",
       "      <td>Nathaniel Harris</td>\n",
       "      <td>4676137647685994</td>\n",
       "      <td>Sun5260</td>\n",
       "    </tr>\n",
       "    <tr>\n",
       "      <th>4</th>\n",
       "      <td>24.59</td>\n",
       "      <td>3.61</td>\n",
       "      <td>Female</td>\n",
       "      <td>No</td>\n",
       "      <td>Sun</td>\n",
       "      <td>Dinner</td>\n",
       "      <td>4</td>\n",
       "      <td>6.15</td>\n",
       "      <td>Tonya Carter</td>\n",
       "      <td>4832732618637221</td>\n",
       "      <td>Sun2251</td>\n",
       "    </tr>\n",
       "  </tbody>\n",
       "</table>\n",
       "</div>"
      ],
      "text/plain": [
       "   total_bill   tip     sex smoker  day    time  size  price_per_person  \\\n",
       "0       16.99  1.01  Female     No  Sun  Dinner     2              8.49   \n",
       "1       10.34  1.66    Male     No  Sun  Dinner     3              3.45   \n",
       "2       21.01  3.50    Male     No  Sun  Dinner     3              7.00   \n",
       "3       23.68  3.31    Male     No  Sun  Dinner     2             11.84   \n",
       "4       24.59  3.61  Female     No  Sun  Dinner     4              6.15   \n",
       "\n",
       "           Payer Name         CC Number Payment ID  \n",
       "0  Christy Cunningham  3560325168603410    Sun2959  \n",
       "1      Douglas Tucker  4478071379779230    Sun4608  \n",
       "2      Travis Walters  6011812112971322    Sun4458  \n",
       "3    Nathaniel Harris  4676137647685994    Sun5260  \n",
       "4        Tonya Carter  4832732618637221    Sun2251  "
      ]
     },
     "execution_count": 19,
     "metadata": {},
     "output_type": "execute_result"
    }
   ],
   "source": [
    "df.head()"
   ]
  },
  {
   "cell_type": "code",
   "execution_count": 20,
   "id": "9b4d8afa-4858-454b-9a67-f9cf1ff73c04",
   "metadata": {},
   "outputs": [],
   "source": [
    "from scipy.stats import skew, kurtosis"
   ]
  },
  {
   "cell_type": "code",
   "execution_count": 21,
   "id": "4edfd309-5667-4ba7-b5d2-c65ae40344a5",
   "metadata": {},
   "outputs": [
    {
     "data": {
      "image/png": "[encoded data removed]",
      "text/plain": [
       "<Figure size 640x480 with 1 Axes>"
      ]
     },
     "metadata": {},
     "output_type": "display_data"
    }
   ],
   "source": [
    "sns.histplot(data = df , x= 'total_bill')\n",
    "plt.show()"
   ]
  },
  {
   "cell_type": "code",
   "execution_count": 22,
   "id": "5f647a12-3d1d-4a9f-9880-50001ab9d60a",
   "metadata": {},
   "outputs": [
    {
     "data": {
      "text/plain": [
       "1.1332130376158205"
      ]
     },
     "execution_count": 22,
     "metadata": {},
     "output_type": "execute_result"
    }
   ],
   "source": [
    "skew = df['total_bill'].skew()\n",
    "kurtosis = df['total_bill'].kurtosis()\n",
    "\n",
    "skew\n"
   ]
  },
  {
   "cell_type": "code",
   "execution_count": 23,
   "id": "30ac02c1-f041-4f92-8da0-e1553323f186",
   "metadata": {},
   "outputs": [
    {
     "data": {
      "text/plain": [
       "1.2184840156638854"
      ]
     },
     "execution_count": 23,
     "metadata": {},
     "output_type": "execute_result"
    }
   ],
   "source": [
    "kurtosis"
   ]
  },
  {
   "cell_type": "code",
   "execution_count": 24,
   "id": "ec4b709a-e1de-4214-b130-23e2f49bb316",
   "metadata": {},
   "outputs": [
    {
     "data": {
      "text/plain": [
       "<Axes: xlabel='total_bill'>"
      ]
     },
     "execution_count": 24,
     "metadata": {},
     "output_type": "execute_result"
    },
    {
     "data": {
      "image/png": "[encoded data removed]",
      "text/plain": [
       "<Figure size 640x480 with 1 Axes>"
      ]
     },
     "metadata": {},
     "output_type": "display_data"
    }
   ],
   "source": [
    "sns.boxplot(data = df,x = \"total_bill\")"
   ]
  },
  {
   "cell_type": "code",
   "execution_count": 25,
   "id": "ae1cf094-d416-4473-a617-a7ad5aea1d39",
   "metadata": {},
   "outputs": [],
   "source": [
    "Cleaned_total_bill=df[df['total_bill']<=40]['total_bill']"
   ]
  },
  {
   "cell_type": "code",
   "execution_count": 26,
   "id": "5bdd26db-0b87-4393-bba7-de5ff3f0e96e",
   "metadata": {},
   "outputs": [
    {
     "data": {
      "text/plain": [
       "23     39.42\n",
       "207    38.73\n",
       "112    38.07\n",
       "56     38.01\n",
       "238    35.83\n",
       "Name: total_bill, dtype: float64"
      ]
     },
     "execution_count": 26,
     "metadata": {},
     "output_type": "execute_result"
    }
   ],
   "source": [
    "Cleaned_total_bill.nlargest()"
   ]
  },
  {
   "cell_type": "code",
   "execution_count": 27,
   "id": "4e235b42-4408-4376-bbb6-46c1797a324d",
   "metadata": {},
   "outputs": [
    {
     "data": {
      "text/plain": [
       "<Axes: ylabel='total_bill'>"
      ]
     },
     "execution_count": 27,
     "metadata": {},
     "output_type": "execute_result"
    },
    {
     "data": {
      "image/png": "[encoded data removed]",
      "text/plain": [
       "<Figure size 640x480 with 1 Axes>"
      ]
     },
     "metadata": {},
     "output_type": "display_data"
    }
   ],
   "source": [
    "sns.boxplot(Cleaned_total_bill)"
   ]
  },
  {
   "cell_type": "code",
   "execution_count": 28,
   "id": "69ecddb4-00a4-41bf-9445-89db21324008",
   "metadata": {},
   "outputs": [
    {
     "data": {
      "text/plain": [
       "39.42"
      ]
     },
     "execution_count": 28,
     "metadata": {},
     "output_type": "execute_result"
    }
   ],
   "source": [
    "Cleaned_total_bill.max()"
   ]
  },
  {
   "cell_type": "code",
   "execution_count": 29,
   "id": "79dfe34d-1a1d-478b-aac2-c615f8b10fa1",
   "metadata": {},
   "outputs": [
    {
     "data": {
      "text/plain": [
       "-0.017441301605542137"
      ]
     },
     "execution_count": 29,
     "metadata": {},
     "output_type": "execute_result"
    }
   ],
   "source": [
    "Cleaned_total_bill.kurtosis()"
   ]
  },
  {
   "cell_type": "code",
   "execution_count": 103,
   "id": "244f425d-e6ea-44bb-b654-595b68be5bba",
   "metadata": {},
   "outputs": [
    {
     "ename": "AttributeError",
     "evalue": "'numpy.ndarray' object has no attribute 'skew'",
     "output_type": "error",
     "traceback": [
      "\u001b[31m---------------------------------------------------------------------------\u001b[39m",
      "\u001b[31mAttributeError\u001b[39m                            Traceback (most recent call last)",
      "\u001b[36mCell\u001b[39m\u001b[36m \u001b[39m\u001b[32mIn[103]\u001b[39m\u001b[32m, line 1\u001b[39m\n\u001b[32m----> \u001b[39m\u001b[32m1\u001b[39m Cleaned_total_bill.skew()\n",
      "\u001b[31mAttributeError\u001b[39m: 'numpy.ndarray' object has no attribute 'skew'"
     ]
    }
   ],
   "source": [
    "Cleaned_total_bill.skew()"
   ]
  },
  {
   "cell_type": "code",
   "execution_count": 30,
   "id": "25c5c561-1121-49d6-a0c4-92dd0afac9ad",
   "metadata": {},
   "outputs": [
    {
     "data": {
      "text/plain": [
       "<Axes: xlabel='total_bill', ylabel='Count'>"
      ]
     },
     "execution_count": 30,
     "metadata": {},
     "output_type": "execute_result"
    },
    {
     "data": {
      "image/png": "[encoded data removed]",
      "text/plain": [
       "<Figure size 640x480 with 1 Axes>"
      ]
     },
     "metadata": {},
     "output_type": "display_data"
    }
   ],
   "source": [
    "sns.histplot(Cleaned_total_bill)"
   ]
  },
  {
   "cell_type": "code",
   "execution_count": 31,
   "id": "eec29d71-f083-4bd3-aaee-479c106889d4",
   "metadata": {},
   "outputs": [],
   "source": [
    "Cleaned_total_bill = pd.DataFrame({'totalbill': Cleaned_total_bill})"
   ]
  },
  {
   "cell_type": "code",
   "execution_count": 32,
   "id": "9d76ebe6-8150-447e-a398-9df0816a1d9e",
   "metadata": {},
   "outputs": [],
   "source": [
    "qt_cleaned_total_bill = QuantileTransformer(output_distribution='normal') "
   ]
  },
  {
   "cell_type": "code",
   "execution_count": 33,
   "id": "1dac1555-10a0-4efb-93ec-859110420e40",
   "metadata": {},
   "outputs": [
    {
     "name": "stderr",
     "output_type": "stream",
     "text": [
      "/home/mebi/anaconda3/lib/python3.12/site-packages/sklearn/preprocessing/_data.py:2829: UserWarning: n_quantiles (1000) is greater than the total number of samples (234). n_quantiles is set to n_samples.\n",
      "  warnings.warn(\n"
     ]
    }
   ],
   "source": [
    "Cleaned_total_bill = qt_cleaned_total_bill.fit_transform(Cleaned_total_bill)"
   ]
  },
  {
   "cell_type": "code",
   "execution_count": 34,
   "id": "d6019dcc-5127-4bde-b3df-e38716bbfbba",
   "metadata": {},
   "outputs": [
    {
     "data": {
      "text/plain": [
       "array([[-0.0484302 ],\n",
       "       [-1.25273977],\n",
       "       [ 0.50475076],\n",
       "       [ 0.71906154],\n",
       "       [ 0.83550492],\n",
       "       [ 0.91438416],\n",
       "       [-1.67252623],\n",
       "       [ 1.03551346],\n",
       "       [-0.39170125],\n",
       "       [-0.42679603],\n",
       "       [-1.36684524],\n",
       "       [ 2.0245027 ],\n",
       "       [-0.3456394 ],\n",
       "       [ 0.20035658],\n",
       "       [-0.41504141],\n",
       "       [ 0.54800133],\n",
       "       [-1.30136646],\n",
       "       [-0.18939224],\n",
       "       [-0.0592039 ],\n",
       "       [ 0.42679603],\n",
       "       [ 0.09697433],\n",
       "       [ 0.37433579],\n",
       "       [-0.28906428],\n",
       "       [ 5.19933758],\n",
       "       [ 0.32288661],\n",
       "       [ 0.0592039 ],\n",
       "       [-0.63779805],\n",
       "       [-0.79058783],\n",
       "       [ 0.56054567],\n",
       "       [ 0.28906428],\n",
       "       [-1.6304601 ],\n",
       "       [ 0.18939224],\n",
       "       [-0.38011148],\n",
       "       [ 0.4445398 ],\n",
       "       [ 0.0484302 ],\n",
       "       [ 0.76151097],\n",
       "       [-0.17845062],\n",
       "       [-0.06998448],\n",
       "       [ 0.22235912],\n",
       "       [ 1.45408498],\n",
       "       [-0.22235912],\n",
       "       [ 0.00537906],\n",
       "       [-0.53554264],\n",
       "       [-1.55405342],\n",
       "       [ 1.39475369],\n",
       "       [ 0.17298789],\n",
       "       [ 0.58590417],\n",
       "       [ 1.55405342],\n",
       "       [ 1.19583833],\n",
       "       [ 0.11320095],\n",
       "       [-0.83550492],\n",
       "       [-1.33996258],\n",
       "       [ 1.88016322],\n",
       "       [-1.48577345],\n",
       "       [ 0.93084967],\n",
       "       [ 0.27786515],\n",
       "       [ 2.22994532],\n",
       "       [ 0.9818368 ],\n",
       "       [-1.07302076],\n",
       "       [ 0.37433579],\n",
       "       [-0.5542626 ],\n",
       "       [-1.11210171],\n",
       "       [ 0.17298789],\n",
       "       [ 0.03766212],\n",
       "       [ 0.33424137],\n",
       "       [-0.13488366],\n",
       "       [-5.19933758],\n",
       "       [ 0.3456394 ],\n",
       "       [-0.40334386],\n",
       "       [-0.9475715 ],\n",
       "       [-0.03766212],\n",
       "       [ 1.0172955 ],\n",
       "       [ 0.89816289],\n",
       "       [-0.43860992],\n",
       "       [-1.21812634],\n",
       "       [ 0.09697433],\n",
       "       [ 1.09235268],\n",
       "       [ 0.65103877],\n",
       "       [-0.01613779],\n",
       "       [ 0.26670076],\n",
       "       [-0.09157134],\n",
       "       [-1.4387739 ],\n",
       "       [ 1.59109595],\n",
       "       [-0.25001583],\n",
       "       [ 1.9472719 ],\n",
       "       [-0.70519853],\n",
       "       [ 0.15662997],\n",
       "       [ 0.85085521],\n",
       "       [ 0.52316653],\n",
       "       [ 1.21812634],\n",
       "       [ 0.61164519],\n",
       "       [-2.62820445],\n",
       "       [-0.16753032],\n",
       "       [ 0.63779805],\n",
       "       [ 1.11210171],\n",
       "       [-0.93084967],\n",
       "       [ 0.50475076],\n",
       "       [-0.86640866],\n",
       "       [-1.05408174],\n",
       "       [-0.3570825 ],\n",
       "       [ 0.59872509],\n",
       "       [ 0.4865046 ],\n",
       "       [-0.36857256],\n",
       "       [ 0.40334386],\n",
       "       [ 0.88217459],\n",
       "       [ 0.13488366],\n",
       "       [-0.47443024],\n",
       "       [-0.52316653],\n",
       "       [-2.29980575],\n",
       "       [ 2.38310318],\n",
       "       [ 0.73306414],\n",
       "       [ 0.9475715 ],\n",
       "       [-0.00537906],\n",
       "       [ 1.31401487],\n",
       "       [-1.15295943],\n",
       "       [-0.88217459],\n",
       "       [ 0.77596739],\n",
       "       [-0.9818368 ],\n",
       "       [-0.59872509],\n",
       "       [-0.4865046 ],\n",
       "       [-0.26670076],\n",
       "       [-0.85085521],\n",
       "       [ 1.2646172 ],\n",
       "       [-1.7668508 ],\n",
       "       [-0.45048535],\n",
       "       [-1.03551346],\n",
       "       [ 0.66439463],\n",
       "       [ 0.25556951],\n",
       "       [ 0.3570825 ],\n",
       "       [-1.09235268],\n",
       "       [-0.89816289],\n",
       "       [ 0.1457482 ],\n",
       "       [-1.82058787],\n",
       "       [-1.30136646],\n",
       "       [-0.49865032],\n",
       "       [-0.23340022],\n",
       "       [-0.67787007],\n",
       "       [ 0.01613779],\n",
       "       [ 1.71777913],\n",
       "       [ 1.05408174],\n",
       "       [-0.1457482 ],\n",
       "       [-1.88016322],\n",
       "       [ 0.21134506],\n",
       "       [-0.96456258],\n",
       "       [-1.51902833],\n",
       "       [-2.11611811],\n",
       "       [-0.51087004],\n",
       "       [-0.69146975],\n",
       "       [-0.0268984 ],\n",
       "       [ 0.82034902],\n",
       "       [ 0.30029978],\n",
       "       [ 1.2889229 ],\n",
       "       [ 0.86640866],\n",
       "       [-0.62466821],\n",
       "       [-0.11320095],\n",
       "       [ 0.53554264],\n",
       "       [-0.80537926],\n",
       "       [-0.21134506],\n",
       "       [-0.5542626 ],\n",
       "       [ 0.0268984 ],\n",
       "       [ 0.80537926],\n",
       "       [ 0.46242465],\n",
       "       [ 1.48577345],\n",
       "       [-1.19583833],\n",
       "       [-1.17412903],\n",
       "       [-0.27786515],\n",
       "       [-2.29980575],\n",
       "       [ 1.51902833],\n",
       "       [-0.08077321],\n",
       "       [ 1.67252623],\n",
       "       [ 0.08077321],\n",
       "       [-0.46242465],\n",
       "       [-1.59109595],\n",
       "       [ 1.7668508 ],\n",
       "       [ 1.82058787],\n",
       "       [ 0.70519853],\n",
       "       [ 0.69146975],\n",
       "       [ 0.4445398 ],\n",
       "       [ 0.47443024],\n",
       "       [ 1.42379288],\n",
       "       [ 0.12403501],\n",
       "       [ 0.67787007],\n",
       "       [-0.3059317 ],\n",
       "       [ 0.31157333],\n",
       "       [ 1.17412903],\n",
       "       [-0.33424137],\n",
       "       [-0.10238015],\n",
       "       [-2.0245027 ],\n",
       "       [-1.25273977],\n",
       "       [-0.72604504],\n",
       "       [-0.57317885],\n",
       "       [ 0.23340022],\n",
       "       [-0.77596739],\n",
       "       [-0.72604504],\n",
       "       [-0.15662997],\n",
       "       [ 0.41504141],\n",
       "       [-0.12403501],\n",
       "       [ 0.99940907],\n",
       "       [ 2.62820445],\n",
       "       [ 0.79058783],\n",
       "       [-0.76151097],\n",
       "       [ 1.33996258],\n",
       "       [ 0.96456258],\n",
       "       [-0.66439463],\n",
       "       [ 1.15295943],\n",
       "       [-0.74721197],\n",
       "       [ 1.13229429],\n",
       "       [-1.0172955 ],\n",
       "       [-1.9472719 ],\n",
       "       [ 1.36684524],\n",
       "       [-0.91438416],\n",
       "       [-0.59872509],\n",
       "       [-1.71777913],\n",
       "       [-0.25001583],\n",
       "       [-0.59872509],\n",
       "       [-0.20035658],\n",
       "       [-1.39475369],\n",
       "       [ 0.39170125],\n",
       "       [-0.65103877],\n",
       "       [ 0.57317885],\n",
       "       [ 0.74721197],\n",
       "       [-0.3059317 ],\n",
       "       [-0.99940907],\n",
       "       [-1.13229429],\n",
       "       [-0.32288661],\n",
       "       [-1.4387739 ],\n",
       "       [-0.82034902],\n",
       "       [ 1.6304601 ],\n",
       "       [ 2.11611811],\n",
       "       [ 1.24103648],\n",
       "       [ 1.07302076],\n",
       "       [ 0.62466821],\n",
       "       [ 0.06998448],\n",
       "       [ 0.24446985]])"
      ]
     },
     "execution_count": 34,
     "metadata": {},
     "output_type": "execute_result"
    }
   ],
   "source": [
    "Cleaned_total_bill"
   ]
  },
  {
   "cell_type": "code",
   "execution_count": 35,
   "id": "7aea43e3-f8fc-4cae-ba7f-b68402f89ff7",
   "metadata": {},
   "outputs": [
    {
     "name": "stdout",
     "output_type": "stream",
     "text": [
      "stat: 0.9692562401474305\n",
      "p: 5.8977598714998804e-05\n",
      "❌ Reject H₀ (Data does NOT appear normally distributed)\n"
     ]
    }
   ],
   "source": [
    "from scipy.stats import shapiro\n",
    "stat , p = shapiro(Cleaned_total_bill)\n",
    "print ('stat:', stat )\n",
    "print ('p:', p)\n",
    "alpha = 0.05\n",
    "if p > alpha:\n",
    "    print(\"✅ Fail to reject H₀ (Data appears normally distributed)\")\n",
    "else:\n",
    "    print(\"❌ Reject H₀ (Data does NOT appear normally distributed)\")"
   ]
  },
  {
   "cell_type": "code",
   "execution_count": 36,
   "id": "ecbdc035-0f87-4581-b70b-fc81850f1bf9",
   "metadata": {},
   "outputs": [
    {
     "data": {
      "text/plain": [
       "<Axes: ylabel='Count'>"
      ]
     },
     "execution_count": 36,
     "metadata": {},
     "output_type": "execute_result"
    },
    {
     "data": {
      "image/png": "[encoded data removed]",
      "text/plain": [
       "<Figure size 640x480 with 1 Axes>"
      ]
     },
     "metadata": {},
     "output_type": "display_data"
    }
   ],
   "source": [
    "sns.histplot(Cleaned_total_bill, kde=True)"
   ]
  },
  {
   "cell_type": "code",
   "execution_count": 37,
   "id": "9483d02c-21ed-488f-8e1e-6006a5a17564",
   "metadata": {},
   "outputs": [
    {
     "data": {
      "text/plain": [
       "1.087481731761707"
      ]
     },
     "execution_count": 37,
     "metadata": {},
     "output_type": "execute_result"
    }
   ],
   "source": [
    "Cleaned_total_bill.std()"
   ]
  },
  {
   "cell_type": "code",
   "execution_count": 38,
   "id": "78cd6b71-10fb-4c83-bc68-5f043a816f6e",
   "metadata": {},
   "outputs": [
    {
     "data": {
      "text/plain": [
       "6.096180968412689e-05"
      ]
     },
     "execution_count": 38,
     "metadata": {},
     "output_type": "execute_result"
    }
   ],
   "source": [
    "Cleaned_total_bill.mean()"
   ]
  },
  {
   "cell_type": "code",
   "execution_count": 39,
   "id": "a43083a1-685f-42d5-b099-3bab7567c8bc",
   "metadata": {},
   "outputs": [
    {
     "name": "stdout",
     "output_type": "stream",
     "text": [
      "1.349002423424375\n"
     ]
    }
   ],
   "source": [
    "IQR = stats.iqr(Cleaned_total_bill)\n",
    "print(IQR)"
   ]
  },
  {
   "cell_type": "code",
   "execution_count": 40,
   "id": "24497564-ea08-4d2e-ad05-5bac5d9214b4",
   "metadata": {},
   "outputs": [],
   "source": [
    "df = sns.load_dataset('titanic')"
   ]
  },
  {
   "cell_type": "code",
   "execution_count": 41,
   "id": "cc88bfda-da1b-490b-a8e1-19bd020e004f",
   "metadata": {},
   "outputs": [
    {
     "data": {
      "text/html": [
       "<div>\n",
       "<style scoped>\n",
       "    .dataframe tbody tr th:only-of-type {\n",
       "        vertical-align: middle;\n",
       "    }\n",
       "\n",
       "    .dataframe tbody tr th {\n",
       "        vertical-align: top;\n",
       "    }\n",
       "\n",
       "    .dataframe thead th {\n",
       "        text-align: right;\n",
       "    }\n",
       "</style>\n",
       "<table border=\"1\" class=\"dataframe\">\n",
       "  <thead>\n",
       "    <tr style=\"text-align: right;\">\n",
       "      <th></th>\n",
       "      <th>survived</th>\n",
       "      <th>pclass</th>\n",
       "      <th>sex</th>\n",
       "      <th>age</th>\n",
       "      <th>sibsp</th>\n",
       "      <th>parch</th>\n",
       "      <th>fare</th>\n",
       "      <th>embarked</th>\n",
       "      <th>class</th>\n",
       "      <th>who</th>\n",
       "      <th>adult_male</th>\n",
       "      <th>deck</th>\n",
       "      <th>embark_town</th>\n",
       "      <th>alive</th>\n",
       "      <th>alone</th>\n",
       "    </tr>\n",
       "  </thead>\n",
       "  <tbody>\n",
       "    <tr>\n",
       "      <th>0</th>\n",
       "      <td>0</td>\n",
       "      <td>3</td>\n",
       "      <td>male</td>\n",
       "      <td>22.0</td>\n",
       "      <td>1</td>\n",
       "      <td>0</td>\n",
       "      <td>7.2500</td>\n",
       "      <td>S</td>\n",
       "      <td>Third</td>\n",
       "      <td>man</td>\n",
       "      <td>True</td>\n",
       "      <td>NaN</td>\n",
       "      <td>Southampton</td>\n",
       "      <td>no</td>\n",
       "      <td>False</td>\n",
       "    </tr>\n",
       "    <tr>\n",
       "      <th>1</th>\n",
       "      <td>1</td>\n",
       "      <td>1</td>\n",
       "      <td>female</td>\n",
       "      <td>38.0</td>\n",
       "      <td>1</td>\n",
       "      <td>0</td>\n",
       "      <td>71.2833</td>\n",
       "      <td>C</td>\n",
       "      <td>First</td>\n",
       "      <td>woman</td>\n",
       "      <td>False</td>\n",
       "      <td>C</td>\n",
       "      <td>Cherbourg</td>\n",
       "      <td>yes</td>\n",
       "      <td>False</td>\n",
       "    </tr>\n",
       "    <tr>\n",
       "      <th>2</th>\n",
       "      <td>1</td>\n",
       "      <td>3</td>\n",
       "      <td>female</td>\n",
       "      <td>26.0</td>\n",
       "      <td>0</td>\n",
       "      <td>0</td>\n",
       "      <td>7.9250</td>\n",
       "      <td>S</td>\n",
       "      <td>Third</td>\n",
       "      <td>woman</td>\n",
       "      <td>False</td>\n",
       "      <td>NaN</td>\n",
       "      <td>Southampton</td>\n",
       "      <td>yes</td>\n",
       "      <td>True</td>\n",
       "    </tr>\n",
       "    <tr>\n",
       "      <th>3</th>\n",
       "      <td>1</td>\n",
       "      <td>1</td>\n",
       "      <td>female</td>\n",
       "      <td>35.0</td>\n",
       "      <td>1</td>\n",
       "      <td>0</td>\n",
       "      <td>53.1000</td>\n",
       "      <td>S</td>\n",
       "      <td>First</td>\n",
       "      <td>woman</td>\n",
       "      <td>False</td>\n",
       "      <td>C</td>\n",
       "      <td>Southampton</td>\n",
       "      <td>yes</td>\n",
       "      <td>False</td>\n",
       "    </tr>\n",
       "    <tr>\n",
       "      <th>4</th>\n",
       "      <td>0</td>\n",
       "      <td>3</td>\n",
       "      <td>male</td>\n",
       "      <td>35.0</td>\n",
       "      <td>0</td>\n",
       "      <td>0</td>\n",
       "      <td>8.0500</td>\n",
       "      <td>S</td>\n",
       "      <td>Third</td>\n",
       "      <td>man</td>\n",
       "      <td>True</td>\n",
       "      <td>NaN</td>\n",
       "      <td>Southampton</td>\n",
       "      <td>no</td>\n",
       "      <td>True</td>\n",
       "    </tr>\n",
       "    <tr>\n",
       "      <th>...</th>\n",
       "      <td>...</td>\n",
       "      <td>...</td>\n",
       "      <td>...</td>\n",
       "      <td>...</td>\n",
       "      <td>...</td>\n",
       "      <td>...</td>\n",
       "      <td>...</td>\n",
       "      <td>...</td>\n",
       "      <td>...</td>\n",
       "      <td>...</td>\n",
       "      <td>...</td>\n",
       "      <td>...</td>\n",
       "      <td>...</td>\n",
       "      <td>...</td>\n",
       "      <td>...</td>\n",
       "    </tr>\n",
       "    <tr>\n",
       "      <th>886</th>\n",
       "      <td>0</td>\n",
       "      <td>2</td>\n",
       "      <td>male</td>\n",
       "      <td>27.0</td>\n",
       "      <td>0</td>\n",
       "      <td>0</td>\n",
       "      <td>13.0000</td>\n",
       "      <td>S</td>\n",
       "      <td>Second</td>\n",
       "      <td>man</td>\n",
       "      <td>True</td>\n",
       "      <td>NaN</td>\n",
       "      <td>Southampton</td>\n",
       "      <td>no</td>\n",
       "      <td>True</td>\n",
       "    </tr>\n",
       "    <tr>\n",
       "      <th>887</th>\n",
       "      <td>1</td>\n",
       "      <td>1</td>\n",
       "      <td>female</td>\n",
       "      <td>19.0</td>\n",
       "      <td>0</td>\n",
       "      <td>0</td>\n",
       "      <td>30.0000</td>\n",
       "      <td>S</td>\n",
       "      <td>First</td>\n",
       "      <td>woman</td>\n",
       "      <td>False</td>\n",
       "      <td>B</td>\n",
       "      <td>Southampton</td>\n",
       "      <td>yes</td>\n",
       "      <td>True</td>\n",
       "    </tr>\n",
       "    <tr>\n",
       "      <th>888</th>\n",
       "      <td>0</td>\n",
       "      <td>3</td>\n",
       "      <td>female</td>\n",
       "      <td>NaN</td>\n",
       "      <td>1</td>\n",
       "      <td>2</td>\n",
       "      <td>23.4500</td>\n",
       "      <td>S</td>\n",
       "      <td>Third</td>\n",
       "      <td>woman</td>\n",
       "      <td>False</td>\n",
       "      <td>NaN</td>\n",
       "      <td>Southampton</td>\n",
       "      <td>no</td>\n",
       "      <td>False</td>\n",
       "    </tr>\n",
       "    <tr>\n",
       "      <th>889</th>\n",
       "      <td>1</td>\n",
       "      <td>1</td>\n",
       "      <td>male</td>\n",
       "      <td>26.0</td>\n",
       "      <td>0</td>\n",
       "      <td>0</td>\n",
       "      <td>30.0000</td>\n",
       "      <td>C</td>\n",
       "      <td>First</td>\n",
       "      <td>man</td>\n",
       "      <td>True</td>\n",
       "      <td>C</td>\n",
       "      <td>Cherbourg</td>\n",
       "      <td>yes</td>\n",
       "      <td>True</td>\n",
       "    </tr>\n",
       "    <tr>\n",
       "      <th>890</th>\n",
       "      <td>0</td>\n",
       "      <td>3</td>\n",
       "      <td>male</td>\n",
       "      <td>32.0</td>\n",
       "      <td>0</td>\n",
       "      <td>0</td>\n",
       "      <td>7.7500</td>\n",
       "      <td>Q</td>\n",
       "      <td>Third</td>\n",
       "      <td>man</td>\n",
       "      <td>True</td>\n",
       "      <td>NaN</td>\n",
       "      <td>Queenstown</td>\n",
       "      <td>no</td>\n",
       "      <td>True</td>\n",
       "    </tr>\n",
       "  </tbody>\n",
       "</table>\n",
       "<p>891 rows × 15 columns</p>\n",
       "</div>"
      ],
      "text/plain": [
       "     survived  pclass     sex   age  sibsp  parch     fare embarked   class  \\\n",
       "0           0       3    male  22.0      1      0   7.2500        S   Third   \n",
       "1           1       1  female  38.0      1      0  71.2833        C   First   \n",
       "2           1       3  female  26.0      0      0   7.9250        S   Third   \n",
       "3           1       1  female  35.0      1      0  53.1000        S   First   \n",
       "4           0       3    male  35.0      0      0   8.0500        S   Third   \n",
       "..        ...     ...     ...   ...    ...    ...      ...      ...     ...   \n",
       "886         0       2    male  27.0      0      0  13.0000        S  Second   \n",
       "887         1       1  female  19.0      0      0  30.0000        S   First   \n",
       "888         0       3  female   NaN      1      2  23.4500        S   Third   \n",
       "889         1       1    male  26.0      0      0  30.0000        C   First   \n",
       "890         0       3    male  32.0      0      0   7.7500        Q   Third   \n",
       "\n",
       "       who  adult_male deck  embark_town alive  alone  \n",
       "0      man        True  NaN  Southampton    no  False  \n",
       "1    woman       False    C    Cherbourg   yes  False  \n",
       "2    woman       False  NaN  Southampton   yes   True  \n",
       "3    woman       False    C  Southampton   yes  False  \n",
       "4      man        True  NaN  Southampton    no   True  \n",
       "..     ...         ...  ...          ...   ...    ...  \n",
       "886    man        True  NaN  Southampton    no   True  \n",
       "887  woman       False    B  Southampton   yes   True  \n",
       "888  woman       False  NaN  Southampton    no  False  \n",
       "889    man        True    C    Cherbourg   yes   True  \n",
       "890    man        True  NaN   Queenstown    no   True  \n",
       "\n",
       "[891 rows x 15 columns]"
      ]
     },
     "execution_count": 41,
     "metadata": {},
     "output_type": "execute_result"
    }
   ],
   "source": [
    "df"
   ]
  },
  {
   "cell_type": "code",
   "execution_count": 43,
   "id": "3b77acef-a605-4343-8031-7487e10547d8",
   "metadata": {},
   "outputs": [],
   "source": [
    " df['age'].dropna(inplace=True,)"
   ]
  },
  {
   "cell_type": "code",
   "execution_count": 44,
   "id": "faaf4df0-5b51-47e2-9175-4fd7caf53185",
   "metadata": {},
   "outputs": [
    {
     "data": {
      "text/html": [
       "<div>\n",
       "<style scoped>\n",
       "    .dataframe tbody tr th:only-of-type {\n",
       "        vertical-align: middle;\n",
       "    }\n",
       "\n",
       "    .dataframe tbody tr th {\n",
       "        vertical-align: top;\n",
       "    }\n",
       "\n",
       "    .dataframe thead th {\n",
       "        text-align: right;\n",
       "    }\n",
       "</style>\n",
       "<table border=\"1\" class=\"dataframe\">\n",
       "  <thead>\n",
       "    <tr style=\"text-align: right;\">\n",
       "      <th></th>\n",
       "      <th>survived</th>\n",
       "      <th>pclass</th>\n",
       "      <th>sex</th>\n",
       "      <th>age</th>\n",
       "      <th>sibsp</th>\n",
       "      <th>parch</th>\n",
       "      <th>fare</th>\n",
       "      <th>embarked</th>\n",
       "      <th>class</th>\n",
       "      <th>who</th>\n",
       "      <th>adult_male</th>\n",
       "      <th>deck</th>\n",
       "      <th>embark_town</th>\n",
       "      <th>alive</th>\n",
       "      <th>alone</th>\n",
       "    </tr>\n",
       "  </thead>\n",
       "  <tbody>\n",
       "    <tr>\n",
       "      <th>5</th>\n",
       "      <td>0</td>\n",
       "      <td>3</td>\n",
       "      <td>male</td>\n",
       "      <td>NaN</td>\n",
       "      <td>0</td>\n",
       "      <td>0</td>\n",
       "      <td>8.4583</td>\n",
       "      <td>Q</td>\n",
       "      <td>Third</td>\n",
       "      <td>man</td>\n",
       "      <td>True</td>\n",
       "      <td>NaN</td>\n",
       "      <td>Queenstown</td>\n",
       "      <td>no</td>\n",
       "      <td>True</td>\n",
       "    </tr>\n",
       "    <tr>\n",
       "      <th>17</th>\n",
       "      <td>1</td>\n",
       "      <td>2</td>\n",
       "      <td>male</td>\n",
       "      <td>NaN</td>\n",
       "      <td>0</td>\n",
       "      <td>0</td>\n",
       "      <td>13.0000</td>\n",
       "      <td>S</td>\n",
       "      <td>Second</td>\n",
       "      <td>man</td>\n",
       "      <td>True</td>\n",
       "      <td>NaN</td>\n",
       "      <td>Southampton</td>\n",
       "      <td>yes</td>\n",
       "      <td>True</td>\n",
       "    </tr>\n",
       "    <tr>\n",
       "      <th>19</th>\n",
       "      <td>1</td>\n",
       "      <td>3</td>\n",
       "      <td>female</td>\n",
       "      <td>NaN</td>\n",
       "      <td>0</td>\n",
       "      <td>0</td>\n",
       "      <td>7.2250</td>\n",
       "      <td>C</td>\n",
       "      <td>Third</td>\n",
       "      <td>woman</td>\n",
       "      <td>False</td>\n",
       "      <td>NaN</td>\n",
       "      <td>Cherbourg</td>\n",
       "      <td>yes</td>\n",
       "      <td>True</td>\n",
       "    </tr>\n",
       "    <tr>\n",
       "      <th>26</th>\n",
       "      <td>0</td>\n",
       "      <td>3</td>\n",
       "      <td>male</td>\n",
       "      <td>NaN</td>\n",
       "      <td>0</td>\n",
       "      <td>0</td>\n",
       "      <td>7.2250</td>\n",
       "      <td>C</td>\n",
       "      <td>Third</td>\n",
       "      <td>man</td>\n",
       "      <td>True</td>\n",
       "      <td>NaN</td>\n",
       "      <td>Cherbourg</td>\n",
       "      <td>no</td>\n",
       "      <td>True</td>\n",
       "    </tr>\n",
       "    <tr>\n",
       "      <th>28</th>\n",
       "      <td>1</td>\n",
       "      <td>3</td>\n",
       "      <td>female</td>\n",
       "      <td>NaN</td>\n",
       "      <td>0</td>\n",
       "      <td>0</td>\n",
       "      <td>7.8792</td>\n",
       "      <td>Q</td>\n",
       "      <td>Third</td>\n",
       "      <td>woman</td>\n",
       "      <td>False</td>\n",
       "      <td>NaN</td>\n",
       "      <td>Queenstown</td>\n",
       "      <td>yes</td>\n",
       "      <td>True</td>\n",
       "    </tr>\n",
       "    <tr>\n",
       "      <th>...</th>\n",
       "      <td>...</td>\n",
       "      <td>...</td>\n",
       "      <td>...</td>\n",
       "      <td>...</td>\n",
       "      <td>...</td>\n",
       "      <td>...</td>\n",
       "      <td>...</td>\n",
       "      <td>...</td>\n",
       "      <td>...</td>\n",
       "      <td>...</td>\n",
       "      <td>...</td>\n",
       "      <td>...</td>\n",
       "      <td>...</td>\n",
       "      <td>...</td>\n",
       "      <td>...</td>\n",
       "    </tr>\n",
       "    <tr>\n",
       "      <th>859</th>\n",
       "      <td>0</td>\n",
       "      <td>3</td>\n",
       "      <td>male</td>\n",
       "      <td>NaN</td>\n",
       "      <td>0</td>\n",
       "      <td>0</td>\n",
       "      <td>7.2292</td>\n",
       "      <td>C</td>\n",
       "      <td>Third</td>\n",
       "      <td>man</td>\n",
       "      <td>True</td>\n",
       "      <td>NaN</td>\n",
       "      <td>Cherbourg</td>\n",
       "      <td>no</td>\n",
       "      <td>True</td>\n",
       "    </tr>\n",
       "    <tr>\n",
       "      <th>863</th>\n",
       "      <td>0</td>\n",
       "      <td>3</td>\n",
       "      <td>female</td>\n",
       "      <td>NaN</td>\n",
       "      <td>8</td>\n",
       "      <td>2</td>\n",
       "      <td>69.5500</td>\n",
       "      <td>S</td>\n",
       "      <td>Third</td>\n",
       "      <td>woman</td>\n",
       "      <td>False</td>\n",
       "      <td>NaN</td>\n",
       "      <td>Southampton</td>\n",
       "      <td>no</td>\n",
       "      <td>False</td>\n",
       "    </tr>\n",
       "    <tr>\n",
       "      <th>868</th>\n",
       "      <td>0</td>\n",
       "      <td>3</td>\n",
       "      <td>male</td>\n",
       "      <td>NaN</td>\n",
       "      <td>0</td>\n",
       "      <td>0</td>\n",
       "      <td>9.5000</td>\n",
       "      <td>S</td>\n",
       "      <td>Third</td>\n",
       "      <td>man</td>\n",
       "      <td>True</td>\n",
       "      <td>NaN</td>\n",
       "      <td>Southampton</td>\n",
       "      <td>no</td>\n",
       "      <td>True</td>\n",
       "    </tr>\n",
       "    <tr>\n",
       "      <th>878</th>\n",
       "      <td>0</td>\n",
       "      <td>3</td>\n",
       "      <td>male</td>\n",
       "      <td>NaN</td>\n",
       "      <td>0</td>\n",
       "      <td>0</td>\n",
       "      <td>7.8958</td>\n",
       "      <td>S</td>\n",
       "      <td>Third</td>\n",
       "      <td>man</td>\n",
       "      <td>True</td>\n",
       "      <td>NaN</td>\n",
       "      <td>Southampton</td>\n",
       "      <td>no</td>\n",
       "      <td>True</td>\n",
       "    </tr>\n",
       "    <tr>\n",
       "      <th>888</th>\n",
       "      <td>0</td>\n",
       "      <td>3</td>\n",
       "      <td>female</td>\n",
       "      <td>NaN</td>\n",
       "      <td>1</td>\n",
       "      <td>2</td>\n",
       "      <td>23.4500</td>\n",
       "      <td>S</td>\n",
       "      <td>Third</td>\n",
       "      <td>woman</td>\n",
       "      <td>False</td>\n",
       "      <td>NaN</td>\n",
       "      <td>Southampton</td>\n",
       "      <td>no</td>\n",
       "      <td>False</td>\n",
       "    </tr>\n",
       "  </tbody>\n",
       "</table>\n",
       "<p>177 rows × 15 columns</p>\n",
       "</div>"
      ],
      "text/plain": [
       "     survived  pclass     sex  age  sibsp  parch     fare embarked   class  \\\n",
       "5           0       3    male  NaN      0      0   8.4583        Q   Third   \n",
       "17          1       2    male  NaN      0      0  13.0000        S  Second   \n",
       "19          1       3  female  NaN      0      0   7.2250        C   Third   \n",
       "26          0       3    male  NaN      0      0   7.2250        C   Third   \n",
       "28          1       3  female  NaN      0      0   7.8792        Q   Third   \n",
       "..        ...     ...     ...  ...    ...    ...      ...      ...     ...   \n",
       "859         0       3    male  NaN      0      0   7.2292        C   Third   \n",
       "863         0       3  female  NaN      8      2  69.5500        S   Third   \n",
       "868         0       3    male  NaN      0      0   9.5000        S   Third   \n",
       "878         0       3    male  NaN      0      0   7.8958        S   Third   \n",
       "888         0       3  female  NaN      1      2  23.4500        S   Third   \n",
       "\n",
       "       who  adult_male deck  embark_town alive  alone  \n",
       "5      man        True  NaN   Queenstown    no   True  \n",
       "17     man        True  NaN  Southampton   yes   True  \n",
       "19   woman       False  NaN    Cherbourg   yes   True  \n",
       "26     man        True  NaN    Cherbourg    no   True  \n",
       "28   woman       False  NaN   Queenstown   yes   True  \n",
       "..     ...         ...  ...          ...   ...    ...  \n",
       "859    man        True  NaN    Cherbourg    no   True  \n",
       "863  woman       False  NaN  Southampton    no  False  \n",
       "868    man        True  NaN  Southampton    no   True  \n",
       "878    man        True  NaN  Southampton    no   True  \n",
       "888  woman       False  NaN  Southampton    no  False  \n",
       "\n",
       "[177 rows x 15 columns]"
      ]
     },
     "execution_count": 44,
     "metadata": {},
     "output_type": "execute_result"
    }
   ],
   "source": [
    "df[df['age'].isnull()]"
   ]
  },
  {
   "cell_type": "code",
   "execution_count": 45,
   "id": "bcdc250b-5b2f-493d-b455-122577543149",
   "metadata": {},
   "outputs": [
    {
     "data": {
      "text/plain": [
       "array([22.  , 38.  , 26.  , 35.  ,   nan, 54.  ,  2.  , 27.  , 14.  ,\n",
       "        4.  , 58.  , 20.  , 39.  , 55.  , 31.  , 34.  , 15.  , 28.  ,\n",
       "        8.  , 19.  , 40.  , 66.  , 42.  , 21.  , 18.  ,  3.  ,  7.  ,\n",
       "       49.  , 29.  , 65.  , 28.5 ,  5.  , 11.  , 45.  , 17.  , 32.  ,\n",
       "       16.  , 25.  ,  0.83, 30.  , 33.  , 23.  , 24.  , 46.  , 59.  ,\n",
       "       71.  , 37.  , 47.  , 14.5 , 70.5 , 32.5 , 12.  ,  9.  , 36.5 ,\n",
       "       51.  , 55.5 , 40.5 , 44.  ,  1.  , 61.  , 56.  , 50.  , 36.  ,\n",
       "       45.5 , 20.5 , 62.  , 41.  , 52.  , 63.  , 23.5 ,  0.92, 43.  ,\n",
       "       60.  , 10.  , 64.  , 13.  , 48.  ,  0.75, 53.  , 57.  , 80.  ,\n",
       "       70.  , 24.5 ,  6.  ,  0.67, 30.5 ,  0.42, 34.5 , 74.  ])"
      ]
     },
     "execution_count": 45,
     "metadata": {},
     "output_type": "execute_result"
    }
   ],
   "source": [
    "df['age'].unique()"
   ]
  },
  {
   "cell_type": "code",
   "execution_count": 46,
   "id": "7df0c09e-4602-4842-9cf3-b47c172925ac",
   "metadata": {},
   "outputs": [
    {
     "data": {
      "text/plain": [
       "177"
      ]
     },
     "execution_count": 46,
     "metadata": {},
     "output_type": "execute_result"
    }
   ],
   "source": [
    "df.age.isna().sum()"
   ]
  },
  {
   "cell_type": "code",
   "execution_count": 47,
   "id": "47a1d46d-de45-49a7-a8ab-e6e22b24d922",
   "metadata": {},
   "outputs": [
    {
     "name": "stdout",
     "output_type": "stream",
     "text": [
      "Remaining rows: 714, NaN count: 0\n"
     ]
    }
   ],
   "source": [
    "# This removes entire ROWS where your column has NaN\n",
    "df.dropna(subset=['age'], inplace=True)\n",
    "print(f\"Remaining rows: {len(df)}, NaN count: {df['age'].isna().sum()}\")"
   ]
  },
  {
   "cell_type": "code",
   "execution_count": 48,
   "id": "4f2698af-3574-4253-9715-99c0c17f5719",
   "metadata": {},
   "outputs": [
    {
     "data": {
      "text/plain": [
       "0"
      ]
     },
     "execution_count": 48,
     "metadata": {},
     "output_type": "execute_result"
    }
   ],
   "source": [
    "df['age'].isnull().sum()"
   ]
  },
  {
   "cell_type": "code",
   "execution_count": 49,
   "id": "be0e4756-e008-4cdc-8aa9-e789dc81523e",
   "metadata": {},
   "outputs": [
    {
     "data": {
      "text/plain": [
       "<Axes: xlabel='age', ylabel='Count'>"
      ]
     },
     "execution_count": 49,
     "metadata": {},
     "output_type": "execute_result"
    },
    {
     "data": {
      "image/png": "[encoded data removed]",
      "text/plain": [
       "<Figure size 640x480 with 1 Axes>"
      ]
     },
     "metadata": {},
     "output_type": "display_data"
    }
   ],
   "source": [
    "sns.histplot( df['age'])"
   ]
  },
  {
   "cell_type": "code",
   "execution_count": null,
   "id": "df60180d-391e-41ac-b5be-79550fca3bb8",
   "metadata": {},
   "outputs": [],
   "source": []
  },
  {
   "cell_type": "code",
   "execution_count": null,
   "id": "cb20ccaa-870e-44c6-99c1-b2ca207ba2e4",
   "metadata": {},
   "outputs": [],
   "source": []
  },
  {
   "cell_type": "code",
   "execution_count": null,
   "id": "4ab67bc6-1160-457d-b1c2-b4d8bbdf0274",
   "metadata": {},
   "outputs": [],
   "source": []
  },
  {
   "cell_type": "code",
   "execution_count": null,
   "id": "b5e87892-3676-4e8d-a442-39e4d71695b0",
   "metadata": {},
   "outputs": [],
   "source": []
  },
  {
   "cell_type": "code",
   "execution_count": null,
   "id": "7affff5a-9461-4da5-90a1-bc5a3b6598ac",
   "metadata": {},
   "outputs": [],
   "source": []
  },
  {
   "cell_type": "code",
   "execution_count": null,
   "id": "9734e419-13aa-4887-b084-bfee26aed635",
   "metadata": {},
   "outputs": [],
   "source": []
  },
  {
   "cell_type": "code",
   "execution_count": null,
   "id": "617bb36c-578a-4037-a98b-8ef79ea49cbe",
   "metadata": {},
   "outputs": [],
   "source": []
  }
 ],
 "metadata": {
  "kernelspec": {
   "display_name": "Python [conda env:base] *",
   "language": "python",
   "name": "conda-base-py"
  },
  "language_info": {
   "codemirror_mode": {
    "name": "ipython",
    "version": 3
   },
   "file_extension": ".py",
   "mimetype": "text/x-python",
   "name": "python",
   "nbconvert_exporter": "python",
   "pygments_lexer": "ipython3",
   "version": "3.12.7"
  }
 },
 "nbformat": 4,
 "nbformat_minor": 5
}
