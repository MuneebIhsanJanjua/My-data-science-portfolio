{
 "cells": [
  {
   "cell_type": "markdown",
   "id": "5deca9b3-a6e4-4e19-b6aa-0ed274ab1c8b",
   "metadata": {},
   "source": [
    "# DATA PRE-PROCESSING"
   ]
  },
  {
   "cell_type": "markdown",
   "id": "be352c61-ca05-436a-83ae-e3035bc69074",
   "metadata": {
    "jp-MarkdownHeadingCollapsed": true
   },
   "source": [
    "# importing libraries "
   ]
  },
  {
   "cell_type": "code",
   "execution_count": 4,
   "id": "942dd974-8c23-4bfe-9a3b-470abdf82879",
   "metadata": {},
   "outputs": [],
   "source": [
    "import seaborn as sns \n",
    "import pandas as pd "
   ]
  },
  {
   "cell_type": "markdown",
   "id": "88702e2b-0e77-4287-a0a2-f8144a677eba",
   "metadata": {
    "jp-MarkdownHeadingCollapsed": true
   },
   "source": [
    "# Uploading data "
   ]
  },
  {
   "cell_type": "code",
   "execution_count": 6,
   "id": "f3bf4a9f-641e-4d25-bf14-e0f5a6ae0b2e",
   "metadata": {},
   "outputs": [],
   "source": [
    "data = sns.load_dataset('titanic')"
   ]
  },
  {
   "cell_type": "code",
   "execution_count": 7,
   "id": "e93fc47d-b678-4d27-bcda-c66d56c5edfe",
   "metadata": {},
   "outputs": [
    {
     "data": {
      "text/plain": [
       "deck           77.217\n",
       "age            19.865\n",
       "embarked        0.224\n",
       "embark_town     0.224\n",
       "survived        0.000\n",
       "pclass          0.000\n",
       "sex             0.000\n",
       "sibsp           0.000\n",
       "parch           0.000\n",
       "fare            0.000\n",
       "class           0.000\n",
       "who             0.000\n",
       "adult_male      0.000\n",
       "alive           0.000\n",
       "alone           0.000\n",
       "dtype: float64"
      ]
     },
     "execution_count": 7,
     "metadata": {},
     "output_type": "execute_result"
    }
   ],
   "source": [
    "round(data.isnull().sum() / len(data) * 100,3).sort_values(ascending = False)"
   ]
  },
  {
   "cell_type": "code",
   "execution_count": 8,
   "id": "34a83996-cdc6-46b9-9fbe-548f097333d8",
   "metadata": {},
   "outputs": [],
   "source": [
    "data = data.drop(['deck'], axis=1)"
   ]
  },
  {
   "cell_type": "markdown",
   "id": "38b5674b-d8ba-49d6-b10e-b32e811d4928",
   "metadata": {
    "jp-MarkdownHeadingCollapsed": true
   },
   "source": [
    "# Missing values "
   ]
  },
  {
   "cell_type": "markdown",
   "id": "6b8d9253-ba02-4071-9382-ed744978d337",
   "metadata": {
    "jp-MarkdownHeadingCollapsed": true
   },
   "source": [
    "## How to impute with univariate (simple impute with sklearn ) "
   ]
  },
  {
   "cell_type": "code",
   "execution_count": 11,
   "id": "f8ce042f-7522-4786-8f7d-a82f83d109cf",
   "metadata": {},
   "outputs": [],
   "source": [
    "from sklearn.impute import SimpleImputer"
   ]
  },
  {
   "cell_type": "code",
   "execution_count": 12,
   "id": "d1c0ee65-f2c4-4ae1-892e-3d16f052d02d",
   "metadata": {},
   "outputs": [],
   "source": [
    "imputer = SimpleImputer(strategy='median' )\n",
    "data['age'] = imputer.fit_transform(data[['age']])"
   ]
  },
  {
   "cell_type": "code",
   "execution_count": 13,
   "id": "de9e21e7-c9d9-4468-b524-3fc18c5a843e",
   "metadata": {
    "scrolled": true
   },
   "outputs": [
    {
     "data": {
      "text/plain": [
       "embarked       0.224\n",
       "embark_town    0.224\n",
       "survived       0.000\n",
       "pclass         0.000\n",
       "sex            0.000\n",
       "age            0.000\n",
       "sibsp          0.000\n",
       "parch          0.000\n",
       "fare           0.000\n",
       "class          0.000\n",
       "who            0.000\n",
       "adult_male     0.000\n",
       "alive          0.000\n",
       "alone          0.000\n",
       "dtype: float64"
      ]
     },
     "execution_count": 13,
     "metadata": {},
     "output_type": "execute_result"
    }
   ],
   "source": [
    "round((data.isnull().sum() / len(data) )* 100,3).sort_values(ascending = False)"
   ]
  },
  {
   "cell_type": "markdown",
   "id": "02723bb8-4d28-4e1d-91e4-93fa55344ce1",
   "metadata": {
    "jp-MarkdownHeadingCollapsed": true
   },
   "source": [
    "## how to impute with multiplevariate ( KNN impute with sklearn)"
   ]
  },
  {
   "cell_type": "code",
   "execution_count": 15,
   "id": "1ff40ec7-19db-484e-aad2-9051ac4548c7",
   "metadata": {},
   "outputs": [],
   "source": [
    "from sklearn.experimental import enable_iterative_imputer\n",
    "from sklearn.impute import IterativeImputer\n",
    "import seaborn as sns \n",
    "data = sns.load_dataset('titanic')\n",
    "impute =  IterativeImputer()\n",
    "data['age'] = impute.fit_transform(data[['age']])\n"
   ]
  },
  {
   "cell_type": "code",
   "execution_count": 16,
   "id": "dce3f91e-3c4c-4a93-9358-1d7dcb0885b0",
   "metadata": {},
   "outputs": [
    {
     "data": {
      "text/plain": [
       "survived         0\n",
       "pclass           0\n",
       "sex              0\n",
       "age              0\n",
       "sibsp            0\n",
       "parch            0\n",
       "fare             0\n",
       "embarked         2\n",
       "class            0\n",
       "who              0\n",
       "adult_male       0\n",
       "deck           688\n",
       "embark_town      2\n",
       "alive            0\n",
       "alone            0\n",
       "dtype: int64"
      ]
     },
     "execution_count": 16,
     "metadata": {},
     "output_type": "execute_result"
    }
   ],
   "source": [
    "data.isnull().sum()"
   ]
  },
  {
   "cell_type": "markdown",
   "id": "0385b83d-893f-467e-b44c-87d94bad1bc4",
   "metadata": {
    "jp-MarkdownHeadingCollapsed": true
   },
   "source": [
    "# Data inconsistencies "
   ]
  },
  {
   "cell_type": "code",
   "execution_count": 18,
   "id": "94399e6b-d3a7-4f05-a283-a9ef1f2b78ad",
   "metadata": {},
   "outputs": [],
   "source": [
    "import pandas as pd \n",
    "import seaborn as sns"
   ]
  },
  {
   "cell_type": "code",
   "execution_count": 19,
   "id": "445d558b-a7ec-4884-995c-883340f19cb0",
   "metadata": {},
   "outputs": [],
   "source": [
    "inconsistent_data = {\n",
    "    'CustomerID': [101, 102, 101, 103, 104, 102, 105],\n",
    "    'ProductName': ['Laptop', 'laptop', 'Mobile Phone', 'Mobile phone ', 'Tablet', ' tablet', 'Smartwatch'],\n",
    "    'Region': ['Lahore', 'LHR', 'Islamabad', 'ISB ', 'Karachi', 'KHI', 'Peshawar'],\n",
    "    'OrderDate': ['2024-10-20', '10/20/2024', '2024-11-05', '11-05-24', '2024-12-01', '12/01/24', '2025-01-10'],\n",
    "    'Quantity': [2, 1, '1', 3, '2', 1, 4],\n",
    "    'Price': [1200.50, '800', 350, '400.00', 250.75, '280', 150],\n",
    "    'Status': ['Shipped', 'shipped', 'Delivered', 'DELIVERED ', 'Pending', 'pending ', 'SHIPPED']\n",
    "}"
   ]
  },
  {
   "cell_type": "code",
   "execution_count": 20,
   "id": "9471cdeb-da58-4b61-8912-bd190fdbd184",
   "metadata": {},
   "outputs": [],
   "source": [
    "data = pd.DataFrame(inconsistent_data)"
   ]
  },
  {
   "cell_type": "code",
   "execution_count": 21,
   "id": "8cb86627-d07d-416f-acdc-e0254961780b",
   "metadata": {},
   "outputs": [
    {
     "data": {
      "text/html": [
       "<div>\n",
       "<style scoped>\n",
       "    .dataframe tbody tr th:only-of-type {\n",
       "        vertical-align: middle;\n",
       "    }\n",
       "\n",
       "    .dataframe tbody tr th {\n",
       "        vertical-align: top;\n",
       "    }\n",
       "\n",
       "    .dataframe thead th {\n",
       "        text-align: right;\n",
       "    }\n",
       "</style>\n",
       "<table border=\"1\" class=\"dataframe\">\n",
       "  <thead>\n",
       "    <tr style=\"text-align: right;\">\n",
       "      <th></th>\n",
       "      <th>CustomerID</th>\n",
       "      <th>ProductName</th>\n",
       "      <th>Region</th>\n",
       "      <th>OrderDate</th>\n",
       "      <th>Quantity</th>\n",
       "      <th>Price</th>\n",
       "      <th>Status</th>\n",
       "    </tr>\n",
       "  </thead>\n",
       "  <tbody>\n",
       "    <tr>\n",
       "      <th>0</th>\n",
       "      <td>101</td>\n",
       "      <td>Laptop</td>\n",
       "      <td>Lahore</td>\n",
       "      <td>2024-10-20</td>\n",
       "      <td>2</td>\n",
       "      <td>1200.5</td>\n",
       "      <td>Shipped</td>\n",
       "    </tr>\n",
       "    <tr>\n",
       "      <th>1</th>\n",
       "      <td>102</td>\n",
       "      <td>laptop</td>\n",
       "      <td>LHR</td>\n",
       "      <td>10/20/2024</td>\n",
       "      <td>1</td>\n",
       "      <td>800</td>\n",
       "      <td>shipped</td>\n",
       "    </tr>\n",
       "    <tr>\n",
       "      <th>2</th>\n",
       "      <td>101</td>\n",
       "      <td>Mobile Phone</td>\n",
       "      <td>Islamabad</td>\n",
       "      <td>2024-11-05</td>\n",
       "      <td>1</td>\n",
       "      <td>350</td>\n",
       "      <td>Delivered</td>\n",
       "    </tr>\n",
       "    <tr>\n",
       "      <th>3</th>\n",
       "      <td>103</td>\n",
       "      <td>Mobile phone</td>\n",
       "      <td>ISB</td>\n",
       "      <td>11-05-24</td>\n",
       "      <td>3</td>\n",
       "      <td>400.00</td>\n",
       "      <td>DELIVERED</td>\n",
       "    </tr>\n",
       "    <tr>\n",
       "      <th>4</th>\n",
       "      <td>104</td>\n",
       "      <td>Tablet</td>\n",
       "      <td>Karachi</td>\n",
       "      <td>2024-12-01</td>\n",
       "      <td>2</td>\n",
       "      <td>250.75</td>\n",
       "      <td>Pending</td>\n",
       "    </tr>\n",
       "  </tbody>\n",
       "</table>\n",
       "</div>"
      ],
      "text/plain": [
       "   CustomerID    ProductName     Region   OrderDate Quantity   Price  \\\n",
       "0         101         Laptop     Lahore  2024-10-20        2  1200.5   \n",
       "1         102         laptop        LHR  10/20/2024        1     800   \n",
       "2         101   Mobile Phone  Islamabad  2024-11-05        1     350   \n",
       "3         103  Mobile phone        ISB     11-05-24        3  400.00   \n",
       "4         104         Tablet    Karachi  2024-12-01        2  250.75   \n",
       "\n",
       "       Status  \n",
       "0     Shipped  \n",
       "1     shipped  \n",
       "2   Delivered  \n",
       "3  DELIVERED   \n",
       "4     Pending  "
      ]
     },
     "execution_count": 21,
     "metadata": {},
     "output_type": "execute_result"
    }
   ],
   "source": [
    "data.head()"
   ]
  },
  {
   "cell_type": "code",
   "execution_count": 22,
   "id": "5419ebfa-2b0c-493b-9b40-682c94638c5e",
   "metadata": {},
   "outputs": [
    {
     "name": "stdout",
     "output_type": "stream",
     "text": [
      "Status data (Before)\n",
      "['Shipped' 'shipped' 'Delivered' 'DELIVERED ' 'Pending' 'pending '\n",
      " 'SHIPPED']\n"
     ]
    }
   ],
   "source": [
    "print('Status data (Before)')\n",
    "print (data.Status.unique())"
   ]
  },
  {
   "cell_type": "code",
   "execution_count": 23,
   "id": "96138b3c-8223-4541-b68b-daac24fd751b",
   "metadata": {},
   "outputs": [],
   "source": [
    "data['Status'] = data.Status.str.lower().str.strip()"
   ]
  },
  {
   "cell_type": "code",
   "execution_count": 24,
   "id": "cfa7b0a1-4174-43b6-8334-bdc4f78db9c6",
   "metadata": {},
   "outputs": [
    {
     "name": "stdout",
     "output_type": "stream",
     "text": [
      "Status data After removing strip and all lower in alpha\n"
     ]
    },
    {
     "data": {
      "text/plain": [
       "array(['shipped', 'delivered', 'pending'], dtype=object)"
      ]
     },
     "execution_count": 24,
     "metadata": {},
     "output_type": "execute_result"
    }
   ],
   "source": [
    "print('Status data After removing strip and all lower in alpha')\n",
    "data.Status.unique()"
   ]
  },
  {
   "cell_type": "code",
   "execution_count": 25,
   "id": "c5634469-5640-4654-94dc-80b97462ad9c",
   "metadata": {},
   "outputs": [
    {
     "name": "stdout",
     "output_type": "stream",
     "text": [
      "Quantity values (Before)\n",
      "6\n"
     ]
    }
   ],
   "source": [
    "print('Quantity values (Before)')\n",
    "print (data.Quantity.nunique())"
   ]
  },
  {
   "cell_type": "code",
   "execution_count": 26,
   "id": "85d68bf8-5f91-48bc-b334-75e3b00d2421",
   "metadata": {},
   "outputs": [],
   "source": [
    "data['Quantity']=data.Quantity.astype(int)"
   ]
  },
  {
   "cell_type": "code",
   "execution_count": 27,
   "id": "8717c544-3d58-440b-a329-1208b3478756",
   "metadata": {},
   "outputs": [
    {
     "name": "stdout",
     "output_type": "stream",
     "text": [
      "Quantity after setting Integer values only\n"
     ]
    },
    {
     "data": {
      "text/plain": [
       "4"
      ]
     },
     "execution_count": 27,
     "metadata": {},
     "output_type": "execute_result"
    }
   ],
   "source": [
    "print('Quantity after setting Integer values only')\n",
    "data.Quantity.nunique()"
   ]
  },
  {
   "cell_type": "code",
   "execution_count": 28,
   "id": "ecb2f642-0c13-4ad0-a92a-238eafefe242",
   "metadata": {},
   "outputs": [],
   "source": [
    "## Price all in floating values \n",
    "data['Price'] = data['Price'].astype(float)"
   ]
  },
  {
   "cell_type": "code",
   "execution_count": 29,
   "id": "ba772ec4-ff00-43c4-8e3a-7e16b964295b",
   "metadata": {},
   "outputs": [
    {
     "data": {
      "text/html": [
       "<div>\n",
       "<style scoped>\n",
       "    .dataframe tbody tr th:only-of-type {\n",
       "        vertical-align: middle;\n",
       "    }\n",
       "\n",
       "    .dataframe tbody tr th {\n",
       "        vertical-align: top;\n",
       "    }\n",
       "\n",
       "    .dataframe thead th {\n",
       "        text-align: right;\n",
       "    }\n",
       "</style>\n",
       "<table border=\"1\" class=\"dataframe\">\n",
       "  <thead>\n",
       "    <tr style=\"text-align: right;\">\n",
       "      <th></th>\n",
       "      <th>CustomerID</th>\n",
       "      <th>ProductName</th>\n",
       "      <th>Region</th>\n",
       "      <th>OrderDate</th>\n",
       "      <th>Quantity</th>\n",
       "      <th>Price</th>\n",
       "      <th>Status</th>\n",
       "    </tr>\n",
       "  </thead>\n",
       "  <tbody>\n",
       "    <tr>\n",
       "      <th>0</th>\n",
       "      <td>101</td>\n",
       "      <td>Laptop</td>\n",
       "      <td>Lahore</td>\n",
       "      <td>2024-10-20</td>\n",
       "      <td>2</td>\n",
       "      <td>1200.50</td>\n",
       "      <td>shipped</td>\n",
       "    </tr>\n",
       "    <tr>\n",
       "      <th>1</th>\n",
       "      <td>102</td>\n",
       "      <td>laptop</td>\n",
       "      <td>LHR</td>\n",
       "      <td>10/20/2024</td>\n",
       "      <td>1</td>\n",
       "      <td>800.00</td>\n",
       "      <td>shipped</td>\n",
       "    </tr>\n",
       "    <tr>\n",
       "      <th>2</th>\n",
       "      <td>101</td>\n",
       "      <td>Mobile Phone</td>\n",
       "      <td>Islamabad</td>\n",
       "      <td>2024-11-05</td>\n",
       "      <td>1</td>\n",
       "      <td>350.00</td>\n",
       "      <td>delivered</td>\n",
       "    </tr>\n",
       "    <tr>\n",
       "      <th>3</th>\n",
       "      <td>103</td>\n",
       "      <td>Mobile phone</td>\n",
       "      <td>ISB</td>\n",
       "      <td>11-05-24</td>\n",
       "      <td>3</td>\n",
       "      <td>400.00</td>\n",
       "      <td>delivered</td>\n",
       "    </tr>\n",
       "    <tr>\n",
       "      <th>4</th>\n",
       "      <td>104</td>\n",
       "      <td>Tablet</td>\n",
       "      <td>Karachi</td>\n",
       "      <td>2024-12-01</td>\n",
       "      <td>2</td>\n",
       "      <td>250.75</td>\n",
       "      <td>pending</td>\n",
       "    </tr>\n",
       "    <tr>\n",
       "      <th>5</th>\n",
       "      <td>102</td>\n",
       "      <td>tablet</td>\n",
       "      <td>KHI</td>\n",
       "      <td>12/01/24</td>\n",
       "      <td>1</td>\n",
       "      <td>280.00</td>\n",
       "      <td>pending</td>\n",
       "    </tr>\n",
       "    <tr>\n",
       "      <th>6</th>\n",
       "      <td>105</td>\n",
       "      <td>Smartwatch</td>\n",
       "      <td>Peshawar</td>\n",
       "      <td>2025-01-10</td>\n",
       "      <td>4</td>\n",
       "      <td>150.00</td>\n",
       "      <td>shipped</td>\n",
       "    </tr>\n",
       "  </tbody>\n",
       "</table>\n",
       "</div>"
      ],
      "text/plain": [
       "   CustomerID    ProductName     Region   OrderDate  Quantity    Price  \\\n",
       "0         101         Laptop     Lahore  2024-10-20         2  1200.50   \n",
       "1         102         laptop        LHR  10/20/2024         1   800.00   \n",
       "2         101   Mobile Phone  Islamabad  2024-11-05         1   350.00   \n",
       "3         103  Mobile phone        ISB     11-05-24         3   400.00   \n",
       "4         104         Tablet    Karachi  2024-12-01         2   250.75   \n",
       "5         102         tablet        KHI    12/01/24         1   280.00   \n",
       "6         105     Smartwatch   Peshawar  2025-01-10         4   150.00   \n",
       "\n",
       "      Status  \n",
       "0    shipped  \n",
       "1    shipped  \n",
       "2  delivered  \n",
       "3  delivered  \n",
       "4    pending  \n",
       "5    pending  \n",
       "6    shipped  "
      ]
     },
     "execution_count": 29,
     "metadata": {},
     "output_type": "execute_result"
    }
   ],
   "source": [
    "data"
   ]
  },
  {
   "cell_type": "code",
   "execution_count": 30,
   "id": "28f022b6-6edc-49b4-8765-c5c76ad0280e",
   "metadata": {},
   "outputs": [
    {
     "data": {
      "text/plain": [
       "array(['Lahore', 'LHR', 'Islamabad', 'ISB ', 'Karachi', 'KHI', 'Peshawar'],\n",
       "      dtype=object)"
      ]
     },
     "execution_count": 30,
     "metadata": {},
     "output_type": "execute_result"
    }
   ],
   "source": [
    "data['Region'].unique()"
   ]
  },
  {
   "cell_type": "code",
   "execution_count": 31,
   "id": "851c9c3f-59c3-473e-b64f-f401c7b72985",
   "metadata": {},
   "outputs": [],
   "source": [
    "\n",
    "data['Region'] = data['Region'].str.strip()"
   ]
  },
  {
   "cell_type": "code",
   "execution_count": 32,
   "id": "699f4ca4-1def-4c98-9555-7ada3eca5037",
   "metadata": {},
   "outputs": [],
   "source": [
    "# This code is generate by the AI tool for fast coding and fast praciting \n",
    "city_mapping = {\n",
    "    # Lahore variations\n",
    "    'Lahore': 'Lahore',\n",
    "    'LHR': 'Lahore',\n",
    "    'Lahur': 'Lahore', # Common misspelling or historical reference\n",
    "\n",
    "    # Islamabad variations\n",
    "    'Islamabad': 'Islamabad',\n",
    "    'ISB': 'Islamabad',\n",
    "    'Isbd': 'Islamabad', # Abbreviation\n",
    "\n",
    "    # Karachi variations\n",
    "    'Karachi': 'Karachi',\n",
    "    'KHI': 'Karachi',\n",
    "    'KRC': 'Karachi', # Another common abbreviation\n",
    "\n",
    "    # Peshawar variations\n",
    "    'Peshawar': 'Peshawar',\n",
    "    'PSH': 'Peshawar',\n",
    "    'Pesh': 'Peshawar', # Shortened form\n",
    "\n",
    "    # Rawalpindi variations\n",
    "    'Rawalpindi': 'Rawalpindi',\n",
    "    'RWP': 'Rawalpindi',\n",
    "    'Pindi': 'Rawalpindi', # Common local nickname\n",
    "\n",
    "    # Faisalabad variations\n",
    "    'Faisalabad': 'Faisalabad',\n",
    "    'FSD': 'Faisalabad',\n",
    "    'Lyallpur': 'Faisalabad', # Former name\n",
    "\n",
    "    # Multan variations\n",
    "    'Multan': 'Multan',\n",
    "    'MTN': 'Multan',\n",
    "    'Mult': 'Multan', # Shortened form\n",
    "\n",
    "    # Hyderabad variations\n",
    "    'Hyderabad': 'Hyderabad',\n",
    "    'HYD': 'Hyderabad',\n",
    "    'Hyd': 'Hyderabad', # Shortened form\n",
    "\n",
    "    # Quetta variations\n",
    "    'Quetta': 'Quetta',\n",
    "    'UET': 'Quetta',\n",
    "    'QTA': 'Quetta', # Abbreviation\n",
    "\n",
    "    # Sialkot variations\n",
    "    'Sialkot': 'Sialkot',\n",
    "    'SKT': 'Sialkot',\n",
    "\n",
    "    # Gujranwala variations\n",
    "    'Gujranwala': 'Gujranwala',\n",
    "    'GRW': 'Gujranwala',\n",
    "    'Guj': 'Gujranwala' # Shortened form\n",
    "}\n"
   ]
  },
  {
   "cell_type": "code",
   "execution_count": 33,
   "id": "76007775-d723-49dc-9f50-5b67f9d949e7",
   "metadata": {},
   "outputs": [],
   "source": [
    "data['Region'] = data['Region'].replace(city_mapping)"
   ]
  },
  {
   "cell_type": "code",
   "execution_count": 34,
   "id": "050433cd-93d1-4b33-b8c0-b11960e30630",
   "metadata": {},
   "outputs": [
    {
     "data": {
      "text/plain": [
       "array(['Lahore', 'Islamabad', 'Karachi', 'Peshawar'], dtype=object)"
      ]
     },
     "execution_count": 34,
     "metadata": {},
     "output_type": "execute_result"
    }
   ],
   "source": [
    "data['Region'].unique()"
   ]
  },
  {
   "cell_type": "code",
   "execution_count": 35,
   "id": "913d5a7c-4b58-48a0-a652-9f104c0c8131",
   "metadata": {},
   "outputs": [],
   "source": [
    "data['ProductName'] = data.ProductName.str.strip()"
   ]
  },
  {
   "cell_type": "code",
   "execution_count": 36,
   "id": "14400f84-ded1-4485-99c9-ffb8307064bc",
   "metadata": {},
   "outputs": [
    {
     "data": {
      "text/plain": [
       "array(['Laptop', 'laptop', 'Mobile Phone', 'Mobile phone', 'Tablet',\n",
       "       'tablet', 'Smartwatch'], dtype=object)"
      ]
     },
     "execution_count": 36,
     "metadata": {},
     "output_type": "execute_result"
    }
   ],
   "source": [
    "data.ProductName.unique()"
   ]
  },
  {
   "cell_type": "code",
   "execution_count": 37,
   "id": "7aa404cd-c97d-4b8e-8172-6623929b57ef",
   "metadata": {},
   "outputs": [],
   "source": [
    "# this code genereate by AI.... for fast code\n",
    "Product_mapping = {\n",
    "    'laptop': 'Laptop',          # Standardize 'laptop' to 'Laptop'\n",
    "    'Mobile phone': 'Mobile Phone', # Standardize 'Mobile phone' to 'Mobile Phone'\n",
    "    'tablet': 'Tablet',          # Standardize 'tablet' to 'Tablet'\n",
    "    'SMARTWATCH': 'Smartwatch',  # Standardize 'SMARTWATCH' to 'Smartwatch'\n",
    "    'desktop pc': 'Desktop PC'   # Standardize 'desktop pc' to 'Desktop PC'\n",
    "}"
   ]
  },
  {
   "cell_type": "code",
   "execution_count": 38,
   "id": "f4248d6d-9f92-4ae2-9263-ac5204aa1f6d",
   "metadata": {},
   "outputs": [],
   "source": [
    "data['ProductName'] = data['ProductName'].replace(Product_mapping)"
   ]
  },
  {
   "cell_type": "code",
   "execution_count": 39,
   "id": "233b7201-8c1d-4aed-b8de-21fdfb86b335",
   "metadata": {},
   "outputs": [
    {
     "data": {
      "text/plain": [
       "array(['Laptop', 'Mobile Phone', 'Tablet', 'Smartwatch'], dtype=object)"
      ]
     },
     "execution_count": 39,
     "metadata": {},
     "output_type": "execute_result"
    }
   ],
   "source": [
    "data.ProductName.unique()"
   ]
  },
  {
   "cell_type": "code",
   "execution_count": 40,
   "id": "da23e30a-d9ad-429d-b5d3-3633a32b713a",
   "metadata": {},
   "outputs": [
    {
     "data": {
      "text/plain": [
       "array([101, 102, 103, 104, 105])"
      ]
     },
     "execution_count": 40,
     "metadata": {},
     "output_type": "execute_result"
    }
   ],
   "source": [
    "data.CustomerID.unique()"
   ]
  },
  {
   "cell_type": "code",
   "execution_count": 41,
   "id": "c8c5d83f-2165-4644-b856-1b3e993c6fce",
   "metadata": {},
   "outputs": [
    {
     "data": {
      "text/html": [
       "<div>\n",
       "<style scoped>\n",
       "    .dataframe tbody tr th:only-of-type {\n",
       "        vertical-align: middle;\n",
       "    }\n",
       "\n",
       "    .dataframe tbody tr th {\n",
       "        vertical-align: top;\n",
       "    }\n",
       "\n",
       "    .dataframe thead th {\n",
       "        text-align: right;\n",
       "    }\n",
       "</style>\n",
       "<table border=\"1\" class=\"dataframe\">\n",
       "  <thead>\n",
       "    <tr style=\"text-align: right;\">\n",
       "      <th></th>\n",
       "      <th>CustomerID</th>\n",
       "      <th>ProductName</th>\n",
       "      <th>Region</th>\n",
       "      <th>OrderDate</th>\n",
       "      <th>Quantity</th>\n",
       "      <th>Price</th>\n",
       "      <th>Status</th>\n",
       "    </tr>\n",
       "  </thead>\n",
       "  <tbody>\n",
       "    <tr>\n",
       "      <th>0</th>\n",
       "      <td>101</td>\n",
       "      <td>Laptop</td>\n",
       "      <td>Lahore</td>\n",
       "      <td>2024-10-20</td>\n",
       "      <td>2</td>\n",
       "      <td>1200.50</td>\n",
       "      <td>shipped</td>\n",
       "    </tr>\n",
       "    <tr>\n",
       "      <th>1</th>\n",
       "      <td>102</td>\n",
       "      <td>Laptop</td>\n",
       "      <td>Lahore</td>\n",
       "      <td>10/20/2024</td>\n",
       "      <td>1</td>\n",
       "      <td>800.00</td>\n",
       "      <td>shipped</td>\n",
       "    </tr>\n",
       "    <tr>\n",
       "      <th>2</th>\n",
       "      <td>101</td>\n",
       "      <td>Mobile Phone</td>\n",
       "      <td>Islamabad</td>\n",
       "      <td>2024-11-05</td>\n",
       "      <td>1</td>\n",
       "      <td>350.00</td>\n",
       "      <td>delivered</td>\n",
       "    </tr>\n",
       "    <tr>\n",
       "      <th>3</th>\n",
       "      <td>103</td>\n",
       "      <td>Mobile Phone</td>\n",
       "      <td>Islamabad</td>\n",
       "      <td>11-05-24</td>\n",
       "      <td>3</td>\n",
       "      <td>400.00</td>\n",
       "      <td>delivered</td>\n",
       "    </tr>\n",
       "    <tr>\n",
       "      <th>4</th>\n",
       "      <td>104</td>\n",
       "      <td>Tablet</td>\n",
       "      <td>Karachi</td>\n",
       "      <td>2024-12-01</td>\n",
       "      <td>2</td>\n",
       "      <td>250.75</td>\n",
       "      <td>pending</td>\n",
       "    </tr>\n",
       "    <tr>\n",
       "      <th>5</th>\n",
       "      <td>102</td>\n",
       "      <td>Tablet</td>\n",
       "      <td>Karachi</td>\n",
       "      <td>12/01/24</td>\n",
       "      <td>1</td>\n",
       "      <td>280.00</td>\n",
       "      <td>pending</td>\n",
       "    </tr>\n",
       "    <tr>\n",
       "      <th>6</th>\n",
       "      <td>105</td>\n",
       "      <td>Smartwatch</td>\n",
       "      <td>Peshawar</td>\n",
       "      <td>2025-01-10</td>\n",
       "      <td>4</td>\n",
       "      <td>150.00</td>\n",
       "      <td>shipped</td>\n",
       "    </tr>\n",
       "  </tbody>\n",
       "</table>\n",
       "</div>"
      ],
      "text/plain": [
       "   CustomerID   ProductName     Region   OrderDate  Quantity    Price  \\\n",
       "0         101        Laptop     Lahore  2024-10-20         2  1200.50   \n",
       "1         102        Laptop     Lahore  10/20/2024         1   800.00   \n",
       "2         101  Mobile Phone  Islamabad  2024-11-05         1   350.00   \n",
       "3         103  Mobile Phone  Islamabad    11-05-24         3   400.00   \n",
       "4         104        Tablet    Karachi  2024-12-01         2   250.75   \n",
       "5         102        Tablet    Karachi    12/01/24         1   280.00   \n",
       "6         105    Smartwatch   Peshawar  2025-01-10         4   150.00   \n",
       "\n",
       "      Status  \n",
       "0    shipped  \n",
       "1    shipped  \n",
       "2  delivered  \n",
       "3  delivered  \n",
       "4    pending  \n",
       "5    pending  \n",
       "6    shipped  "
      ]
     },
     "execution_count": 41,
     "metadata": {},
     "output_type": "execute_result"
    }
   ],
   "source": [
    "data"
   ]
  },
  {
   "cell_type": "code",
   "execution_count": 42,
   "id": "eb3e99e4-ebcc-412e-bcea-e2a216d7cd17",
   "metadata": {},
   "outputs": [
    {
     "data": {
      "text/plain": [
       "0    2024-10-20\n",
       "1    10/20/2024\n",
       "2    2024-11-05\n",
       "3      11-05-24\n",
       "4    2024-12-01\n",
       "5      12/01/24\n",
       "6    2025-01-10\n",
       "Name: OrderDate, dtype: object"
      ]
     },
     "execution_count": 42,
     "metadata": {},
     "output_type": "execute_result"
    }
   ],
   "source": [
    "data['OrderDate'] "
   ]
  },
  {
   "cell_type": "code",
   "execution_count": 43,
   "id": "fbc5853b-8c18-4934-a295-76e32552827f",
   "metadata": {},
   "outputs": [],
   "source": [
    "data.OrderDate = pd.to_datetime(data['OrderDate' ] ,format = 'mixed')"
   ]
  },
  {
   "cell_type": "code",
   "execution_count": 44,
   "id": "f4cab357-d8f7-404b-b30f-adc13038f9af",
   "metadata": {},
   "outputs": [],
   "source": [
    "data.OrderDate = data['OrderDate'].dt.strftime('%d/%m/%y')\n"
   ]
  },
  {
   "cell_type": "code",
   "execution_count": 45,
   "id": "b8871612-5a28-47f4-bc23-973ad434cd22",
   "metadata": {},
   "outputs": [
    {
     "data": {
      "text/html": [
       "<div>\n",
       "<style scoped>\n",
       "    .dataframe tbody tr th:only-of-type {\n",
       "        vertical-align: middle;\n",
       "    }\n",
       "\n",
       "    .dataframe tbody tr th {\n",
       "        vertical-align: top;\n",
       "    }\n",
       "\n",
       "    .dataframe thead th {\n",
       "        text-align: right;\n",
       "    }\n",
       "</style>\n",
       "<table border=\"1\" class=\"dataframe\">\n",
       "  <thead>\n",
       "    <tr style=\"text-align: right;\">\n",
       "      <th></th>\n",
       "      <th>CustomerID</th>\n",
       "      <th>ProductName</th>\n",
       "      <th>Region</th>\n",
       "      <th>OrderDate</th>\n",
       "      <th>Quantity</th>\n",
       "      <th>Price</th>\n",
       "      <th>Status</th>\n",
       "    </tr>\n",
       "  </thead>\n",
       "  <tbody>\n",
       "    <tr>\n",
       "      <th>0</th>\n",
       "      <td>101</td>\n",
       "      <td>Laptop</td>\n",
       "      <td>Lahore</td>\n",
       "      <td>20/10/24</td>\n",
       "      <td>2</td>\n",
       "      <td>1200.50</td>\n",
       "      <td>shipped</td>\n",
       "    </tr>\n",
       "    <tr>\n",
       "      <th>1</th>\n",
       "      <td>102</td>\n",
       "      <td>Laptop</td>\n",
       "      <td>Lahore</td>\n",
       "      <td>20/10/24</td>\n",
       "      <td>1</td>\n",
       "      <td>800.00</td>\n",
       "      <td>shipped</td>\n",
       "    </tr>\n",
       "    <tr>\n",
       "      <th>2</th>\n",
       "      <td>101</td>\n",
       "      <td>Mobile Phone</td>\n",
       "      <td>Islamabad</td>\n",
       "      <td>05/11/24</td>\n",
       "      <td>1</td>\n",
       "      <td>350.00</td>\n",
       "      <td>delivered</td>\n",
       "    </tr>\n",
       "    <tr>\n",
       "      <th>3</th>\n",
       "      <td>103</td>\n",
       "      <td>Mobile Phone</td>\n",
       "      <td>Islamabad</td>\n",
       "      <td>05/11/24</td>\n",
       "      <td>3</td>\n",
       "      <td>400.00</td>\n",
       "      <td>delivered</td>\n",
       "    </tr>\n",
       "    <tr>\n",
       "      <th>4</th>\n",
       "      <td>104</td>\n",
       "      <td>Tablet</td>\n",
       "      <td>Karachi</td>\n",
       "      <td>01/12/24</td>\n",
       "      <td>2</td>\n",
       "      <td>250.75</td>\n",
       "      <td>pending</td>\n",
       "    </tr>\n",
       "    <tr>\n",
       "      <th>5</th>\n",
       "      <td>102</td>\n",
       "      <td>Tablet</td>\n",
       "      <td>Karachi</td>\n",
       "      <td>01/12/24</td>\n",
       "      <td>1</td>\n",
       "      <td>280.00</td>\n",
       "      <td>pending</td>\n",
       "    </tr>\n",
       "    <tr>\n",
       "      <th>6</th>\n",
       "      <td>105</td>\n",
       "      <td>Smartwatch</td>\n",
       "      <td>Peshawar</td>\n",
       "      <td>10/01/25</td>\n",
       "      <td>4</td>\n",
       "      <td>150.00</td>\n",
       "      <td>shipped</td>\n",
       "    </tr>\n",
       "  </tbody>\n",
       "</table>\n",
       "</div>"
      ],
      "text/plain": [
       "   CustomerID   ProductName     Region OrderDate  Quantity    Price     Status\n",
       "0         101        Laptop     Lahore  20/10/24         2  1200.50    shipped\n",
       "1         102        Laptop     Lahore  20/10/24         1   800.00    shipped\n",
       "2         101  Mobile Phone  Islamabad  05/11/24         1   350.00  delivered\n",
       "3         103  Mobile Phone  Islamabad  05/11/24         3   400.00  delivered\n",
       "4         104        Tablet    Karachi  01/12/24         2   250.75    pending\n",
       "5         102        Tablet    Karachi  01/12/24         1   280.00    pending\n",
       "6         105    Smartwatch   Peshawar  10/01/25         4   150.00    shipped"
      ]
     },
     "execution_count": 45,
     "metadata": {},
     "output_type": "execute_result"
    }
   ],
   "source": [
    "data"
   ]
  },
  {
   "cell_type": "code",
   "execution_count": null,
   "id": "1c546782-64aa-4b57-ad0e-92c336ea76d9",
   "metadata": {},
   "outputs": [],
   "source": []
  },
  {
   "cell_type": "markdown",
   "id": "639d13bb-3c56-4fa7-8f88-80a6ade176b4",
   "metadata": {
    "jp-MarkdownHeadingCollapsed": true
   },
   "source": [
    "# Outliers "
   ]
  },
  {
   "cell_type": "code",
   "execution_count": 47,
   "id": "713cddcc-cadd-40ea-a695-ca4303b58f12",
   "metadata": {},
   "outputs": [],
   "source": [
    "Outliers_data = {\n",
    "    'Age': [20, 21, 22, 23, 24, 25, 26, 27, 28, 29, 30, 50],\n",
    "    'Income': [1000, 150000, 50907, 55456, 64770, 53755, 60339, 50870, 64480, 58566, 44739, 39157],\n",
    "    'Height': [152, 174, 100, 250, 165, 184, 164, 171, 183, 177, 152, 175]\n",
    "}"
   ]
  },
  {
   "cell_type": "code",
   "execution_count": 48,
   "id": "fd037b3a-2196-47ad-b0de-83f235a13e85",
   "metadata": {},
   "outputs": [],
   "source": [
    "df = pd.DataFrame(Outliers_data)"
   ]
  },
  {
   "cell_type": "code",
   "execution_count": 49,
   "id": "e6dc1902-af24-42f4-9dac-99f9b2eaa6d9",
   "metadata": {},
   "outputs": [
    {
     "data": {
      "text/html": [
       "<div>\n",
       "<style scoped>\n",
       "    .dataframe tbody tr th:only-of-type {\n",
       "        vertical-align: middle;\n",
       "    }\n",
       "\n",
       "    .dataframe tbody tr th {\n",
       "        vertical-align: top;\n",
       "    }\n",
       "\n",
       "    .dataframe thead th {\n",
       "        text-align: right;\n",
       "    }\n",
       "</style>\n",
       "<table border=\"1\" class=\"dataframe\">\n",
       "  <thead>\n",
       "    <tr style=\"text-align: right;\">\n",
       "      <th></th>\n",
       "      <th>Age</th>\n",
       "      <th>Income</th>\n",
       "      <th>Height</th>\n",
       "    </tr>\n",
       "  </thead>\n",
       "  <tbody>\n",
       "    <tr>\n",
       "      <th>0</th>\n",
       "      <td>20</td>\n",
       "      <td>1000</td>\n",
       "      <td>152</td>\n",
       "    </tr>\n",
       "    <tr>\n",
       "      <th>1</th>\n",
       "      <td>21</td>\n",
       "      <td>150000</td>\n",
       "      <td>174</td>\n",
       "    </tr>\n",
       "    <tr>\n",
       "      <th>2</th>\n",
       "      <td>22</td>\n",
       "      <td>50907</td>\n",
       "      <td>100</td>\n",
       "    </tr>\n",
       "    <tr>\n",
       "      <th>3</th>\n",
       "      <td>23</td>\n",
       "      <td>55456</td>\n",
       "      <td>250</td>\n",
       "    </tr>\n",
       "    <tr>\n",
       "      <th>4</th>\n",
       "      <td>24</td>\n",
       "      <td>64770</td>\n",
       "      <td>165</td>\n",
       "    </tr>\n",
       "    <tr>\n",
       "      <th>5</th>\n",
       "      <td>25</td>\n",
       "      <td>53755</td>\n",
       "      <td>184</td>\n",
       "    </tr>\n",
       "    <tr>\n",
       "      <th>6</th>\n",
       "      <td>26</td>\n",
       "      <td>60339</td>\n",
       "      <td>164</td>\n",
       "    </tr>\n",
       "    <tr>\n",
       "      <th>7</th>\n",
       "      <td>27</td>\n",
       "      <td>50870</td>\n",
       "      <td>171</td>\n",
       "    </tr>\n",
       "    <tr>\n",
       "      <th>8</th>\n",
       "      <td>28</td>\n",
       "      <td>64480</td>\n",
       "      <td>183</td>\n",
       "    </tr>\n",
       "    <tr>\n",
       "      <th>9</th>\n",
       "      <td>29</td>\n",
       "      <td>58566</td>\n",
       "      <td>177</td>\n",
       "    </tr>\n",
       "    <tr>\n",
       "      <th>10</th>\n",
       "      <td>30</td>\n",
       "      <td>44739</td>\n",
       "      <td>152</td>\n",
       "    </tr>\n",
       "    <tr>\n",
       "      <th>11</th>\n",
       "      <td>50</td>\n",
       "      <td>39157</td>\n",
       "      <td>175</td>\n",
       "    </tr>\n",
       "  </tbody>\n",
       "</table>\n",
       "</div>"
      ],
      "text/plain": [
       "    Age  Income  Height\n",
       "0    20    1000     152\n",
       "1    21  150000     174\n",
       "2    22   50907     100\n",
       "3    23   55456     250\n",
       "4    24   64770     165\n",
       "5    25   53755     184\n",
       "6    26   60339     164\n",
       "7    27   50870     171\n",
       "8    28   64480     183\n",
       "9    29   58566     177\n",
       "10   30   44739     152\n",
       "11   50   39157     175"
      ]
     },
     "execution_count": 49,
     "metadata": {},
     "output_type": "execute_result"
    }
   ],
   "source": [
    "df"
   ]
  },
  {
   "cell_type": "markdown",
   "id": "5c16aead-3d03-4b71-a12f-5dcd1146f103",
   "metadata": {},
   "source": [
    "## By Using Z scores"
   ]
  },
  {
   "cell_type": "code",
   "execution_count": 51,
   "id": "de2c865d-d7a7-4743-af92-6ed360b988d2",
   "metadata": {},
   "outputs": [],
   "source": [
    "import pandas as pd \n",
    "import numpy as np\n",
    "import seaborn as sns"
   ]
  },
  {
   "cell_type": "code",
   "execution_count": 52,
   "id": "b5daea00-9294-4fd1-876c-372e2101c27a",
   "metadata": {},
   "outputs": [
    {
     "data": {
      "text/html": [
       "<div>\n",
       "<style scoped>\n",
       "    .dataframe tbody tr th:only-of-type {\n",
       "        vertical-align: middle;\n",
       "    }\n",
       "\n",
       "    .dataframe tbody tr th {\n",
       "        vertical-align: top;\n",
       "    }\n",
       "\n",
       "    .dataframe thead th {\n",
       "        text-align: right;\n",
       "    }\n",
       "</style>\n",
       "<table border=\"1\" class=\"dataframe\">\n",
       "  <thead>\n",
       "    <tr style=\"text-align: right;\">\n",
       "      <th></th>\n",
       "      <th>Age</th>\n",
       "      <th>Income</th>\n",
       "      <th>Height</th>\n",
       "      <th>z_score</th>\n",
       "    </tr>\n",
       "  </thead>\n",
       "  <tbody>\n",
       "    <tr>\n",
       "      <th>0</th>\n",
       "      <td>20</td>\n",
       "      <td>1000</td>\n",
       "      <td>152</td>\n",
       "      <td>-0.938954</td>\n",
       "    </tr>\n",
       "    <tr>\n",
       "      <th>1</th>\n",
       "      <td>21</td>\n",
       "      <td>150000</td>\n",
       "      <td>174</td>\n",
       "      <td>-0.806396</td>\n",
       "    </tr>\n",
       "    <tr>\n",
       "      <th>2</th>\n",
       "      <td>22</td>\n",
       "      <td>50907</td>\n",
       "      <td>100</td>\n",
       "      <td>-0.673838</td>\n",
       "    </tr>\n",
       "    <tr>\n",
       "      <th>3</th>\n",
       "      <td>23</td>\n",
       "      <td>55456</td>\n",
       "      <td>250</td>\n",
       "      <td>-0.541280</td>\n",
       "    </tr>\n",
       "    <tr>\n",
       "      <th>4</th>\n",
       "      <td>24</td>\n",
       "      <td>64770</td>\n",
       "      <td>165</td>\n",
       "      <td>-0.408721</td>\n",
       "    </tr>\n",
       "    <tr>\n",
       "      <th>5</th>\n",
       "      <td>25</td>\n",
       "      <td>53755</td>\n",
       "      <td>184</td>\n",
       "      <td>-0.276163</td>\n",
       "    </tr>\n",
       "    <tr>\n",
       "      <th>6</th>\n",
       "      <td>26</td>\n",
       "      <td>60339</td>\n",
       "      <td>164</td>\n",
       "      <td>-0.143605</td>\n",
       "    </tr>\n",
       "    <tr>\n",
       "      <th>7</th>\n",
       "      <td>27</td>\n",
       "      <td>50870</td>\n",
       "      <td>171</td>\n",
       "      <td>-0.011047</td>\n",
       "    </tr>\n",
       "    <tr>\n",
       "      <th>8</th>\n",
       "      <td>28</td>\n",
       "      <td>64480</td>\n",
       "      <td>183</td>\n",
       "      <td>0.121512</td>\n",
       "    </tr>\n",
       "    <tr>\n",
       "      <th>9</th>\n",
       "      <td>29</td>\n",
       "      <td>58566</td>\n",
       "      <td>177</td>\n",
       "      <td>0.254070</td>\n",
       "    </tr>\n",
       "    <tr>\n",
       "      <th>10</th>\n",
       "      <td>30</td>\n",
       "      <td>44739</td>\n",
       "      <td>152</td>\n",
       "      <td>0.386628</td>\n",
       "    </tr>\n",
       "    <tr>\n",
       "      <th>11</th>\n",
       "      <td>50</td>\n",
       "      <td>39157</td>\n",
       "      <td>175</td>\n",
       "      <td>3.037793</td>\n",
       "    </tr>\n",
       "  </tbody>\n",
       "</table>\n",
       "</div>"
      ],
      "text/plain": [
       "    Age  Income  Height   z_score\n",
       "0    20    1000     152 -0.938954\n",
       "1    21  150000     174 -0.806396\n",
       "2    22   50907     100 -0.673838\n",
       "3    23   55456     250 -0.541280\n",
       "4    24   64770     165 -0.408721\n",
       "5    25   53755     184 -0.276163\n",
       "6    26   60339     164 -0.143605\n",
       "7    27   50870     171 -0.011047\n",
       "8    28   64480     183  0.121512\n",
       "9    29   58566     177  0.254070\n",
       "10   30   44739     152  0.386628\n",
       "11   50   39157     175  3.037793"
      ]
     },
     "execution_count": 52,
     "metadata": {},
     "output_type": "execute_result"
    }
   ],
   "source": [
    "mean = np.mean(df['Age'])\n",
    "std = np.std(df['Age'])\n",
    "mean , std\n",
    "df['z_score'] = (df['Age'] - mean )/ std\n",
    "df"
   ]
  },
  {
   "cell_type": "code",
   "execution_count": 53,
   "id": "84aa431c-ee56-4e75-8cd2-ddca81948c71",
   "metadata": {},
   "outputs": [],
   "source": [
    "## remove the outliesr which is greater than -3 or +3\n",
    "df = df[df['z_score'] <= 3]"
   ]
  },
  {
   "cell_type": "code",
   "execution_count": 54,
   "id": "b000c552-be53-4a5c-9479-38637a13eec7",
   "metadata": {},
   "outputs": [
    {
     "data": {
      "text/plain": [
       "<Axes: xlabel='Age', ylabel='Count'>"
      ]
     },
     "execution_count": 54,
     "metadata": {},
     "output_type": "execute_result"
    },
    {
     "data": {
      "image/png": "[encoded data removed]",
      "text/plain": [
       "<Figure size 640x480 with 1 Axes>"
      ]
     },
     "metadata": {},
     "output_type": "display_data"
    }
   ],
   "source": [
    "sns.histplot(df['Age'])"
   ]
  },
  {
   "cell_type": "markdown",
   "id": "b3745d31-9eb0-4dcb-9734-8777ffa940ba",
   "metadata": {},
   "source": [
    "## By Using IQR"
   ]
  },
  {
   "cell_type": "code",
   "execution_count": 56,
   "id": "cc36c556-5ac7-4af8-ad5b-e33a5718dce3",
   "metadata": {},
   "outputs": [
    {
     "data": {
      "text/html": [
       "<div>\n",
       "<style scoped>\n",
       "    .dataframe tbody tr th:only-of-type {\n",
       "        vertical-align: middle;\n",
       "    }\n",
       "\n",
       "    .dataframe tbody tr th {\n",
       "        vertical-align: top;\n",
       "    }\n",
       "\n",
       "    .dataframe thead th {\n",
       "        text-align: right;\n",
       "    }\n",
       "</style>\n",
       "<table border=\"1\" class=\"dataframe\">\n",
       "  <thead>\n",
       "    <tr style=\"text-align: right;\">\n",
       "      <th></th>\n",
       "      <th>Age</th>\n",
       "      <th>Income</th>\n",
       "      <th>Height</th>\n",
       "      <th>z_score</th>\n",
       "    </tr>\n",
       "  </thead>\n",
       "  <tbody>\n",
       "    <tr>\n",
       "      <th>0</th>\n",
       "      <td>20</td>\n",
       "      <td>1000</td>\n",
       "      <td>152</td>\n",
       "      <td>-0.938954</td>\n",
       "    </tr>\n",
       "    <tr>\n",
       "      <th>1</th>\n",
       "      <td>21</td>\n",
       "      <td>150000</td>\n",
       "      <td>174</td>\n",
       "      <td>-0.806396</td>\n",
       "    </tr>\n",
       "    <tr>\n",
       "      <th>2</th>\n",
       "      <td>22</td>\n",
       "      <td>50907</td>\n",
       "      <td>100</td>\n",
       "      <td>-0.673838</td>\n",
       "    </tr>\n",
       "    <tr>\n",
       "      <th>3</th>\n",
       "      <td>23</td>\n",
       "      <td>55456</td>\n",
       "      <td>250</td>\n",
       "      <td>-0.541280</td>\n",
       "    </tr>\n",
       "    <tr>\n",
       "      <th>4</th>\n",
       "      <td>24</td>\n",
       "      <td>64770</td>\n",
       "      <td>165</td>\n",
       "      <td>-0.408721</td>\n",
       "    </tr>\n",
       "    <tr>\n",
       "      <th>5</th>\n",
       "      <td>25</td>\n",
       "      <td>53755</td>\n",
       "      <td>184</td>\n",
       "      <td>-0.276163</td>\n",
       "    </tr>\n",
       "    <tr>\n",
       "      <th>6</th>\n",
       "      <td>26</td>\n",
       "      <td>60339</td>\n",
       "      <td>164</td>\n",
       "      <td>-0.143605</td>\n",
       "    </tr>\n",
       "    <tr>\n",
       "      <th>7</th>\n",
       "      <td>27</td>\n",
       "      <td>50870</td>\n",
       "      <td>171</td>\n",
       "      <td>-0.011047</td>\n",
       "    </tr>\n",
       "    <tr>\n",
       "      <th>8</th>\n",
       "      <td>28</td>\n",
       "      <td>64480</td>\n",
       "      <td>183</td>\n",
       "      <td>0.121512</td>\n",
       "    </tr>\n",
       "    <tr>\n",
       "      <th>9</th>\n",
       "      <td>29</td>\n",
       "      <td>58566</td>\n",
       "      <td>177</td>\n",
       "      <td>0.254070</td>\n",
       "    </tr>\n",
       "    <tr>\n",
       "      <th>10</th>\n",
       "      <td>30</td>\n",
       "      <td>44739</td>\n",
       "      <td>152</td>\n",
       "      <td>0.386628</td>\n",
       "    </tr>\n",
       "  </tbody>\n",
       "</table>\n",
       "</div>"
      ],
      "text/plain": [
       "    Age  Income  Height   z_score\n",
       "0    20    1000     152 -0.938954\n",
       "1    21  150000     174 -0.806396\n",
       "2    22   50907     100 -0.673838\n",
       "3    23   55456     250 -0.541280\n",
       "4    24   64770     165 -0.408721\n",
       "5    25   53755     184 -0.276163\n",
       "6    26   60339     164 -0.143605\n",
       "7    27   50870     171 -0.011047\n",
       "8    28   64480     183  0.121512\n",
       "9    29   58566     177  0.254070\n",
       "10   30   44739     152  0.386628"
      ]
     },
     "execution_count": 56,
     "metadata": {},
     "output_type": "execute_result"
    }
   ],
   "source": [
    "df "
   ]
  },
  {
   "cell_type": "markdown",
   "id": "73032353-b332-4c68-b322-1da29f3ba1f1",
   "metadata": {},
   "source": [
    "### Formula\n",
    "*IQR = Q3-Q1* "
   ]
  },
  {
   "cell_type": "code",
   "execution_count": 58,
   "id": "431960c5-eaf3-4f43-8a80-5e1fbe1ae724",
   "metadata": {},
   "outputs": [
    {
     "data": {
      "text/plain": [
       "(22.5, 27.5)"
      ]
     },
     "execution_count": 58,
     "metadata": {},
     "output_type": "execute_result"
    }
   ],
   "source": [
    "Q1 = np.percentile(df['Age'],25 ,)\n",
    "Q3 = np.percentile(df['Age'],75, )\n",
    "Q1,Q3"
   ]
  },
  {
   "cell_type": "code",
   "execution_count": 59,
   "id": "80c63a6a-41e5-4a5f-8e57-72376c751e90",
   "metadata": {},
   "outputs": [
    {
     "data": {
      "text/plain": [
       "(22.5, 27.5)"
      ]
     },
     "execution_count": 59,
     "metadata": {},
     "output_type": "execute_result"
    }
   ],
   "source": [
    "Q1 = np.percentile(df['Age'],25 , interpolation='midpoint')\n",
    "Q3 = np.percentile(df['Age'],75, interpolation='midpoint')\n",
    "Q1,Q3"
   ]
  },
  {
   "cell_type": "code",
   "execution_count": 60,
   "id": "2b63a0fb-ead4-4500-85b1-e290fc1c6a24",
   "metadata": {},
   "outputs": [],
   "source": [
    "IQR = Q3-Q1"
   ]
  },
  {
   "cell_type": "code",
   "execution_count": 61,
   "id": "a036600b-79fd-496b-954d-b46bf9879046",
   "metadata": {},
   "outputs": [],
   "source": [
    "lower_bound = Q1 - (1.5 * IQR)\n",
    "upper_bound = Q3 + (1.5 * IQR)"
   ]
  },
  {
   "cell_type": "code",
   "execution_count": 62,
   "id": "dd4381ff-b06a-4bd6-8d5e-ee36b8232fa1",
   "metadata": {},
   "outputs": [
    {
     "name": "stdout",
     "output_type": "stream",
     "text": [
      "Here are the outliers based on the IQR threshold:\n",
      " Empty DataFrame\n",
      "Columns: [Age, Income, Height, z_score]\n",
      "Index: []\n"
     ]
    }
   ],
   "source": [
    "print(f\"Here are the outliers based on the IQR threshold:\\n {df[(df['Age'] < lower_bound) | (df['Age'] > upper_bound)]}\")"
   ]
  },
  {
   "cell_type": "code",
   "execution_count": 63,
   "id": "39a28dcd-2f98-4594-bfa4-d9e13bab41e7",
   "metadata": {},
   "outputs": [],
   "source": [
    "df = df[(df['Age'] >= lower_bound) & (df['Age'] <= upper_bound)]"
   ]
  },
  {
   "cell_type": "code",
   "execution_count": 64,
   "id": "c027c590-8f51-4745-94fe-cda7ccac6231",
   "metadata": {},
   "outputs": [
    {
     "data": {
      "text/html": [
       "<div>\n",
       "<style scoped>\n",
       "    .dataframe tbody tr th:only-of-type {\n",
       "        vertical-align: middle;\n",
       "    }\n",
       "\n",
       "    .dataframe tbody tr th {\n",
       "        vertical-align: top;\n",
       "    }\n",
       "\n",
       "    .dataframe thead th {\n",
       "        text-align: right;\n",
       "    }\n",
       "</style>\n",
       "<table border=\"1\" class=\"dataframe\">\n",
       "  <thead>\n",
       "    <tr style=\"text-align: right;\">\n",
       "      <th></th>\n",
       "      <th>Age</th>\n",
       "      <th>Income</th>\n",
       "      <th>Height</th>\n",
       "      <th>z_score</th>\n",
       "    </tr>\n",
       "  </thead>\n",
       "  <tbody>\n",
       "    <tr>\n",
       "      <th>0</th>\n",
       "      <td>20</td>\n",
       "      <td>1000</td>\n",
       "      <td>152</td>\n",
       "      <td>-0.938954</td>\n",
       "    </tr>\n",
       "    <tr>\n",
       "      <th>1</th>\n",
       "      <td>21</td>\n",
       "      <td>150000</td>\n",
       "      <td>174</td>\n",
       "      <td>-0.806396</td>\n",
       "    </tr>\n",
       "    <tr>\n",
       "      <th>2</th>\n",
       "      <td>22</td>\n",
       "      <td>50907</td>\n",
       "      <td>100</td>\n",
       "      <td>-0.673838</td>\n",
       "    </tr>\n",
       "    <tr>\n",
       "      <th>3</th>\n",
       "      <td>23</td>\n",
       "      <td>55456</td>\n",
       "      <td>250</td>\n",
       "      <td>-0.541280</td>\n",
       "    </tr>\n",
       "    <tr>\n",
       "      <th>4</th>\n",
       "      <td>24</td>\n",
       "      <td>64770</td>\n",
       "      <td>165</td>\n",
       "      <td>-0.408721</td>\n",
       "    </tr>\n",
       "    <tr>\n",
       "      <th>5</th>\n",
       "      <td>25</td>\n",
       "      <td>53755</td>\n",
       "      <td>184</td>\n",
       "      <td>-0.276163</td>\n",
       "    </tr>\n",
       "    <tr>\n",
       "      <th>6</th>\n",
       "      <td>26</td>\n",
       "      <td>60339</td>\n",
       "      <td>164</td>\n",
       "      <td>-0.143605</td>\n",
       "    </tr>\n",
       "    <tr>\n",
       "      <th>7</th>\n",
       "      <td>27</td>\n",
       "      <td>50870</td>\n",
       "      <td>171</td>\n",
       "      <td>-0.011047</td>\n",
       "    </tr>\n",
       "    <tr>\n",
       "      <th>8</th>\n",
       "      <td>28</td>\n",
       "      <td>64480</td>\n",
       "      <td>183</td>\n",
       "      <td>0.121512</td>\n",
       "    </tr>\n",
       "    <tr>\n",
       "      <th>9</th>\n",
       "      <td>29</td>\n",
       "      <td>58566</td>\n",
       "      <td>177</td>\n",
       "      <td>0.254070</td>\n",
       "    </tr>\n",
       "    <tr>\n",
       "      <th>10</th>\n",
       "      <td>30</td>\n",
       "      <td>44739</td>\n",
       "      <td>152</td>\n",
       "      <td>0.386628</td>\n",
       "    </tr>\n",
       "  </tbody>\n",
       "</table>\n",
       "</div>"
      ],
      "text/plain": [
       "    Age  Income  Height   z_score\n",
       "0    20    1000     152 -0.938954\n",
       "1    21  150000     174 -0.806396\n",
       "2    22   50907     100 -0.673838\n",
       "3    23   55456     250 -0.541280\n",
       "4    24   64770     165 -0.408721\n",
       "5    25   53755     184 -0.276163\n",
       "6    26   60339     164 -0.143605\n",
       "7    27   50870     171 -0.011047\n",
       "8    28   64480     183  0.121512\n",
       "9    29   58566     177  0.254070\n",
       "10   30   44739     152  0.386628"
      ]
     },
     "execution_count": 64,
     "metadata": {},
     "output_type": "execute_result"
    }
   ],
   "source": [
    "df"
   ]
  },
  {
   "cell_type": "markdown",
   "id": "9f38db01-689e-43f3-9f5c-4449ef59c892",
   "metadata": {},
   "source": [
    "## By Using  KMean clusting "
   ]
  },
  {
   "cell_type": "code",
   "execution_count": 66,
   "id": "f0b9f2f6-7efc-4e43-8fec-725b0eec0eaf",
   "metadata": {},
   "outputs": [
    {
     "name": "stdout",
     "output_type": "stream",
     "text": [
      "Data: [[2, 2], [3, 3], [3, 4], [30, 30], [31, 31], [32, 32]]\n",
      "Outliers: [[2, 2], [3, 3], [3, 4]]\n",
      "Data without outliers: [[30, 30], [31, 31], [32, 32]]\n"
     ]
    }
   ],
   "source": [
    "from sklearn.cluster import KMeans\n",
    "\n",
    "# Sample data\n",
    "data = [[2, 2], [3, 3], [3, 4], [30, 30], [31, 31], [32, 32]]\n",
    "\n",
    "# Create a K-means model with two clusters (normal and outlier)\n",
    "kmeans = KMeans(n_clusters=2, n_init=10)\n",
    "kmeans.fit(data)\n",
    "\n",
    "# Predict cluster labels\n",
    "labels = kmeans.predict(data)\n",
    "\n",
    "# Identify outliers based on cluster labels\n",
    "outliers = [data[i] for i, label in enumerate(labels) if label == 1]\n",
    "\n",
    "# print data\n",
    "print(\"Data:\", data)\n",
    "print(\"Outliers:\", outliers)\n",
    "# Remove outliers\n",
    "data = [data[i] for i, label in enumerate(labels) if label == 0]\n",
    "print(\"Data without outliers:\", data)\n"
   ]
  },
  {
   "cell_type": "markdown",
   "id": "3e929a3e-3240-4078-8443-e32260aa689c",
   "metadata": {
    "jp-MarkdownHeadingCollapsed": true
   },
   "source": [
    "# Merge \n",
    "there are two method \n",
    "1) pd.merge\n",
    "2) concatenation pd.concat"
   ]
  },
  {
   "cell_type": "code",
   "execution_count": 68,
   "id": "a9142dce-c89a-4815-88ed-67bb6aee654e",
   "metadata": {},
   "outputs": [],
   "source": [
    "import pandas as pd \n",
    "import numpy as np\n",
    "import seaborn as sns\n",
    "from sklearn.preprocessing import StandardScaler, MinMaxScaler, MaxAbsScaler ,RobustScaler"
   ]
  },
  {
   "cell_type": "code",
   "execution_count": 69,
   "id": "33e6ff90-433d-40a9-b424-6003f4cd9c4f",
   "metadata": {},
   "outputs": [
    {
     "data": {
      "text/plain": [
       "\"df = {\\n    'age': [25,30,35,40,45],\\n    'height': [165,170,175,180,185],\\n    'weight': [55,60,65,70,75]\\n}\\n\\n# conver this data to pandas datafram\\ndf = pd.DataFrame(df)\\ndf.head() \""
      ]
     },
     "execution_count": 69,
     "metadata": {},
     "output_type": "execute_result"
    }
   ],
   "source": [
    "\"\"\"df = {\n",
    "    'age': [25,30,35,40,45],\n",
    "    'height': [165,170,175,180,185],\n",
    "    'weight': [55,60,65,70,75]\n",
    "}\n",
    "\n",
    "# conver this data to pandas datafram\n",
    "df = pd.DataFrame(df)\n",
    "df.head() \"\"\""
   ]
  },
  {
   "cell_type": "code",
   "execution_count": 70,
   "id": "717e02a4-65e4-4a50-8af1-c545e1ca7437",
   "metadata": {},
   "outputs": [
    {
     "data": {
      "text/html": [
       "<div>\n",
       "<style scoped>\n",
       "    .dataframe tbody tr th:only-of-type {\n",
       "        vertical-align: middle;\n",
       "    }\n",
       "\n",
       "    .dataframe tbody tr th {\n",
       "        vertical-align: top;\n",
       "    }\n",
       "\n",
       "    .dataframe thead th {\n",
       "        text-align: right;\n",
       "    }\n",
       "</style>\n",
       "<table border=\"1\" class=\"dataframe\">\n",
       "  <thead>\n",
       "    <tr style=\"text-align: right;\">\n",
       "      <th></th>\n",
       "      <th>Age</th>\n",
       "      <th>Income</th>\n",
       "      <th>Height</th>\n",
       "      <th>z_score</th>\n",
       "    </tr>\n",
       "  </thead>\n",
       "  <tbody>\n",
       "    <tr>\n",
       "      <th>0</th>\n",
       "      <td>20</td>\n",
       "      <td>1000</td>\n",
       "      <td>152</td>\n",
       "      <td>-0.938954</td>\n",
       "    </tr>\n",
       "    <tr>\n",
       "      <th>1</th>\n",
       "      <td>21</td>\n",
       "      <td>150000</td>\n",
       "      <td>174</td>\n",
       "      <td>-0.806396</td>\n",
       "    </tr>\n",
       "    <tr>\n",
       "      <th>2</th>\n",
       "      <td>22</td>\n",
       "      <td>50907</td>\n",
       "      <td>100</td>\n",
       "      <td>-0.673838</td>\n",
       "    </tr>\n",
       "    <tr>\n",
       "      <th>3</th>\n",
       "      <td>23</td>\n",
       "      <td>55456</td>\n",
       "      <td>250</td>\n",
       "      <td>-0.541280</td>\n",
       "    </tr>\n",
       "    <tr>\n",
       "      <th>4</th>\n",
       "      <td>24</td>\n",
       "      <td>64770</td>\n",
       "      <td>165</td>\n",
       "      <td>-0.408721</td>\n",
       "    </tr>\n",
       "    <tr>\n",
       "      <th>5</th>\n",
       "      <td>25</td>\n",
       "      <td>53755</td>\n",
       "      <td>184</td>\n",
       "      <td>-0.276163</td>\n",
       "    </tr>\n",
       "    <tr>\n",
       "      <th>6</th>\n",
       "      <td>26</td>\n",
       "      <td>60339</td>\n",
       "      <td>164</td>\n",
       "      <td>-0.143605</td>\n",
       "    </tr>\n",
       "    <tr>\n",
       "      <th>7</th>\n",
       "      <td>27</td>\n",
       "      <td>50870</td>\n",
       "      <td>171</td>\n",
       "      <td>-0.011047</td>\n",
       "    </tr>\n",
       "    <tr>\n",
       "      <th>8</th>\n",
       "      <td>28</td>\n",
       "      <td>64480</td>\n",
       "      <td>183</td>\n",
       "      <td>0.121512</td>\n",
       "    </tr>\n",
       "    <tr>\n",
       "      <th>9</th>\n",
       "      <td>29</td>\n",
       "      <td>58566</td>\n",
       "      <td>177</td>\n",
       "      <td>0.254070</td>\n",
       "    </tr>\n",
       "    <tr>\n",
       "      <th>10</th>\n",
       "      <td>30</td>\n",
       "      <td>44739</td>\n",
       "      <td>152</td>\n",
       "      <td>0.386628</td>\n",
       "    </tr>\n",
       "  </tbody>\n",
       "</table>\n",
       "</div>"
      ],
      "text/plain": [
       "    Age  Income  Height   z_score\n",
       "0    20    1000     152 -0.938954\n",
       "1    21  150000     174 -0.806396\n",
       "2    22   50907     100 -0.673838\n",
       "3    23   55456     250 -0.541280\n",
       "4    24   64770     165 -0.408721\n",
       "5    25   53755     184 -0.276163\n",
       "6    26   60339     164 -0.143605\n",
       "7    27   50870     171 -0.011047\n",
       "8    28   64480     183  0.121512\n",
       "9    29   58566     177  0.254070\n",
       "10   30   44739     152  0.386628"
      ]
     },
     "execution_count": 70,
     "metadata": {},
     "output_type": "execute_result"
    }
   ],
   "source": [
    "df"
   ]
  },
  {
   "cell_type": "markdown",
   "id": "fb6b96f8-a8d6-4fff-bc33-bb77327491fa",
   "metadata": {},
   "source": [
    "# Feature scaling and normalization "
   ]
  },
  {
   "cell_type": "markdown",
   "id": "676bcb43-6315-4576-bba9-39604601e8e0",
   "metadata": {},
   "source": [
    "Standard scaling is a method of scaling the data such that the distribution of the data is centered around 0, with a standard deviation of 1. This is done by subtracting the mean of the data from each data point and then dividing by the standard deviation of the data. This is a very common method of scaling data, and is used in many machine learning algorithms.\n",
    "\n",
    "The formula is as follows:\n",
    "\n",
    "z = (x - μ) / σ"
   ]
  },
  {
   "cell_type": "code",
   "execution_count": 73,
   "id": "27338f41-f702-490d-a36d-deb3b06bc326",
   "metadata": {},
   "outputs": [],
   "source": [
    "scalar = StandardScaler()"
   ]
  },
  {
   "cell_type": "code",
   "execution_count": 74,
   "id": "fca1eec9-2f37-4574-b2f1-8c1d471ddbad",
   "metadata": {},
   "outputs": [],
   "source": [
    "standarad_df = scalar.fit_transform(df)"
   ]
  },
  {
   "cell_type": "code",
   "execution_count": 75,
   "id": "804dcf83-271e-457e-ac20-503e8f1a5712",
   "metadata": {},
   "outputs": [
    {
     "data": {
      "text/html": [
       "<div>\n",
       "<style scoped>\n",
       "    .dataframe tbody tr th:only-of-type {\n",
       "        vertical-align: middle;\n",
       "    }\n",
       "\n",
       "    .dataframe tbody tr th {\n",
       "        vertical-align: top;\n",
       "    }\n",
       "\n",
       "    .dataframe thead th {\n",
       "        text-align: right;\n",
       "    }\n",
       "</style>\n",
       "<table border=\"1\" class=\"dataframe\">\n",
       "  <thead>\n",
       "    <tr style=\"text-align: right;\">\n",
       "      <th></th>\n",
       "      <th>Age</th>\n",
       "      <th>Income</th>\n",
       "      <th>Height</th>\n",
       "      <th>z_score</th>\n",
       "    </tr>\n",
       "  </thead>\n",
       "  <tbody>\n",
       "    <tr>\n",
       "      <th>0</th>\n",
       "      <td>-1.581139</td>\n",
       "      <td>-1.766188</td>\n",
       "      <td>-0.540667</td>\n",
       "      <td>-1.581139</td>\n",
       "    </tr>\n",
       "    <tr>\n",
       "      <th>1</th>\n",
       "      <td>-1.264911</td>\n",
       "      <td>2.729639</td>\n",
       "      <td>0.113540</td>\n",
       "      <td>-1.264911</td>\n",
       "    </tr>\n",
       "    <tr>\n",
       "      <th>2</th>\n",
       "      <td>-0.948683</td>\n",
       "      <td>-0.260327</td>\n",
       "      <td>-2.086974</td>\n",
       "      <td>-0.948683</td>\n",
       "    </tr>\n",
       "    <tr>\n",
       "      <th>3</th>\n",
       "      <td>-0.632456</td>\n",
       "      <td>-0.123069</td>\n",
       "      <td>2.373528</td>\n",
       "      <td>-0.632456</td>\n",
       "    </tr>\n",
       "    <tr>\n",
       "      <th>4</th>\n",
       "      <td>-0.316228</td>\n",
       "      <td>0.157966</td>\n",
       "      <td>-0.154090</td>\n",
       "      <td>-0.316228</td>\n",
       "    </tr>\n",
       "    <tr>\n",
       "      <th>5</th>\n",
       "      <td>0.000000</td>\n",
       "      <td>-0.174394</td>\n",
       "      <td>0.410907</td>\n",
       "      <td>0.000000</td>\n",
       "    </tr>\n",
       "    <tr>\n",
       "      <th>6</th>\n",
       "      <td>0.316228</td>\n",
       "      <td>0.024268</td>\n",
       "      <td>-0.183827</td>\n",
       "      <td>0.316228</td>\n",
       "    </tr>\n",
       "    <tr>\n",
       "      <th>7</th>\n",
       "      <td>0.632456</td>\n",
       "      <td>-0.261444</td>\n",
       "      <td>0.024330</td>\n",
       "      <td>0.632456</td>\n",
       "    </tr>\n",
       "    <tr>\n",
       "      <th>8</th>\n",
       "      <td>0.948683</td>\n",
       "      <td>0.149215</td>\n",
       "      <td>0.381170</td>\n",
       "      <td>0.948683</td>\n",
       "    </tr>\n",
       "    <tr>\n",
       "      <th>9</th>\n",
       "      <td>1.264911</td>\n",
       "      <td>-0.029230</td>\n",
       "      <td>0.202750</td>\n",
       "      <td>1.264911</td>\n",
       "    </tr>\n",
       "    <tr>\n",
       "      <th>10</th>\n",
       "      <td>1.581139</td>\n",
       "      <td>-0.446436</td>\n",
       "      <td>-0.540667</td>\n",
       "      <td>1.581139</td>\n",
       "    </tr>\n",
       "  </tbody>\n",
       "</table>\n",
       "</div>"
      ],
      "text/plain": [
       "         Age    Income    Height   z_score\n",
       "0  -1.581139 -1.766188 -0.540667 -1.581139\n",
       "1  -1.264911  2.729639  0.113540 -1.264911\n",
       "2  -0.948683 -0.260327 -2.086974 -0.948683\n",
       "3  -0.632456 -0.123069  2.373528 -0.632456\n",
       "4  -0.316228  0.157966 -0.154090 -0.316228\n",
       "5   0.000000 -0.174394  0.410907  0.000000\n",
       "6   0.316228  0.024268 -0.183827  0.316228\n",
       "7   0.632456 -0.261444  0.024330  0.632456\n",
       "8   0.948683  0.149215  0.381170  0.948683\n",
       "9   1.264911 -0.029230  0.202750  1.264911\n",
       "10  1.581139 -0.446436 -0.540667  1.581139"
      ]
     },
     "execution_count": 75,
     "metadata": {},
     "output_type": "execute_result"
    }
   ],
   "source": [
    "standarad_df = pd.DataFrame(standarad_df , columns= df.columns)\n",
    "standarad_df"
   ]
  },
  {
   "cell_type": "code",
   "execution_count": null,
   "id": "5cf61254-8e3e-4a7c-91ae-b5372cd50a37",
   "metadata": {},
   "outputs": [],
   "source": []
  },
  {
   "cell_type": "code",
   "execution_count": 76,
   "id": "0022625f-27c4-44f6-8dbf-d2589893ddc3",
   "metadata": {},
   "outputs": [
    {
     "data": {
      "text/html": [
       "<div>\n",
       "<style scoped>\n",
       "    .dataframe tbody tr th:only-of-type {\n",
       "        vertical-align: middle;\n",
       "    }\n",
       "\n",
       "    .dataframe tbody tr th {\n",
       "        vertical-align: top;\n",
       "    }\n",
       "\n",
       "    .dataframe thead th {\n",
       "        text-align: right;\n",
       "    }\n",
       "</style>\n",
       "<table border=\"1\" class=\"dataframe\">\n",
       "  <thead>\n",
       "    <tr style=\"text-align: right;\">\n",
       "      <th></th>\n",
       "      <th>Age</th>\n",
       "      <th>Income</th>\n",
       "      <th>Height</th>\n",
       "      <th>z_score</th>\n",
       "    </tr>\n",
       "  </thead>\n",
       "  <tbody>\n",
       "    <tr>\n",
       "      <th>0</th>\n",
       "      <td>0.0</td>\n",
       "      <td>0.000000</td>\n",
       "      <td>0.346667</td>\n",
       "      <td>0.0</td>\n",
       "    </tr>\n",
       "    <tr>\n",
       "      <th>1</th>\n",
       "      <td>0.1</td>\n",
       "      <td>1.000000</td>\n",
       "      <td>0.493333</td>\n",
       "      <td>0.1</td>\n",
       "    </tr>\n",
       "    <tr>\n",
       "      <th>2</th>\n",
       "      <td>0.2</td>\n",
       "      <td>0.334946</td>\n",
       "      <td>0.000000</td>\n",
       "      <td>0.2</td>\n",
       "    </tr>\n",
       "    <tr>\n",
       "      <th>3</th>\n",
       "      <td>0.3</td>\n",
       "      <td>0.365477</td>\n",
       "      <td>1.000000</td>\n",
       "      <td>0.3</td>\n",
       "    </tr>\n",
       "    <tr>\n",
       "      <th>4</th>\n",
       "      <td>0.4</td>\n",
       "      <td>0.427987</td>\n",
       "      <td>0.433333</td>\n",
       "      <td>0.4</td>\n",
       "    </tr>\n",
       "    <tr>\n",
       "      <th>5</th>\n",
       "      <td>0.5</td>\n",
       "      <td>0.354060</td>\n",
       "      <td>0.560000</td>\n",
       "      <td>0.5</td>\n",
       "    </tr>\n",
       "    <tr>\n",
       "      <th>6</th>\n",
       "      <td>0.6</td>\n",
       "      <td>0.398248</td>\n",
       "      <td>0.426667</td>\n",
       "      <td>0.6</td>\n",
       "    </tr>\n",
       "    <tr>\n",
       "      <th>7</th>\n",
       "      <td>0.7</td>\n",
       "      <td>0.334698</td>\n",
       "      <td>0.473333</td>\n",
       "      <td>0.7</td>\n",
       "    </tr>\n",
       "    <tr>\n",
       "      <th>8</th>\n",
       "      <td>0.8</td>\n",
       "      <td>0.426040</td>\n",
       "      <td>0.553333</td>\n",
       "      <td>0.8</td>\n",
       "    </tr>\n",
       "    <tr>\n",
       "      <th>9</th>\n",
       "      <td>0.9</td>\n",
       "      <td>0.386349</td>\n",
       "      <td>0.513333</td>\n",
       "      <td>0.9</td>\n",
       "    </tr>\n",
       "    <tr>\n",
       "      <th>10</th>\n",
       "      <td>1.0</td>\n",
       "      <td>0.293550</td>\n",
       "      <td>0.346667</td>\n",
       "      <td>1.0</td>\n",
       "    </tr>\n",
       "  </tbody>\n",
       "</table>\n",
       "</div>"
      ],
      "text/plain": [
       "    Age    Income    Height  z_score\n",
       "0   0.0  0.000000  0.346667      0.0\n",
       "1   0.1  1.000000  0.493333      0.1\n",
       "2   0.2  0.334946  0.000000      0.2\n",
       "3   0.3  0.365477  1.000000      0.3\n",
       "4   0.4  0.427987  0.433333      0.4\n",
       "5   0.5  0.354060  0.560000      0.5\n",
       "6   0.6  0.398248  0.426667      0.6\n",
       "7   0.7  0.334698  0.473333      0.7\n",
       "8   0.8  0.426040  0.553333      0.8\n",
       "9   0.9  0.386349  0.513333      0.9\n",
       "10  1.0  0.293550  0.346667      1.0"
      ]
     },
     "execution_count": 76,
     "metadata": {},
     "output_type": "execute_result"
    }
   ],
   "source": [
    "scalar = MinMaxScaler()\n",
    "minmax_scalar = scalar.fit_transform(df)\n",
    "minmax_scalar = pd.DataFrame(minmax_scalar,columns = df.columns)\n",
    "minmax_scalar"
   ]
  },
  {
   "cell_type": "code",
   "execution_count": null,
   "id": "c5e5bf1f-26bf-4aab-9990-50c83c105e97",
   "metadata": {},
   "outputs": [],
   "source": []
  },
  {
   "cell_type": "code",
   "execution_count": 77,
   "id": "0928ba20-a4c2-4494-a5f7-7626378e11a9",
   "metadata": {},
   "outputs": [
    {
     "data": {
      "text/html": [
       "<div>\n",
       "<style scoped>\n",
       "    .dataframe tbody tr th:only-of-type {\n",
       "        vertical-align: middle;\n",
       "    }\n",
       "\n",
       "    .dataframe tbody tr th {\n",
       "        vertical-align: top;\n",
       "    }\n",
       "\n",
       "    .dataframe thead th {\n",
       "        text-align: right;\n",
       "    }\n",
       "</style>\n",
       "<table border=\"1\" class=\"dataframe\">\n",
       "  <thead>\n",
       "    <tr style=\"text-align: right;\">\n",
       "      <th></th>\n",
       "      <th>Age</th>\n",
       "      <th>Income</th>\n",
       "      <th>Height</th>\n",
       "      <th>z_score</th>\n",
       "    </tr>\n",
       "  </thead>\n",
       "  <tbody>\n",
       "    <tr>\n",
       "      <th>0</th>\n",
       "      <td>0.666667</td>\n",
       "      <td>0.006667</td>\n",
       "      <td>0.608</td>\n",
       "      <td>-1.000000</td>\n",
       "    </tr>\n",
       "    <tr>\n",
       "      <th>1</th>\n",
       "      <td>0.700000</td>\n",
       "      <td>1.000000</td>\n",
       "      <td>0.696</td>\n",
       "      <td>-0.858824</td>\n",
       "    </tr>\n",
       "    <tr>\n",
       "      <th>2</th>\n",
       "      <td>0.733333</td>\n",
       "      <td>0.339380</td>\n",
       "      <td>0.400</td>\n",
       "      <td>-0.717647</td>\n",
       "    </tr>\n",
       "    <tr>\n",
       "      <th>3</th>\n",
       "      <td>0.766667</td>\n",
       "      <td>0.369707</td>\n",
       "      <td>1.000</td>\n",
       "      <td>-0.576471</td>\n",
       "    </tr>\n",
       "    <tr>\n",
       "      <th>4</th>\n",
       "      <td>0.800000</td>\n",
       "      <td>0.431800</td>\n",
       "      <td>0.660</td>\n",
       "      <td>-0.435294</td>\n",
       "    </tr>\n",
       "    <tr>\n",
       "      <th>5</th>\n",
       "      <td>0.833333</td>\n",
       "      <td>0.358367</td>\n",
       "      <td>0.736</td>\n",
       "      <td>-0.294118</td>\n",
       "    </tr>\n",
       "    <tr>\n",
       "      <th>6</th>\n",
       "      <td>0.866667</td>\n",
       "      <td>0.402260</td>\n",
       "      <td>0.656</td>\n",
       "      <td>-0.152941</td>\n",
       "    </tr>\n",
       "    <tr>\n",
       "      <th>7</th>\n",
       "      <td>0.900000</td>\n",
       "      <td>0.339133</td>\n",
       "      <td>0.684</td>\n",
       "      <td>-0.011765</td>\n",
       "    </tr>\n",
       "    <tr>\n",
       "      <th>8</th>\n",
       "      <td>0.933333</td>\n",
       "      <td>0.429867</td>\n",
       "      <td>0.732</td>\n",
       "      <td>0.129412</td>\n",
       "    </tr>\n",
       "    <tr>\n",
       "      <th>9</th>\n",
       "      <td>0.966667</td>\n",
       "      <td>0.390440</td>\n",
       "      <td>0.708</td>\n",
       "      <td>0.270588</td>\n",
       "    </tr>\n",
       "    <tr>\n",
       "      <th>10</th>\n",
       "      <td>1.000000</td>\n",
       "      <td>0.298260</td>\n",
       "      <td>0.608</td>\n",
       "      <td>0.411765</td>\n",
       "    </tr>\n",
       "  </tbody>\n",
       "</table>\n",
       "</div>"
      ],
      "text/plain": [
       "         Age    Income  Height   z_score\n",
       "0   0.666667  0.006667   0.608 -1.000000\n",
       "1   0.700000  1.000000   0.696 -0.858824\n",
       "2   0.733333  0.339380   0.400 -0.717647\n",
       "3   0.766667  0.369707   1.000 -0.576471\n",
       "4   0.800000  0.431800   0.660 -0.435294\n",
       "5   0.833333  0.358367   0.736 -0.294118\n",
       "6   0.866667  0.402260   0.656 -0.152941\n",
       "7   0.900000  0.339133   0.684 -0.011765\n",
       "8   0.933333  0.429867   0.732  0.129412\n",
       "9   0.966667  0.390440   0.708  0.270588\n",
       "10  1.000000  0.298260   0.608  0.411765"
      ]
     },
     "execution_count": 77,
     "metadata": {},
     "output_type": "execute_result"
    }
   ],
   "source": [
    "scalar = MaxAbsScaler()\n",
    "maxabs_scalar = scalar.fit_transform(df)\n",
    "maxabs_scalar = pd.DataFrame(maxabs_scalar,columns=df.columns)\n",
    "maxabs_scalar"
   ]
  },
  {
   "cell_type": "code",
   "execution_count": 78,
   "id": "3bb103e2-6ab9-4757-a20e-9cddb19765e1",
   "metadata": {},
   "outputs": [
    {
     "data": {
      "text/html": [
       "<div>\n",
       "<style scoped>\n",
       "    .dataframe tbody tr th:only-of-type {\n",
       "        vertical-align: middle;\n",
       "    }\n",
       "\n",
       "    .dataframe tbody tr th {\n",
       "        vertical-align: top;\n",
       "    }\n",
       "\n",
       "    .dataframe thead th {\n",
       "        text-align: right;\n",
       "    }\n",
       "</style>\n",
       "<table border=\"1\" class=\"dataframe\">\n",
       "  <thead>\n",
       "    <tr style=\"text-align: right;\">\n",
       "      <th></th>\n",
       "      <th>Age</th>\n",
       "      <th>Income</th>\n",
       "      <th>Height</th>\n",
       "      <th>z_score</th>\n",
       "    </tr>\n",
       "  </thead>\n",
       "  <tbody>\n",
       "    <tr>\n",
       "      <th>0</th>\n",
       "      <td>-1.0</td>\n",
       "      <td>-4.726673</td>\n",
       "      <td>-0.863636</td>\n",
       "      <td>-1.0</td>\n",
       "    </tr>\n",
       "    <tr>\n",
       "      <th>1</th>\n",
       "      <td>-0.8</td>\n",
       "      <td>8.206232</td>\n",
       "      <td>0.136364</td>\n",
       "      <td>-0.8</td>\n",
       "    </tr>\n",
       "    <tr>\n",
       "      <th>2</th>\n",
       "      <td>-0.6</td>\n",
       "      <td>-0.394844</td>\n",
       "      <td>-3.227273</td>\n",
       "      <td>-0.6</td>\n",
       "    </tr>\n",
       "    <tr>\n",
       "      <th>3</th>\n",
       "      <td>-0.4</td>\n",
       "      <td>0.000000</td>\n",
       "      <td>3.590909</td>\n",
       "      <td>-0.4</td>\n",
       "    </tr>\n",
       "    <tr>\n",
       "      <th>4</th>\n",
       "      <td>-0.2</td>\n",
       "      <td>0.808437</td>\n",
       "      <td>-0.272727</td>\n",
       "      <td>-0.2</td>\n",
       "    </tr>\n",
       "  </tbody>\n",
       "</table>\n",
       "</div>"
      ],
      "text/plain": [
       "   Age    Income    Height  z_score\n",
       "0 -1.0 -4.726673 -0.863636     -1.0\n",
       "1 -0.8  8.206232  0.136364     -0.8\n",
       "2 -0.6 -0.394844 -3.227273     -0.6\n",
       "3 -0.4  0.000000  3.590909     -0.4\n",
       "4 -0.2  0.808437 -0.272727     -0.2"
      ]
     },
     "execution_count": 78,
     "metadata": {},
     "output_type": "execute_result"
    }
   ],
   "source": [
    "# import the scalar\n",
    "scalar = RobustScaler()\n",
    "\n",
    "# fit the scalar on data\n",
    "scaled_df = scalar.fit_transform(df)\n",
    "scaled_df\n",
    "# convert this data into a pandas dataframe\n",
    "scaled_df = pd.DataFrame(scaled_df, columns=df.columns)\n",
    "scaled_df.head()"
   ]
  },
  {
   "cell_type": "markdown",
   "id": "9f8a8ee4-3342-4b9f-a872-c74ab3c752d3",
   "metadata": {},
   "source": [
    "## Transformation \n"
   ]
  },
  {
   "cell_type": "code",
   "execution_count": 80,
   "id": "7d7dbd4a-7033-4eea-9796-94edf1bd7599",
   "metadata": {},
   "outputs": [],
   "source": [
    "np.random.seed(0)\n",
    "df1 = np.random.exponential(size = 1000, scale = 2 )\n",
    "df1 = pd.DataFrame(df1, columns = ['Values'])"
   ]
  },
  {
   "cell_type": "code",
   "execution_count": 81,
   "id": "0786ba92-0f15-4312-88d6-f8f80462c27e",
   "metadata": {},
   "outputs": [],
   "source": [
    "\n",
    "from sklearn.preprocessing import PowerTransformer\n",
    "from sklearn.preprocessing import QuantileTransformer\n",
    "\n",
    "pt_boxcox = PowerTransformer(method='box-cox', standardize=False)\n",
    "pt_yeo_johnson = PowerTransformer(method='yeo-johnson', standardize=False)\n",
    "qt_normal = QuantileTransformer(output_distribution='normal')\n",
    "\n",
    "# boxbcox k liay data must be postive\n",
    "df1['Box_Cox'] = pt_boxcox.fit_transform(df1[['Values']]+ 1 )\n",
    "df1['Yeo_Johnson'] = pt_yeo_johnson.fit_transform(df1[['Values']])\n",
    "df1['Quantile'] = qt_normal.fit_transform(df1[['Values']])\n"
   ]
  },
  {
   "cell_type": "code",
   "execution_count": 82,
   "id": "b1a476e3-fe3c-4be7-9e1b-322d0f181a12",
   "metadata": {},
   "outputs": [
    {
     "data": {
      "text/html": [
       "<div>\n",
       "<style scoped>\n",
       "    .dataframe tbody tr th:only-of-type {\n",
       "        vertical-align: middle;\n",
       "    }\n",
       "\n",
       "    .dataframe tbody tr th {\n",
       "        vertical-align: top;\n",
       "    }\n",
       "\n",
       "    .dataframe thead th {\n",
       "        text-align: right;\n",
       "    }\n",
       "</style>\n",
       "<table border=\"1\" class=\"dataframe\">\n",
       "  <thead>\n",
       "    <tr style=\"text-align: right;\">\n",
       "      <th></th>\n",
       "      <th>Values</th>\n",
       "      <th>Box_Cox</th>\n",
       "      <th>Yeo_Johnson</th>\n",
       "      <th>Quantile</th>\n",
       "    </tr>\n",
       "  </thead>\n",
       "  <tbody>\n",
       "    <tr>\n",
       "      <th>0</th>\n",
       "      <td>1.591749</td>\n",
       "      <td>0.787485</td>\n",
       "      <td>0.787485</td>\n",
       "      <td>0.162552</td>\n",
       "    </tr>\n",
       "    <tr>\n",
       "      <th>1</th>\n",
       "      <td>2.511862</td>\n",
       "      <td>0.980233</td>\n",
       "      <td>0.980233</td>\n",
       "      <td>0.587964</td>\n",
       "    </tr>\n",
       "    <tr>\n",
       "      <th>2</th>\n",
       "      <td>1.846446</td>\n",
       "      <td>0.849553</td>\n",
       "      <td>0.849553</td>\n",
       "      <td>0.286135</td>\n",
       "    </tr>\n",
       "    <tr>\n",
       "      <th>3</th>\n",
       "      <td>1.574402</td>\n",
       "      <td>0.782945</td>\n",
       "      <td>0.782945</td>\n",
       "      <td>0.157469</td>\n",
       "    </tr>\n",
       "    <tr>\n",
       "      <th>4</th>\n",
       "      <td>1.102097</td>\n",
       "      <td>0.639848</td>\n",
       "      <td>0.639848</td>\n",
       "      <td>-0.154930</td>\n",
       "    </tr>\n",
       "    <tr>\n",
       "      <th>...</th>\n",
       "      <td>...</td>\n",
       "      <td>...</td>\n",
       "      <td>...</td>\n",
       "      <td>...</td>\n",
       "    </tr>\n",
       "    <tr>\n",
       "      <th>995</th>\n",
       "      <td>0.205564</td>\n",
       "      <td>0.179918</td>\n",
       "      <td>0.179918</td>\n",
       "      <td>-1.315958</td>\n",
       "    </tr>\n",
       "    <tr>\n",
       "      <th>996</th>\n",
       "      <td>1.446892</td>\n",
       "      <td>0.748196</td>\n",
       "      <td>0.748196</td>\n",
       "      <td>0.074087</td>\n",
       "    </tr>\n",
       "    <tr>\n",
       "      <th>997</th>\n",
       "      <td>5.574577</td>\n",
       "      <td>1.309242</td>\n",
       "      <td>1.309242</td>\n",
       "      <td>1.475269</td>\n",
       "    </tr>\n",
       "    <tr>\n",
       "      <th>998</th>\n",
       "      <td>0.519217</td>\n",
       "      <td>0.384099</td>\n",
       "      <td>0.384099</td>\n",
       "      <td>-0.748009</td>\n",
       "    </tr>\n",
       "    <tr>\n",
       "      <th>999</th>\n",
       "      <td>2.261080</td>\n",
       "      <td>0.935433</td>\n",
       "      <td>0.935433</td>\n",
       "      <td>0.466803</td>\n",
       "    </tr>\n",
       "  </tbody>\n",
       "</table>\n",
       "<p>1000 rows × 4 columns</p>\n",
       "</div>"
      ],
      "text/plain": [
       "       Values   Box_Cox  Yeo_Johnson  Quantile\n",
       "0    1.591749  0.787485     0.787485  0.162552\n",
       "1    2.511862  0.980233     0.980233  0.587964\n",
       "2    1.846446  0.849553     0.849553  0.286135\n",
       "3    1.574402  0.782945     0.782945  0.157469\n",
       "4    1.102097  0.639848     0.639848 -0.154930\n",
       "..        ...       ...          ...       ...\n",
       "995  0.205564  0.179918     0.179918 -1.315958\n",
       "996  1.446892  0.748196     0.748196  0.074087\n",
       "997  5.574577  1.309242     1.309242  1.475269\n",
       "998  0.519217  0.384099     0.384099 -0.748009\n",
       "999  2.261080  0.935433     0.935433  0.466803\n",
       "\n",
       "[1000 rows x 4 columns]"
      ]
     },
     "execution_count": 82,
     "metadata": {},
     "output_type": "execute_result"
    }
   ],
   "source": [
    "df1"
   ]
  },
  {
   "cell_type": "code",
   "execution_count": 83,
   "id": "ec6733a0-033d-44a6-8df9-cf18d3e7d804",
   "metadata": {},
   "outputs": [],
   "source": [
    "import matplotlib.pyplot as plt"
   ]
  },
  {
   "cell_type": "code",
   "execution_count": 84,
   "id": "d1298e51-e667-4834-83c8-042a4b443966",
   "metadata": {},
   "outputs": [
    {
     "data": {
      "text/plain": [
       "Index(['Values', 'Box_Cox', 'Yeo_Johnson', 'Quantile'], dtype='object')"
      ]
     },
     "execution_count": 84,
     "metadata": {},
     "output_type": "execute_result"
    }
   ],
   "source": [
    "df1.columns"
   ]
  },
  {
   "cell_type": "code",
   "execution_count": 85,
   "id": "ea5eddd5-c49b-4246-b7b7-a982c4c77325",
   "metadata": {
    "scrolled": true
   },
   "outputs": [
    {
     "data": {
      "image/png": "[encoded data removed]",
      "text/plain": [
       "<Figure size 640x480 with 1 Axes>"
      ]
     },
     "metadata": {},
     "output_type": "display_data"
    },
    {
     "data": {
      "image/png": "[encoded data removed]",
      "text/plain": [
       "<Figure size 640x480 with 1 Axes>"
      ]
     },
     "metadata": {},
     "output_type": "display_data"
    },
    {
     "data": {
      "image/png": "[encoded data removed]",
      "text/plain": [
       "<Figure size 640x480 with 1 Axes>"
      ]
     },
     "metadata": {},
     "output_type": "display_data"
    },
    {
     "data": {
      "image/png": "[encoded data removed]",
      "text/plain": [
       "<Figure size 640x480 with 1 Axes>"
      ]
     },
     "metadata": {},
     "output_type": "display_data"
    }
   ],
   "source": [
    "for col in df1.columns:\n",
    "    sns.histplot(df1[col], kde= True )\n",
    "    plt.show()"
   ]
  },
  {
   "cell_type": "markdown",
   "id": "9da4dcf9-2529-4a3c-9d37-760fba513576",
   "metadata": {},
   "source": [
    "### Normalization: \n",
    "\n",
    "there are two types of L1 and L2 Normalization \n",
    "\n",
    "L1 Normalization:\n",
    "\n",
    "Also rescales each sample (row) but with a different approach, ensuring the sum of the absolute values is 1 in each row. The L1 norm is calculated as the sum of the absolute vector values.\n",
    "\n",
    "L2 Normalization:\n",
    "\n",
    "Rescales each sample (row) to have unit norm. This type of normalization is often used when dealing with text data. The L2 norm is calculated as the square root of the sum of the squared vector values.\n"
   ]
  },
  {
   "cell_type": "code",
   "execution_count": 87,
   "id": "aa8a9f5b-9ed5-427c-b123-e3eeaf8709fb",
   "metadata": {},
   "outputs": [],
   "source": [
    "from sklearn.preprocessing import Normalizer"
   ]
  },
  {
   "cell_type": "code",
   "execution_count": 88,
   "id": "4f1730f5-dc21-42c0-b590-be1a75f1b028",
   "metadata": {},
   "outputs": [
    {
     "data": {
      "text/plain": [
       "array([[ 0.47810741,  0.23653368,  0.23653368,  0.04882523],\n",
       "       [ 0.49638672,  0.1937108 ,  0.19371079,  0.11619169],\n",
       "       [ 0.48188862,  0.22171771,  0.2217177 ,  0.07467597],\n",
       "       ...,\n",
       "       [ 0.57658118,  0.1354155 ,  0.1354155 ,  0.15258781],\n",
       "       [ 0.25509024,  0.18870719,  0.18870718, -0.36749539],\n",
       "       [ 0.49167279,  0.20341032,  0.20341032,  0.10150656]])"
      ]
     },
     "execution_count": 88,
     "metadata": {},
     "output_type": "execute_result"
    }
   ],
   "source": [
    "normalizer = Normalizer(norm= 'l1')\n",
    "normalizer_data = normalizer.fit_transform(df1)\n",
    "normalizer_data"
   ]
  },
  {
   "cell_type": "code",
   "execution_count": 89,
   "id": "1a540064-22af-463d-a3f4-ce410ec99141",
   "metadata": {},
   "outputs": [
    {
     "data": {
      "text/plain": [
       "array([[ 0.81651216,  0.40395238,  0.40395238,  0.08338375],\n",
       "       [ 0.85769216,  0.33470725,  0.33470724,  0.20076425],\n",
       "       [ 0.83120003,  0.38243643,  0.38243643,  0.12880709],\n",
       "       ...,\n",
       "       [ 0.92043678,  0.21617322,  0.21617321,  0.24358658],\n",
       "       [ 0.48970347,  0.36226616,  0.36226616, -0.70549059],\n",
       "       [ 0.8497384 ,  0.35154592,  0.35154591,  0.17542973]])"
      ]
     },
     "execution_count": 89,
     "metadata": {},
     "output_type": "execute_result"
    }
   ],
   "source": [
    "normalizer = Normalizer(norm= 'l2')\n",
    "normalizer_data = normalizer.fit_transform(df1)\n",
    "normalizer_data"
   ]
  },
  {
   "cell_type": "code",
   "execution_count": 90,
   "id": "c57eb10b-2102-447f-9eb3-91f3ea38ebcb",
   "metadata": {},
   "outputs": [
    {
     "name": "stderr",
     "output_type": "stream",
     "text": [
      "/home/mebi/anaconda3/lib/python3.12/site-packages/pandas/core/internals/blocks.py:393: RuntimeWarning: invalid value encountered in log\n",
      "  result = func(self.values, **kwargs)\n"
     ]
    },
    {
     "data": {
      "text/html": [
       "<div>\n",
       "<style scoped>\n",
       "    .dataframe tbody tr th:only-of-type {\n",
       "        vertical-align: middle;\n",
       "    }\n",
       "\n",
       "    .dataframe tbody tr th {\n",
       "        vertical-align: top;\n",
       "    }\n",
       "\n",
       "    .dataframe thead th {\n",
       "        text-align: right;\n",
       "    }\n",
       "</style>\n",
       "<table border=\"1\" class=\"dataframe\">\n",
       "  <thead>\n",
       "    <tr style=\"text-align: right;\">\n",
       "      <th></th>\n",
       "      <th>Values</th>\n",
       "      <th>Box_Cox</th>\n",
       "      <th>Yeo_Johnson</th>\n",
       "      <th>Quantile</th>\n",
       "    </tr>\n",
       "  </thead>\n",
       "  <tbody>\n",
       "    <tr>\n",
       "      <th>0</th>\n",
       "      <td>0.464833</td>\n",
       "      <td>-0.238911</td>\n",
       "      <td>-0.238911</td>\n",
       "      <td>-1.816755</td>\n",
       "    </tr>\n",
       "    <tr>\n",
       "      <th>1</th>\n",
       "      <td>0.921024</td>\n",
       "      <td>-0.019965</td>\n",
       "      <td>-0.019965</td>\n",
       "      <td>-0.531090</td>\n",
       "    </tr>\n",
       "    <tr>\n",
       "      <th>2</th>\n",
       "      <td>0.613263</td>\n",
       "      <td>-0.163045</td>\n",
       "      <td>-0.163045</td>\n",
       "      <td>-1.251292</td>\n",
       "    </tr>\n",
       "    <tr>\n",
       "      <th>3</th>\n",
       "      <td>0.453876</td>\n",
       "      <td>-0.244693</td>\n",
       "      <td>-0.244693</td>\n",
       "      <td>-1.848524</td>\n",
       "    </tr>\n",
       "    <tr>\n",
       "      <th>4</th>\n",
       "      <td>0.097215</td>\n",
       "      <td>-0.446525</td>\n",
       "      <td>-0.446525</td>\n",
       "      <td>NaN</td>\n",
       "    </tr>\n",
       "    <tr>\n",
       "      <th>...</th>\n",
       "      <td>...</td>\n",
       "      <td>...</td>\n",
       "      <td>...</td>\n",
       "      <td>...</td>\n",
       "    </tr>\n",
       "    <tr>\n",
       "      <th>995</th>\n",
       "      <td>-1.581998</td>\n",
       "      <td>-1.715253</td>\n",
       "      <td>-1.715253</td>\n",
       "      <td>NaN</td>\n",
       "    </tr>\n",
       "    <tr>\n",
       "      <th>996</th>\n",
       "      <td>0.369418</td>\n",
       "      <td>-0.290090</td>\n",
       "      <td>-0.290090</td>\n",
       "      <td>-2.602511</td>\n",
       "    </tr>\n",
       "    <tr>\n",
       "      <th>997</th>\n",
       "      <td>1.718216</td>\n",
       "      <td>0.269448</td>\n",
       "      <td>0.269448</td>\n",
       "      <td>0.388841</td>\n",
       "    </tr>\n",
       "    <tr>\n",
       "      <th>998</th>\n",
       "      <td>-0.655433</td>\n",
       "      <td>-0.956854</td>\n",
       "      <td>-0.956854</td>\n",
       "      <td>NaN</td>\n",
       "    </tr>\n",
       "    <tr>\n",
       "      <th>999</th>\n",
       "      <td>0.815843</td>\n",
       "      <td>-0.066746</td>\n",
       "      <td>-0.066746</td>\n",
       "      <td>-0.761847</td>\n",
       "    </tr>\n",
       "  </tbody>\n",
       "</table>\n",
       "<p>1000 rows × 4 columns</p>\n",
       "</div>"
      ],
      "text/plain": [
       "       Values   Box_Cox  Yeo_Johnson  Quantile\n",
       "0    0.464833 -0.238911    -0.238911 -1.816755\n",
       "1    0.921024 -0.019965    -0.019965 -0.531090\n",
       "2    0.613263 -0.163045    -0.163045 -1.251292\n",
       "3    0.453876 -0.244693    -0.244693 -1.848524\n",
       "4    0.097215 -0.446525    -0.446525       NaN\n",
       "..        ...       ...          ...       ...\n",
       "995 -1.581998 -1.715253    -1.715253       NaN\n",
       "996  0.369418 -0.290090    -0.290090 -2.602511\n",
       "997  1.718216  0.269448     0.269448  0.388841\n",
       "998 -0.655433 -0.956854    -0.956854       NaN\n",
       "999  0.815843 -0.066746    -0.066746 -0.761847\n",
       "\n",
       "[1000 rows x 4 columns]"
      ]
     },
     "execution_count": 90,
     "metadata": {},
     "output_type": "execute_result"
    }
   ],
   "source": [
    "log_data = np.log(df1)\n",
    "log_data"
   ]
  },
  {
   "cell_type": "code",
   "execution_count": 91,
   "id": "cda38418-b14a-409b-be74-9f5699e19b11",
   "metadata": {},
   "outputs": [
    {
     "data": {
      "image/png": "[encoded data removed]",
      "text/plain": [
       "<Figure size 640x480 with 1 Axes>"
      ]
     },
     "metadata": {},
     "output_type": "display_data"
    },
    {
     "data": {
      "image/png": "[encoded data removed]",
      "text/plain": [
       "<Figure size 640x480 with 1 Axes>"
      ]
     },
     "metadata": {},
     "output_type": "display_data"
    },
    {
     "data": {
      "image/png": "[encoded data removed]",
      "text/plain": [
       "<Figure size 640x480 with 1 Axes>"
      ]
     },
     "metadata": {},
     "output_type": "display_data"
    },
    {
     "data": {
      "image/png": "[encoded data removed]",
      "text/plain": [
       "<Figure size 640x480 with 1 Axes>"
      ]
     },
     "metadata": {},
     "output_type": "display_data"
    }
   ],
   "source": [
    "for col in log_data.columns:\n",
    "    sns.histplot(log_data[col], kde= True)\n",
    "    plt.show()"
   ]
  },
  {
   "cell_type": "code",
   "execution_count": 92,
   "id": "347d54b3-bdf1-4b93-b856-69b8e8d1e6f0",
   "metadata": {
    "scrolled": true
   },
   "outputs": [
    {
     "data": {
      "text/html": [
       "<div>\n",
       "<style scoped>\n",
       "    .dataframe tbody tr th:only-of-type {\n",
       "        vertical-align: middle;\n",
       "    }\n",
       "\n",
       "    .dataframe tbody tr th {\n",
       "        vertical-align: top;\n",
       "    }\n",
       "\n",
       "    .dataframe thead th {\n",
       "        text-align: right;\n",
       "    }\n",
       "</style>\n",
       "<table border=\"1\" class=\"dataframe\">\n",
       "  <thead>\n",
       "    <tr style=\"text-align: right;\">\n",
       "      <th></th>\n",
       "      <th>Values</th>\n",
       "      <th>Box_Cox</th>\n",
       "      <th>Yeo_Johnson</th>\n",
       "      <th>Quantile</th>\n",
       "    </tr>\n",
       "  </thead>\n",
       "  <tbody>\n",
       "    <tr>\n",
       "      <th>0</th>\n",
       "      <td>1.591749</td>\n",
       "      <td>0.787485</td>\n",
       "      <td>0.787485</td>\n",
       "      <td>0.162552</td>\n",
       "    </tr>\n",
       "    <tr>\n",
       "      <th>1</th>\n",
       "      <td>2.511862</td>\n",
       "      <td>0.980233</td>\n",
       "      <td>0.980233</td>\n",
       "      <td>0.587964</td>\n",
       "    </tr>\n",
       "    <tr>\n",
       "      <th>2</th>\n",
       "      <td>1.846446</td>\n",
       "      <td>0.849553</td>\n",
       "      <td>0.849553</td>\n",
       "      <td>0.286135</td>\n",
       "    </tr>\n",
       "    <tr>\n",
       "      <th>3</th>\n",
       "      <td>1.574402</td>\n",
       "      <td>0.782945</td>\n",
       "      <td>0.782945</td>\n",
       "      <td>0.157469</td>\n",
       "    </tr>\n",
       "    <tr>\n",
       "      <th>4</th>\n",
       "      <td>1.102097</td>\n",
       "      <td>0.639848</td>\n",
       "      <td>0.639848</td>\n",
       "      <td>-0.154930</td>\n",
       "    </tr>\n",
       "    <tr>\n",
       "      <th>...</th>\n",
       "      <td>...</td>\n",
       "      <td>...</td>\n",
       "      <td>...</td>\n",
       "      <td>...</td>\n",
       "    </tr>\n",
       "    <tr>\n",
       "      <th>995</th>\n",
       "      <td>0.205564</td>\n",
       "      <td>0.179918</td>\n",
       "      <td>0.179918</td>\n",
       "      <td>-1.315958</td>\n",
       "    </tr>\n",
       "    <tr>\n",
       "      <th>996</th>\n",
       "      <td>1.446892</td>\n",
       "      <td>0.748196</td>\n",
       "      <td>0.748196</td>\n",
       "      <td>0.074087</td>\n",
       "    </tr>\n",
       "    <tr>\n",
       "      <th>997</th>\n",
       "      <td>5.574577</td>\n",
       "      <td>1.309242</td>\n",
       "      <td>1.309242</td>\n",
       "      <td>1.475269</td>\n",
       "    </tr>\n",
       "    <tr>\n",
       "      <th>998</th>\n",
       "      <td>0.519217</td>\n",
       "      <td>0.384099</td>\n",
       "      <td>0.384099</td>\n",
       "      <td>-0.748009</td>\n",
       "    </tr>\n",
       "    <tr>\n",
       "      <th>999</th>\n",
       "      <td>2.261080</td>\n",
       "      <td>0.935433</td>\n",
       "      <td>0.935433</td>\n",
       "      <td>0.466803</td>\n",
       "    </tr>\n",
       "  </tbody>\n",
       "</table>\n",
       "<p>1000 rows × 4 columns</p>\n",
       "</div>"
      ],
      "text/plain": [
       "       Values   Box_Cox  Yeo_Johnson  Quantile\n",
       "0    1.591749  0.787485     0.787485  0.162552\n",
       "1    2.511862  0.980233     0.980233  0.587964\n",
       "2    1.846446  0.849553     0.849553  0.286135\n",
       "3    1.574402  0.782945     0.782945  0.157469\n",
       "4    1.102097  0.639848     0.639848 -0.154930\n",
       "..        ...       ...          ...       ...\n",
       "995  0.205564  0.179918     0.179918 -1.315958\n",
       "996  1.446892  0.748196     0.748196  0.074087\n",
       "997  5.574577  1.309242     1.309242  1.475269\n",
       "998  0.519217  0.384099     0.384099 -0.748009\n",
       "999  2.261080  0.935433     0.935433  0.466803\n",
       "\n",
       "[1000 rows x 4 columns]"
      ]
     },
     "execution_count": 92,
     "metadata": {},
     "output_type": "execute_result"
    }
   ],
   "source": [
    "df1"
   ]
  },
  {
   "cell_type": "markdown",
   "id": "81071384-ec0b-47b4-9106-c3102abdb589",
   "metadata": {},
   "source": [
    "# Feature Encoding "
   ]
  },
  {
   "cell_type": "code",
   "execution_count": 94,
   "id": "fcae8fd4-6423-45bb-8bf2-971985c8d328",
   "metadata": {},
   "outputs": [],
   "source": [
    "import pandas as pd\n",
    "import matplotlib.pyplot as plt \n",
    "import seaborn as sns \n",
    "from sklearn.preprocessing import  OneHotEncoder, LabelEncoder, OrdinalEncoder"
   ]
  },
  {
   "cell_type": "code",
   "execution_count": 95,
   "id": "2ba2b80c-e3b7-49d5-8ea6-3ce146cda26b",
   "metadata": {},
   "outputs": [],
   "source": [
    "df = sns.load_dataset('tips')"
   ]
  },
  {
   "cell_type": "code",
   "execution_count": 96,
   "id": "6a22fa8d-1d14-4060-9271-198488728e5a",
   "metadata": {},
   "outputs": [
    {
     "data": {
      "text/html": [
       "<div>\n",
       "<style scoped>\n",
       "    .dataframe tbody tr th:only-of-type {\n",
       "        vertical-align: middle;\n",
       "    }\n",
       "\n",
       "    .dataframe tbody tr th {\n",
       "        vertical-align: top;\n",
       "    }\n",
       "\n",
       "    .dataframe thead th {\n",
       "        text-align: right;\n",
       "    }\n",
       "</style>\n",
       "<table border=\"1\" class=\"dataframe\">\n",
       "  <thead>\n",
       "    <tr style=\"text-align: right;\">\n",
       "      <th></th>\n",
       "      <th>total_bill</th>\n",
       "      <th>tip</th>\n",
       "      <th>sex</th>\n",
       "      <th>smoker</th>\n",
       "      <th>day</th>\n",
       "      <th>time</th>\n",
       "      <th>size</th>\n",
       "    </tr>\n",
       "  </thead>\n",
       "  <tbody>\n",
       "    <tr>\n",
       "      <th>0</th>\n",
       "      <td>16.99</td>\n",
       "      <td>1.01</td>\n",
       "      <td>Female</td>\n",
       "      <td>No</td>\n",
       "      <td>Sun</td>\n",
       "      <td>Dinner</td>\n",
       "      <td>2</td>\n",
       "    </tr>\n",
       "    <tr>\n",
       "      <th>1</th>\n",
       "      <td>10.34</td>\n",
       "      <td>1.66</td>\n",
       "      <td>Male</td>\n",
       "      <td>No</td>\n",
       "      <td>Sun</td>\n",
       "      <td>Dinner</td>\n",
       "      <td>3</td>\n",
       "    </tr>\n",
       "    <tr>\n",
       "      <th>2</th>\n",
       "      <td>21.01</td>\n",
       "      <td>3.50</td>\n",
       "      <td>Male</td>\n",
       "      <td>No</td>\n",
       "      <td>Sun</td>\n",
       "      <td>Dinner</td>\n",
       "      <td>3</td>\n",
       "    </tr>\n",
       "    <tr>\n",
       "      <th>3</th>\n",
       "      <td>23.68</td>\n",
       "      <td>3.31</td>\n",
       "      <td>Male</td>\n",
       "      <td>No</td>\n",
       "      <td>Sun</td>\n",
       "      <td>Dinner</td>\n",
       "      <td>2</td>\n",
       "    </tr>\n",
       "    <tr>\n",
       "      <th>4</th>\n",
       "      <td>24.59</td>\n",
       "      <td>3.61</td>\n",
       "      <td>Female</td>\n",
       "      <td>No</td>\n",
       "      <td>Sun</td>\n",
       "      <td>Dinner</td>\n",
       "      <td>4</td>\n",
       "    </tr>\n",
       "    <tr>\n",
       "      <th>...</th>\n",
       "      <td>...</td>\n",
       "      <td>...</td>\n",
       "      <td>...</td>\n",
       "      <td>...</td>\n",
       "      <td>...</td>\n",
       "      <td>...</td>\n",
       "      <td>...</td>\n",
       "    </tr>\n",
       "    <tr>\n",
       "      <th>239</th>\n",
       "      <td>29.03</td>\n",
       "      <td>5.92</td>\n",
       "      <td>Male</td>\n",
       "      <td>No</td>\n",
       "      <td>Sat</td>\n",
       "      <td>Dinner</td>\n",
       "      <td>3</td>\n",
       "    </tr>\n",
       "    <tr>\n",
       "      <th>240</th>\n",
       "      <td>27.18</td>\n",
       "      <td>2.00</td>\n",
       "      <td>Female</td>\n",
       "      <td>Yes</td>\n",
       "      <td>Sat</td>\n",
       "      <td>Dinner</td>\n",
       "      <td>2</td>\n",
       "    </tr>\n",
       "    <tr>\n",
       "      <th>241</th>\n",
       "      <td>22.67</td>\n",
       "      <td>2.00</td>\n",
       "      <td>Male</td>\n",
       "      <td>Yes</td>\n",
       "      <td>Sat</td>\n",
       "      <td>Dinner</td>\n",
       "      <td>2</td>\n",
       "    </tr>\n",
       "    <tr>\n",
       "      <th>242</th>\n",
       "      <td>17.82</td>\n",
       "      <td>1.75</td>\n",
       "      <td>Male</td>\n",
       "      <td>No</td>\n",
       "      <td>Sat</td>\n",
       "      <td>Dinner</td>\n",
       "      <td>2</td>\n",
       "    </tr>\n",
       "    <tr>\n",
       "      <th>243</th>\n",
       "      <td>18.78</td>\n",
       "      <td>3.00</td>\n",
       "      <td>Female</td>\n",
       "      <td>No</td>\n",
       "      <td>Thur</td>\n",
       "      <td>Dinner</td>\n",
       "      <td>2</td>\n",
       "    </tr>\n",
       "  </tbody>\n",
       "</table>\n",
       "<p>244 rows × 7 columns</p>\n",
       "</div>"
      ],
      "text/plain": [
       "     total_bill   tip     sex smoker   day    time  size\n",
       "0         16.99  1.01  Female     No   Sun  Dinner     2\n",
       "1         10.34  1.66    Male     No   Sun  Dinner     3\n",
       "2         21.01  3.50    Male     No   Sun  Dinner     3\n",
       "3         23.68  3.31    Male     No   Sun  Dinner     2\n",
       "4         24.59  3.61  Female     No   Sun  Dinner     4\n",
       "..          ...   ...     ...    ...   ...     ...   ...\n",
       "239       29.03  5.92    Male     No   Sat  Dinner     3\n",
       "240       27.18  2.00  Female    Yes   Sat  Dinner     2\n",
       "241       22.67  2.00    Male    Yes   Sat  Dinner     2\n",
       "242       17.82  1.75    Male     No   Sat  Dinner     2\n",
       "243       18.78  3.00  Female     No  Thur  Dinner     2\n",
       "\n",
       "[244 rows x 7 columns]"
      ]
     },
     "execution_count": 96,
     "metadata": {},
     "output_type": "execute_result"
    }
   ],
   "source": [
    "df"
   ]
  },
  {
   "cell_type": "code",
   "execution_count": 97,
   "id": "8acc5eee-0a13-4f30-afec-1dcb297b9de3",
   "metadata": {},
   "outputs": [
    {
     "data": {
      "text/plain": [
       "time\n",
       "Dinner    176\n",
       "Lunch      68\n",
       "Name: count, dtype: int64"
      ]
     },
     "execution_count": 97,
     "metadata": {},
     "output_type": "execute_result"
    }
   ],
   "source": [
    "df['time'].value_counts()"
   ]
  },
  {
   "cell_type": "code",
   "execution_count": 98,
   "id": "9bd2d9de-09bc-4182-a673-5908c3477e36",
   "metadata": {},
   "outputs": [],
   "source": [
    "le = LabelEncoder()"
   ]
  },
  {
   "cell_type": "code",
   "execution_count": 99,
   "id": "3bb89a7b-ca33-464b-8d26-9372e6c4ba70",
   "metadata": {},
   "outputs": [],
   "source": [
    "df['encoded_time'] = le.fit_transform(df['time'])"
   ]
  },
  {
   "cell_type": "code",
   "execution_count": 100,
   "id": "8a31888b-03f0-4c8c-8c36-ee520871d2e8",
   "metadata": {},
   "outputs": [
    {
     "data": {
      "text/plain": [
       "encoded_time\n",
       "0    176\n",
       "1     68\n",
       "Name: count, dtype: int64"
      ]
     },
     "execution_count": 100,
     "metadata": {},
     "output_type": "execute_result"
    }
   ],
   "source": [
    "df.encoded_time.value_counts()"
   ]
  },
  {
   "cell_type": "code",
   "execution_count": 101,
   "id": "2f07840d-4ff9-40b3-9a45-6ece46e1eb4e",
   "metadata": {},
   "outputs": [
    {
     "data": {
      "text/html": [
       "<div>\n",
       "<style scoped>\n",
       "    .dataframe tbody tr th:only-of-type {\n",
       "        vertical-align: middle;\n",
       "    }\n",
       "\n",
       "    .dataframe tbody tr th {\n",
       "        vertical-align: top;\n",
       "    }\n",
       "\n",
       "    .dataframe thead th {\n",
       "        text-align: right;\n",
       "    }\n",
       "</style>\n",
       "<table border=\"1\" class=\"dataframe\">\n",
       "  <thead>\n",
       "    <tr style=\"text-align: right;\">\n",
       "      <th></th>\n",
       "      <th>total_bill</th>\n",
       "      <th>tip</th>\n",
       "      <th>sex</th>\n",
       "      <th>smoker</th>\n",
       "      <th>day</th>\n",
       "      <th>time</th>\n",
       "      <th>size</th>\n",
       "      <th>encoded_time</th>\n",
       "      <th>encoded_day</th>\n",
       "    </tr>\n",
       "  </thead>\n",
       "  <tbody>\n",
       "    <tr>\n",
       "      <th>0</th>\n",
       "      <td>16.99</td>\n",
       "      <td>1.01</td>\n",
       "      <td>Female</td>\n",
       "      <td>No</td>\n",
       "      <td>Sun</td>\n",
       "      <td>Dinner</td>\n",
       "      <td>2</td>\n",
       "      <td>0</td>\n",
       "      <td>3.0</td>\n",
       "    </tr>\n",
       "    <tr>\n",
       "      <th>1</th>\n",
       "      <td>10.34</td>\n",
       "      <td>1.66</td>\n",
       "      <td>Male</td>\n",
       "      <td>No</td>\n",
       "      <td>Sun</td>\n",
       "      <td>Dinner</td>\n",
       "      <td>3</td>\n",
       "      <td>0</td>\n",
       "      <td>3.0</td>\n",
       "    </tr>\n",
       "    <tr>\n",
       "      <th>2</th>\n",
       "      <td>21.01</td>\n",
       "      <td>3.50</td>\n",
       "      <td>Male</td>\n",
       "      <td>No</td>\n",
       "      <td>Sun</td>\n",
       "      <td>Dinner</td>\n",
       "      <td>3</td>\n",
       "      <td>0</td>\n",
       "      <td>3.0</td>\n",
       "    </tr>\n",
       "    <tr>\n",
       "      <th>3</th>\n",
       "      <td>23.68</td>\n",
       "      <td>3.31</td>\n",
       "      <td>Male</td>\n",
       "      <td>No</td>\n",
       "      <td>Sun</td>\n",
       "      <td>Dinner</td>\n",
       "      <td>2</td>\n",
       "      <td>0</td>\n",
       "      <td>3.0</td>\n",
       "    </tr>\n",
       "    <tr>\n",
       "      <th>4</th>\n",
       "      <td>24.59</td>\n",
       "      <td>3.61</td>\n",
       "      <td>Female</td>\n",
       "      <td>No</td>\n",
       "      <td>Sun</td>\n",
       "      <td>Dinner</td>\n",
       "      <td>4</td>\n",
       "      <td>0</td>\n",
       "      <td>3.0</td>\n",
       "    </tr>\n",
       "  </tbody>\n",
       "</table>\n",
       "</div>"
      ],
      "text/plain": [
       "   total_bill   tip     sex smoker  day    time  size  encoded_time  \\\n",
       "0       16.99  1.01  Female     No  Sun  Dinner     2             0   \n",
       "1       10.34  1.66    Male     No  Sun  Dinner     3             0   \n",
       "2       21.01  3.50    Male     No  Sun  Dinner     3             0   \n",
       "3       23.68  3.31    Male     No  Sun  Dinner     2             0   \n",
       "4       24.59  3.61  Female     No  Sun  Dinner     4             0   \n",
       "\n",
       "   encoded_day  \n",
       "0          3.0  \n",
       "1          3.0  \n",
       "2          3.0  \n",
       "3          3.0  \n",
       "4          3.0  "
      ]
     },
     "execution_count": 101,
     "metadata": {},
     "output_type": "execute_result"
    }
   ],
   "source": [
    "oe = OrdinalEncoder(categories=[['Thur', 'Fri', 'Sat', 'Sun']])\n",
    "df['encoded_day'] = oe.fit_transform(df[['day']])\n",
    "df.head()"
   ]
  },
  {
   "cell_type": "code",
   "execution_count": 102,
   "id": "f7723116-5796-4d8f-a935-8352f2fb0951",
   "metadata": {},
   "outputs": [
    {
     "data": {
      "text/plain": [
       "array([[1., 0.],\n",
       "       [0., 1.],\n",
       "       [0., 1.],\n",
       "       [0., 1.],\n",
       "       [1., 0.],\n",
       "       [0., 1.],\n",
       "       [0., 1.],\n",
       "       [0., 1.],\n",
       "       [0., 1.],\n",
       "       [0., 1.],\n",
       "       [0., 1.],\n",
       "       [1., 0.],\n",
       "       [0., 1.],\n",
       "       [0., 1.],\n",
       "       [1., 0.],\n",
       "       [0., 1.],\n",
       "       [1., 0.],\n",
       "       [0., 1.],\n",
       "       [1., 0.],\n",
       "       [0., 1.],\n",
       "       [0., 1.],\n",
       "       [1., 0.],\n",
       "       [1., 0.],\n",
       "       [0., 1.],\n",
       "       [0., 1.],\n",
       "       [0., 1.],\n",
       "       [0., 1.],\n",
       "       [0., 1.],\n",
       "       [0., 1.],\n",
       "       [1., 0.],\n",
       "       [0., 1.],\n",
       "       [0., 1.],\n",
       "       [1., 0.],\n",
       "       [1., 0.],\n",
       "       [0., 1.],\n",
       "       [0., 1.],\n",
       "       [0., 1.],\n",
       "       [1., 0.],\n",
       "       [0., 1.],\n",
       "       [0., 1.],\n",
       "       [0., 1.],\n",
       "       [0., 1.],\n",
       "       [0., 1.],\n",
       "       [0., 1.],\n",
       "       [0., 1.],\n",
       "       [0., 1.],\n",
       "       [0., 1.],\n",
       "       [0., 1.],\n",
       "       [0., 1.],\n",
       "       [0., 1.],\n",
       "       [0., 1.],\n",
       "       [1., 0.],\n",
       "       [1., 0.],\n",
       "       [0., 1.],\n",
       "       [0., 1.],\n",
       "       [0., 1.],\n",
       "       [0., 1.],\n",
       "       [1., 0.],\n",
       "       [0., 1.],\n",
       "       [0., 1.],\n",
       "       [0., 1.],\n",
       "       [0., 1.],\n",
       "       [0., 1.],\n",
       "       [0., 1.],\n",
       "       [0., 1.],\n",
       "       [0., 1.],\n",
       "       [1., 0.],\n",
       "       [1., 0.],\n",
       "       [0., 1.],\n",
       "       [0., 1.],\n",
       "       [0., 1.],\n",
       "       [1., 0.],\n",
       "       [1., 0.],\n",
       "       [1., 0.],\n",
       "       [1., 0.],\n",
       "       [0., 1.],\n",
       "       [0., 1.],\n",
       "       [0., 1.],\n",
       "       [0., 1.],\n",
       "       [0., 1.],\n",
       "       [0., 1.],\n",
       "       [0., 1.],\n",
       "       [1., 0.],\n",
       "       [0., 1.],\n",
       "       [0., 1.],\n",
       "       [1., 0.],\n",
       "       [0., 1.],\n",
       "       [0., 1.],\n",
       "       [0., 1.],\n",
       "       [0., 1.],\n",
       "       [0., 1.],\n",
       "       [0., 1.],\n",
       "       [1., 0.],\n",
       "       [1., 0.],\n",
       "       [1., 0.],\n",
       "       [0., 1.],\n",
       "       [0., 1.],\n",
       "       [0., 1.],\n",
       "       [0., 1.],\n",
       "       [0., 1.],\n",
       "       [1., 0.],\n",
       "       [1., 0.],\n",
       "       [1., 0.],\n",
       "       [1., 0.],\n",
       "       [1., 0.],\n",
       "       [0., 1.],\n",
       "       [0., 1.],\n",
       "       [0., 1.],\n",
       "       [0., 1.],\n",
       "       [1., 0.],\n",
       "       [0., 1.],\n",
       "       [1., 0.],\n",
       "       [0., 1.],\n",
       "       [0., 1.],\n",
       "       [1., 0.],\n",
       "       [1., 0.],\n",
       "       [0., 1.],\n",
       "       [1., 0.],\n",
       "       [1., 0.],\n",
       "       [1., 0.],\n",
       "       [0., 1.],\n",
       "       [1., 0.],\n",
       "       [0., 1.],\n",
       "       [0., 1.],\n",
       "       [1., 0.],\n",
       "       [1., 0.],\n",
       "       [0., 1.],\n",
       "       [1., 0.],\n",
       "       [1., 0.],\n",
       "       [0., 1.],\n",
       "       [0., 1.],\n",
       "       [1., 0.],\n",
       "       [1., 0.],\n",
       "       [1., 0.],\n",
       "       [1., 0.],\n",
       "       [1., 0.],\n",
       "       [1., 0.],\n",
       "       [1., 0.],\n",
       "       [0., 1.],\n",
       "       [1., 0.],\n",
       "       [1., 0.],\n",
       "       [0., 1.],\n",
       "       [0., 1.],\n",
       "       [1., 0.],\n",
       "       [1., 0.],\n",
       "       [1., 0.],\n",
       "       [1., 0.],\n",
       "       [1., 0.],\n",
       "       [0., 1.],\n",
       "       [0., 1.],\n",
       "       [0., 1.],\n",
       "       [0., 1.],\n",
       "       [0., 1.],\n",
       "       [0., 1.],\n",
       "       [0., 1.],\n",
       "       [1., 0.],\n",
       "       [0., 1.],\n",
       "       [1., 0.],\n",
       "       [1., 0.],\n",
       "       [0., 1.],\n",
       "       [0., 1.],\n",
       "       [0., 1.],\n",
       "       [1., 0.],\n",
       "       [0., 1.],\n",
       "       [1., 0.],\n",
       "       [0., 1.],\n",
       "       [0., 1.],\n",
       "       [0., 1.],\n",
       "       [1., 0.],\n",
       "       [1., 0.],\n",
       "       [0., 1.],\n",
       "       [0., 1.],\n",
       "       [0., 1.],\n",
       "       [0., 1.],\n",
       "       [0., 1.],\n",
       "       [0., 1.],\n",
       "       [0., 1.],\n",
       "       [0., 1.],\n",
       "       [1., 0.],\n",
       "       [0., 1.],\n",
       "       [0., 1.],\n",
       "       [0., 1.],\n",
       "       [0., 1.],\n",
       "       [0., 1.],\n",
       "       [0., 1.],\n",
       "       [0., 1.],\n",
       "       [1., 0.],\n",
       "       [0., 1.],\n",
       "       [1., 0.],\n",
       "       [0., 1.],\n",
       "       [0., 1.],\n",
       "       [1., 0.],\n",
       "       [0., 1.],\n",
       "       [0., 1.],\n",
       "       [0., 1.],\n",
       "       [0., 1.],\n",
       "       [0., 1.],\n",
       "       [1., 0.],\n",
       "       [1., 0.],\n",
       "       [0., 1.],\n",
       "       [0., 1.],\n",
       "       [1., 0.],\n",
       "       [1., 0.],\n",
       "       [1., 0.],\n",
       "       [0., 1.],\n",
       "       [1., 0.],\n",
       "       [0., 1.],\n",
       "       [0., 1.],\n",
       "       [0., 1.],\n",
       "       [1., 0.],\n",
       "       [0., 1.],\n",
       "       [0., 1.],\n",
       "       [0., 1.],\n",
       "       [1., 0.],\n",
       "       [1., 0.],\n",
       "       [1., 0.],\n",
       "       [0., 1.],\n",
       "       [0., 1.],\n",
       "       [0., 1.],\n",
       "       [1., 0.],\n",
       "       [0., 1.],\n",
       "       [1., 0.],\n",
       "       [0., 1.],\n",
       "       [1., 0.],\n",
       "       [0., 1.],\n",
       "       [1., 0.],\n",
       "       [1., 0.],\n",
       "       [0., 1.],\n",
       "       [0., 1.],\n",
       "       [1., 0.],\n",
       "       [0., 1.],\n",
       "       [0., 1.],\n",
       "       [0., 1.],\n",
       "       [0., 1.],\n",
       "       [0., 1.],\n",
       "       [0., 1.],\n",
       "       [0., 1.],\n",
       "       [0., 1.],\n",
       "       [1., 0.],\n",
       "       [0., 1.],\n",
       "       [1., 0.],\n",
       "       [0., 1.],\n",
       "       [0., 1.],\n",
       "       [1., 0.]])"
      ]
     },
     "execution_count": 102,
     "metadata": {},
     "output_type": "execute_result"
    }
   ],
   "source": [
    "ohe = OneHotEncoder()\n",
    "ohe.fit_transform(df[['sex']]).toarray()"
   ]
  },
  {
   "cell_type": "markdown",
   "id": "13d3d400-78ee-4624-8b74-efd9a723fda9",
   "metadata": {},
   "source": [
    "## Feature encoding with pd "
   ]
  },
  {
   "cell_type": "code",
   "execution_count": 199,
   "id": "78f42aab-409b-4420-8d3c-858b03415851",
   "metadata": {},
   "outputs": [
    {
     "data": {
      "text/html": [
       "<div>\n",
       "<style scoped>\n",
       "    .dataframe tbody tr th:only-of-type {\n",
       "        vertical-align: middle;\n",
       "    }\n",
       "\n",
       "    .dataframe tbody tr th {\n",
       "        vertical-align: top;\n",
       "    }\n",
       "\n",
       "    .dataframe thead th {\n",
       "        text-align: right;\n",
       "    }\n",
       "</style>\n",
       "<table border=\"1\" class=\"dataframe\">\n",
       "  <thead>\n",
       "    <tr style=\"text-align: right;\">\n",
       "      <th></th>\n",
       "      <th>total_bill</th>\n",
       "      <th>tip</th>\n",
       "      <th>sex</th>\n",
       "      <th>day</th>\n",
       "      <th>time</th>\n",
       "      <th>size</th>\n",
       "      <th>encoded_time</th>\n",
       "      <th>encoded_day</th>\n",
       "      <th>smoker_Yes</th>\n",
       "      <th>smoker_No</th>\n",
       "    </tr>\n",
       "  </thead>\n",
       "  <tbody>\n",
       "    <tr>\n",
       "      <th>0</th>\n",
       "      <td>16.99</td>\n",
       "      <td>1.01</td>\n",
       "      <td>Female</td>\n",
       "      <td>Sun</td>\n",
       "      <td>Dinner</td>\n",
       "      <td>2</td>\n",
       "      <td>0</td>\n",
       "      <td>3.0</td>\n",
       "      <td>False</td>\n",
       "      <td>True</td>\n",
       "    </tr>\n",
       "    <tr>\n",
       "      <th>1</th>\n",
       "      <td>10.34</td>\n",
       "      <td>1.66</td>\n",
       "      <td>Male</td>\n",
       "      <td>Sun</td>\n",
       "      <td>Dinner</td>\n",
       "      <td>3</td>\n",
       "      <td>0</td>\n",
       "      <td>3.0</td>\n",
       "      <td>False</td>\n",
       "      <td>True</td>\n",
       "    </tr>\n",
       "    <tr>\n",
       "      <th>2</th>\n",
       "      <td>21.01</td>\n",
       "      <td>3.50</td>\n",
       "      <td>Male</td>\n",
       "      <td>Sun</td>\n",
       "      <td>Dinner</td>\n",
       "      <td>3</td>\n",
       "      <td>0</td>\n",
       "      <td>3.0</td>\n",
       "      <td>False</td>\n",
       "      <td>True</td>\n",
       "    </tr>\n",
       "    <tr>\n",
       "      <th>3</th>\n",
       "      <td>23.68</td>\n",
       "      <td>3.31</td>\n",
       "      <td>Male</td>\n",
       "      <td>Sun</td>\n",
       "      <td>Dinner</td>\n",
       "      <td>2</td>\n",
       "      <td>0</td>\n",
       "      <td>3.0</td>\n",
       "      <td>False</td>\n",
       "      <td>True</td>\n",
       "    </tr>\n",
       "    <tr>\n",
       "      <th>4</th>\n",
       "      <td>24.59</td>\n",
       "      <td>3.61</td>\n",
       "      <td>Female</td>\n",
       "      <td>Sun</td>\n",
       "      <td>Dinner</td>\n",
       "      <td>4</td>\n",
       "      <td>0</td>\n",
       "      <td>3.0</td>\n",
       "      <td>False</td>\n",
       "      <td>True</td>\n",
       "    </tr>\n",
       "    <tr>\n",
       "      <th>...</th>\n",
       "      <td>...</td>\n",
       "      <td>...</td>\n",
       "      <td>...</td>\n",
       "      <td>...</td>\n",
       "      <td>...</td>\n",
       "      <td>...</td>\n",
       "      <td>...</td>\n",
       "      <td>...</td>\n",
       "      <td>...</td>\n",
       "      <td>...</td>\n",
       "    </tr>\n",
       "    <tr>\n",
       "      <th>239</th>\n",
       "      <td>29.03</td>\n",
       "      <td>5.92</td>\n",
       "      <td>Male</td>\n",
       "      <td>Sat</td>\n",
       "      <td>Dinner</td>\n",
       "      <td>3</td>\n",
       "      <td>0</td>\n",
       "      <td>2.0</td>\n",
       "      <td>False</td>\n",
       "      <td>True</td>\n",
       "    </tr>\n",
       "    <tr>\n",
       "      <th>240</th>\n",
       "      <td>27.18</td>\n",
       "      <td>2.00</td>\n",
       "      <td>Female</td>\n",
       "      <td>Sat</td>\n",
       "      <td>Dinner</td>\n",
       "      <td>2</td>\n",
       "      <td>0</td>\n",
       "      <td>2.0</td>\n",
       "      <td>True</td>\n",
       "      <td>False</td>\n",
       "    </tr>\n",
       "    <tr>\n",
       "      <th>241</th>\n",
       "      <td>22.67</td>\n",
       "      <td>2.00</td>\n",
       "      <td>Male</td>\n",
       "      <td>Sat</td>\n",
       "      <td>Dinner</td>\n",
       "      <td>2</td>\n",
       "      <td>0</td>\n",
       "      <td>2.0</td>\n",
       "      <td>True</td>\n",
       "      <td>False</td>\n",
       "    </tr>\n",
       "    <tr>\n",
       "      <th>242</th>\n",
       "      <td>17.82</td>\n",
       "      <td>1.75</td>\n",
       "      <td>Male</td>\n",
       "      <td>Sat</td>\n",
       "      <td>Dinner</td>\n",
       "      <td>2</td>\n",
       "      <td>0</td>\n",
       "      <td>2.0</td>\n",
       "      <td>False</td>\n",
       "      <td>True</td>\n",
       "    </tr>\n",
       "    <tr>\n",
       "      <th>243</th>\n",
       "      <td>18.78</td>\n",
       "      <td>3.00</td>\n",
       "      <td>Female</td>\n",
       "      <td>Thur</td>\n",
       "      <td>Dinner</td>\n",
       "      <td>2</td>\n",
       "      <td>0</td>\n",
       "      <td>0.0</td>\n",
       "      <td>False</td>\n",
       "      <td>True</td>\n",
       "    </tr>\n",
       "  </tbody>\n",
       "</table>\n",
       "<p>244 rows × 10 columns</p>\n",
       "</div>"
      ],
      "text/plain": [
       "     total_bill   tip     sex   day    time  size  encoded_time  encoded_day  \\\n",
       "0         16.99  1.01  Female   Sun  Dinner     2             0          3.0   \n",
       "1         10.34  1.66    Male   Sun  Dinner     3             0          3.0   \n",
       "2         21.01  3.50    Male   Sun  Dinner     3             0          3.0   \n",
       "3         23.68  3.31    Male   Sun  Dinner     2             0          3.0   \n",
       "4         24.59  3.61  Female   Sun  Dinner     4             0          3.0   \n",
       "..          ...   ...     ...   ...     ...   ...           ...          ...   \n",
       "239       29.03  5.92    Male   Sat  Dinner     3             0          2.0   \n",
       "240       27.18  2.00  Female   Sat  Dinner     2             0          2.0   \n",
       "241       22.67  2.00    Male   Sat  Dinner     2             0          2.0   \n",
       "242       17.82  1.75    Male   Sat  Dinner     2             0          2.0   \n",
       "243       18.78  3.00  Female  Thur  Dinner     2             0          0.0   \n",
       "\n",
       "     smoker_Yes  smoker_No  \n",
       "0         False       True  \n",
       "1         False       True  \n",
       "2         False       True  \n",
       "3         False       True  \n",
       "4         False       True  \n",
       "..          ...        ...  \n",
       "239       False       True  \n",
       "240        True      False  \n",
       "241        True      False  \n",
       "242       False       True  \n",
       "243       False       True  \n",
       "\n",
       "[244 rows x 10 columns]"
      ]
     },
     "execution_count": 199,
     "metadata": {},
     "output_type": "execute_result"
    }
   ],
   "source": [
    "pd.get_dummies(df,columns=['smoker']"
   ]
  },
  {
   "cell_type": "markdown",
   "id": "1b8a7c92-9014-4413-8eb1-4a43df259c3e",
   "metadata": {},
   "source": [
    "\n",
    "## Discretization\n",
    "\n",
    "Data discretization is a preprocessing technique used to transform continuous or numerical data into discrete categories or bins. This process can be particularly useful for machine learning algorithms that handle categorical data more effectively than continuous data. It can also help to improve model interpretability and handle outliers more robustly.\n"
   ]
  },
  {
   "cell_type": "code",
   "execution_count": 202,
   "id": "787320bb-7196-4a7f-a01a-da4f8e8956bd",
   "metadata": {},
   "outputs": [
    {
     "data": {
      "text/html": [
       "<div>\n",
       "<style scoped>\n",
       "    .dataframe tbody tr th:only-of-type {\n",
       "        vertical-align: middle;\n",
       "    }\n",
       "\n",
       "    .dataframe tbody tr th {\n",
       "        vertical-align: top;\n",
       "    }\n",
       "\n",
       "    .dataframe thead th {\n",
       "        text-align: right;\n",
       "    }\n",
       "</style>\n",
       "<table border=\"1\" class=\"dataframe\">\n",
       "  <thead>\n",
       "    <tr style=\"text-align: right;\">\n",
       "      <th></th>\n",
       "      <th>survived</th>\n",
       "      <th>pclass</th>\n",
       "      <th>sex</th>\n",
       "      <th>age</th>\n",
       "      <th>sibsp</th>\n",
       "      <th>parch</th>\n",
       "      <th>fare</th>\n",
       "      <th>embarked</th>\n",
       "      <th>class</th>\n",
       "      <th>who</th>\n",
       "      <th>adult_male</th>\n",
       "      <th>deck</th>\n",
       "      <th>embark_town</th>\n",
       "      <th>alive</th>\n",
       "      <th>alone</th>\n",
       "    </tr>\n",
       "  </thead>\n",
       "  <tbody>\n",
       "    <tr>\n",
       "      <th>0</th>\n",
       "      <td>0</td>\n",
       "      <td>3</td>\n",
       "      <td>male</td>\n",
       "      <td>22.0</td>\n",
       "      <td>1</td>\n",
       "      <td>0</td>\n",
       "      <td>7.2500</td>\n",
       "      <td>S</td>\n",
       "      <td>Third</td>\n",
       "      <td>man</td>\n",
       "      <td>True</td>\n",
       "      <td>NaN</td>\n",
       "      <td>Southampton</td>\n",
       "      <td>no</td>\n",
       "      <td>False</td>\n",
       "    </tr>\n",
       "    <tr>\n",
       "      <th>1</th>\n",
       "      <td>1</td>\n",
       "      <td>1</td>\n",
       "      <td>female</td>\n",
       "      <td>38.0</td>\n",
       "      <td>1</td>\n",
       "      <td>0</td>\n",
       "      <td>71.2833</td>\n",
       "      <td>C</td>\n",
       "      <td>First</td>\n",
       "      <td>woman</td>\n",
       "      <td>False</td>\n",
       "      <td>C</td>\n",
       "      <td>Cherbourg</td>\n",
       "      <td>yes</td>\n",
       "      <td>False</td>\n",
       "    </tr>\n",
       "    <tr>\n",
       "      <th>2</th>\n",
       "      <td>1</td>\n",
       "      <td>3</td>\n",
       "      <td>female</td>\n",
       "      <td>26.0</td>\n",
       "      <td>0</td>\n",
       "      <td>0</td>\n",
       "      <td>7.9250</td>\n",
       "      <td>S</td>\n",
       "      <td>Third</td>\n",
       "      <td>woman</td>\n",
       "      <td>False</td>\n",
       "      <td>NaN</td>\n",
       "      <td>Southampton</td>\n",
       "      <td>yes</td>\n",
       "      <td>True</td>\n",
       "    </tr>\n",
       "    <tr>\n",
       "      <th>3</th>\n",
       "      <td>1</td>\n",
       "      <td>1</td>\n",
       "      <td>female</td>\n",
       "      <td>35.0</td>\n",
       "      <td>1</td>\n",
       "      <td>0</td>\n",
       "      <td>53.1000</td>\n",
       "      <td>S</td>\n",
       "      <td>First</td>\n",
       "      <td>woman</td>\n",
       "      <td>False</td>\n",
       "      <td>C</td>\n",
       "      <td>Southampton</td>\n",
       "      <td>yes</td>\n",
       "      <td>False</td>\n",
       "    </tr>\n",
       "    <tr>\n",
       "      <th>4</th>\n",
       "      <td>0</td>\n",
       "      <td>3</td>\n",
       "      <td>male</td>\n",
       "      <td>35.0</td>\n",
       "      <td>0</td>\n",
       "      <td>0</td>\n",
       "      <td>8.0500</td>\n",
       "      <td>S</td>\n",
       "      <td>Third</td>\n",
       "      <td>man</td>\n",
       "      <td>True</td>\n",
       "      <td>NaN</td>\n",
       "      <td>Southampton</td>\n",
       "      <td>no</td>\n",
       "      <td>True</td>\n",
       "    </tr>\n",
       "  </tbody>\n",
       "</table>\n",
       "</div>"
      ],
      "text/plain": [
       "   survived  pclass     sex   age  sibsp  parch     fare embarked  class  \\\n",
       "0         0       3    male  22.0      1      0   7.2500        S  Third   \n",
       "1         1       1  female  38.0      1      0  71.2833        C  First   \n",
       "2         1       3  female  26.0      0      0   7.9250        S  Third   \n",
       "3         1       1  female  35.0      1      0  53.1000        S  First   \n",
       "4         0       3    male  35.0      0      0   8.0500        S  Third   \n",
       "\n",
       "     who  adult_male deck  embark_town alive  alone  \n",
       "0    man        True  NaN  Southampton    no  False  \n",
       "1  woman       False    C    Cherbourg   yes  False  \n",
       "2  woman       False  NaN  Southampton   yes   True  \n",
       "3  woman       False    C  Southampton   yes  False  \n",
       "4    man        True  NaN  Southampton    no   True  "
      ]
     },
     "execution_count": 202,
     "metadata": {},
     "output_type": "execute_result"
    }
   ],
   "source": [
    "\n",
    "\n",
    "import pandas as pd\n",
    "import seaborn as sns\n",
    "from sklearn.preprocessing import KBinsDiscretizer\n",
    "\n",
    "\n",
    "df = sns.load_dataset('titanic')\n",
    "df.head()\n",
    "\n",
    "\n"
   ]
  },
  {
   "cell_type": "code",
   "execution_count": 204,
   "id": "8f4b3591-641b-4090-9ce4-be6d8fab88e4",
   "metadata": {},
   "outputs": [],
   "source": [
    "\n",
    "\n",
    "# impute missing values\n",
    "df['age'] = df['age'].fillna(df['age'].median())\n",
    "df['fare'] = df['fare'].fillna(df['fare'].median())\n",
    "\n"
   ]
  },
  {
   "cell_type": "code",
   "execution_count": 206,
   "id": "ca398baa-2267-4b5e-bec5-4d9cb9e61713",
   "metadata": {},
   "outputs": [
    {
     "data": {
      "text/plain": [
       "<Axes: xlabel='age', ylabel='Count'>"
      ]
     },
     "execution_count": 206,
     "metadata": {},
     "output_type": "execute_result"
    },
    {
     "data": {
      "image/png": "[encoded data removed]",
      "text/plain": [
       "<Figure size 640x480 with 1 Axes>"
      ]
     },
     "metadata": {},
     "output_type": "display_data"
    }
   ],
   "source": [
    "\n",
    "\n",
    "sns.histplot(df['age'], kde=True)\n",
    "\n"
   ]
  },
  {
   "cell_type": "code",
   "execution_count": 208,
   "id": "39ce6737-7ceb-48da-b9b4-60c7c3347492",
   "metadata": {},
   "outputs": [
    {
     "data": {
      "text/html": [
       "<div>\n",
       "<style scoped>\n",
       "    .dataframe tbody tr th:only-of-type {\n",
       "        vertical-align: middle;\n",
       "    }\n",
       "\n",
       "    .dataframe tbody tr th {\n",
       "        vertical-align: top;\n",
       "    }\n",
       "\n",
       "    .dataframe thead th {\n",
       "        text-align: right;\n",
       "    }\n",
       "</style>\n",
       "<table border=\"1\" class=\"dataframe\">\n",
       "  <thead>\n",
       "    <tr style=\"text-align: right;\">\n",
       "      <th></th>\n",
       "      <th>survived</th>\n",
       "      <th>pclass</th>\n",
       "      <th>sex</th>\n",
       "      <th>age</th>\n",
       "      <th>sibsp</th>\n",
       "      <th>parch</th>\n",
       "      <th>fare</th>\n",
       "      <th>embarked</th>\n",
       "      <th>class</th>\n",
       "      <th>who</th>\n",
       "      <th>adult_male</th>\n",
       "      <th>deck</th>\n",
       "      <th>embark_town</th>\n",
       "      <th>alive</th>\n",
       "      <th>alone</th>\n",
       "      <th>age_bin</th>\n",
       "    </tr>\n",
       "  </thead>\n",
       "  <tbody>\n",
       "    <tr>\n",
       "      <th>0</th>\n",
       "      <td>0</td>\n",
       "      <td>3</td>\n",
       "      <td>male</td>\n",
       "      <td>22.0</td>\n",
       "      <td>1</td>\n",
       "      <td>0</td>\n",
       "      <td>7.2500</td>\n",
       "      <td>S</td>\n",
       "      <td>Third</td>\n",
       "      <td>man</td>\n",
       "      <td>True</td>\n",
       "      <td>NaN</td>\n",
       "      <td>Southampton</td>\n",
       "      <td>no</td>\n",
       "      <td>False</td>\n",
       "      <td>0.0</td>\n",
       "    </tr>\n",
       "    <tr>\n",
       "      <th>1</th>\n",
       "      <td>1</td>\n",
       "      <td>1</td>\n",
       "      <td>female</td>\n",
       "      <td>38.0</td>\n",
       "      <td>1</td>\n",
       "      <td>0</td>\n",
       "      <td>71.2833</td>\n",
       "      <td>C</td>\n",
       "      <td>First</td>\n",
       "      <td>woman</td>\n",
       "      <td>False</td>\n",
       "      <td>C</td>\n",
       "      <td>Cherbourg</td>\n",
       "      <td>yes</td>\n",
       "      <td>False</td>\n",
       "      <td>1.0</td>\n",
       "    </tr>\n",
       "    <tr>\n",
       "      <th>2</th>\n",
       "      <td>1</td>\n",
       "      <td>3</td>\n",
       "      <td>female</td>\n",
       "      <td>26.0</td>\n",
       "      <td>0</td>\n",
       "      <td>0</td>\n",
       "      <td>7.9250</td>\n",
       "      <td>S</td>\n",
       "      <td>Third</td>\n",
       "      <td>woman</td>\n",
       "      <td>False</td>\n",
       "      <td>NaN</td>\n",
       "      <td>Southampton</td>\n",
       "      <td>yes</td>\n",
       "      <td>True</td>\n",
       "      <td>0.0</td>\n",
       "    </tr>\n",
       "    <tr>\n",
       "      <th>3</th>\n",
       "      <td>1</td>\n",
       "      <td>1</td>\n",
       "      <td>female</td>\n",
       "      <td>35.0</td>\n",
       "      <td>1</td>\n",
       "      <td>0</td>\n",
       "      <td>53.1000</td>\n",
       "      <td>S</td>\n",
       "      <td>First</td>\n",
       "      <td>woman</td>\n",
       "      <td>False</td>\n",
       "      <td>C</td>\n",
       "      <td>Southampton</td>\n",
       "      <td>yes</td>\n",
       "      <td>False</td>\n",
       "      <td>1.0</td>\n",
       "    </tr>\n",
       "    <tr>\n",
       "      <th>4</th>\n",
       "      <td>0</td>\n",
       "      <td>3</td>\n",
       "      <td>male</td>\n",
       "      <td>35.0</td>\n",
       "      <td>0</td>\n",
       "      <td>0</td>\n",
       "      <td>8.0500</td>\n",
       "      <td>S</td>\n",
       "      <td>Third</td>\n",
       "      <td>man</td>\n",
       "      <td>True</td>\n",
       "      <td>NaN</td>\n",
       "      <td>Southampton</td>\n",
       "      <td>no</td>\n",
       "      <td>True</td>\n",
       "      <td>1.0</td>\n",
       "    </tr>\n",
       "  </tbody>\n",
       "</table>\n",
       "</div>"
      ],
      "text/plain": [
       "   survived  pclass     sex   age  sibsp  parch     fare embarked  class  \\\n",
       "0         0       3    male  22.0      1      0   7.2500        S  Third   \n",
       "1         1       1  female  38.0      1      0  71.2833        C  First   \n",
       "2         1       3  female  26.0      0      0   7.9250        S  Third   \n",
       "3         1       1  female  35.0      1      0  53.1000        S  First   \n",
       "4         0       3    male  35.0      0      0   8.0500        S  Third   \n",
       "\n",
       "     who  adult_male deck  embark_town alive  alone  age_bin  \n",
       "0    man        True  NaN  Southampton    no  False      0.0  \n",
       "1  woman       False    C    Cherbourg   yes  False      1.0  \n",
       "2  woman       False  NaN  Southampton   yes   True      0.0  \n",
       "3  woman       False    C  Southampton   yes  False      1.0  \n",
       "4    man        True  NaN  Southampton    no   True      1.0  "
      ]
     },
     "execution_count": 208,
     "metadata": {},
     "output_type": "execute_result"
    }
   ],
   "source": [
    "age_discretizer = KBinsDiscretizer(n_bins=3, encode='ordinal', strategy='uniform')\n",
    "df['age_bin'] = age_discretizer.fit_transform(df[['age']])\n",
    "df.head()\n"
   ]
  },
  {
   "cell_type": "code",
   "execution_count": 210,
   "id": "8c764f22-94c2-492c-b9bb-00597353f83d",
   "metadata": {},
   "outputs": [
    {
     "data": {
      "text/plain": [
       "<Axes: xlabel='age', ylabel='Count'>"
      ]
     },
     "execution_count": 210,
     "metadata": {},
     "output_type": "execute_result"
    },
    {
     "data": {
      "image/png": "[encoded data removed]",
      "text/plain": [
       "<Figure size 640x480 with 1 Axes>"
      ]
     },
     "metadata": {},
     "output_type": "display_data"
    }
   ],
   "source": [
    "\n",
    "\n",
    "sns.histplot(df, x='age', hue = 'age_bin')\n",
    "\n"
   ]
  },
  {
   "cell_type": "code",
   "execution_count": 212,
   "id": "99fc9286-aa6b-4081-aa02-f2c401686863",
   "metadata": {},
   "outputs": [
    {
     "data": {
      "text/plain": [
       "<Axes: xlabel='age', ylabel='Count'>"
      ]
     },
     "execution_count": 212,
     "metadata": {},
     "output_type": "execute_result"
    },
    {
     "data": {
      "image/png": "[encoded data removed]",
      "text/plain": [
       "<Figure size 640x480 with 1 Axes>"
      ]
     },
     "metadata": {},
     "output_type": "display_data"
    }
   ],
   "source": [
    "\n",
    "\n",
    "# pandas method for manual binning\n",
    "df['age_bin2'] = pd.cut(df['age'], bins=3, labels=[0,1,2])\n",
    "sns.histplot(df, x='age', hue = 'age_bin2')\n",
    "\n"
   ]
  },
  {
   "cell_type": "code",
   "execution_count": 214,
   "id": "bf068687-9cc5-4a8d-9099-73e77a3a75d8",
   "metadata": {},
   "outputs": [
    {
     "data": {
      "text/plain": [
       "<Axes: xlabel='age', ylabel='Count'>"
      ]
     },
     "execution_count": 214,
     "metadata": {},
     "output_type": "execute_result"
    },
    {
     "data": {
      "image/png": "[encoded data removed]",
      "text/plain": [
       "<Figure size 640x480 with 1 Axes>"
      ]
     },
     "metadata": {},
     "output_type": "display_data"
    }
   ],
   "source": [
    "\n",
    "\n",
    "\n",
    "# define the bins\n",
    "bins = [0, 10, 18, 30, 50, 80]\n",
    "labels = ['child', 'teenager', 'young adult', 'adult', 'elder']\n",
    "df['age_bin3'] = pd.cut(df['age'], bins=bins, labels=labels)\n",
    "sns.histplot(df, x='age', hue = 'age_bin3')\n",
    "\n"
   ]
  },
  {
   "cell_type": "code",
   "execution_count": null,
   "id": "884ddb1e-bf62-451f-aa5a-55cc6414e581",
   "metadata": {},
   "outputs": [],
   "source": []
  }
 ],
 "metadata": {
  "kernelspec": {
   "display_name": "Python 3 (ipykernel)",
   "language": "python",
   "name": "python3"
  },
  "language_info": {
   "codemirror_mode": {
    "name": "ipython",
    "version": 3
   },
   "file_extension": ".py",
   "mimetype": "text/x-python",
   "name": "python",
   "nbconvert_exporter": "python",
   "pygments_lexer": "ipython3",
   "version": "3.12.7"
  }
 },
 "nbformat": 4,
 "nbformat_minor": 5
}
